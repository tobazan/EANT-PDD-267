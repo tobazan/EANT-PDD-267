{
 "metadata": {
  "language_info": {
   "codemirror_mode": {
    "name": "ipython",
    "version": 3
   },
   "file_extension": ".py",
   "mimetype": "text/x-python",
   "name": "python",
   "nbconvert_exporter": "python",
   "pygments_lexer": "ipython3",
   "version": "3.8.7"
  },
  "orig_nbformat": 2,
  "kernelspec": {
   "name": "python387jvsc74a57bd01cb3c4095699f2a8cd6a12889e7edb42215ac8b2afd459e3e81282dc1470f9b2",
   "display_name": "Python 3.8.7 64-bit"
  },
  "metadata": {
   "interpreter": {
    "hash": "1cb3c4095699f2a8cd6a12889e7edb42215ac8b2afd459e3e81282dc1470f9b2"
   }
  }
 },
 "nbformat": 4,
 "nbformat_minor": 2,
 "cells": [
  {
   "source": [
    "## WORKSHOP DE SCRAPING\n",
    "\n",
    "Vamos a scrapear la web de Carrefour en busqueda de cervezas\n",
    "\n",
    "___"
   ],
   "cell_type": "markdown",
   "metadata": {}
  },
  {
   "cell_type": "code",
   "execution_count": 1,
   "metadata": {},
   "outputs": [],
   "source": [
    "from selenium import webdriver\n",
    "from time import sleep\n",
    "from bs4 import BeautifulSoup as BS\n",
    "import requests"
   ]
  },
  {
   "cell_type": "code",
   "execution_count": 2,
   "metadata": {},
   "outputs": [],
   "source": [
    "driver = webdriver.Chrome(executable_path='../../chrDriver/chromedriver.exe')\n",
    "\n",
    "url = 'https://supermercado.carrefour.com.ar/catalogsearch/result/?q=cerveza'\n",
    "driver.get(url)\n",
    "\n",
    "js_scroll_dar_posicion = '''\n",
    "    fin_de_pantalla = document.body.scrollHeight\n",
    "    window.scrollTo(0, fin_de_pantalla)\n",
    "    return fin_de_pantalla\n",
    "'''\n",
    "js_click_boton =\"\"\"\n",
    "    boton = document.querySelector('[class=\"ver-mas-productos btn meanbee-infinitescroll-button\"]')\n",
    "                               if (boton){\n",
    "                                       boton.click()\n",
    "                                    } else{\n",
    "                                        return \"Fin Paginador\"\n",
    "                                    }\n",
    "\"\"\"\n",
    "pos_actual = 0\n",
    "pos_siguiente = driver.execute_script(js_scroll_dar_posicion)\n",
    "sleep(2)\n",
    "\n",
    "while pos_actual != pos_siguiente:\n",
    "    pos_siguiente = pos_actual\n",
    "    pos_actual = driver.execute_script(js_scroll_dar_posicion)\n",
    "    sleep(2)\n",
    "    click_boton = driver.execute_script(js_click_boton)"
   ]
  },
  {
   "source": [
    "___\n",
    "\n",
    "Una vez desplegamos todo el html de la pagina procedemos a scrapear la informacion requerida\n",
    "\n",
    "___"
   ],
   "cell_type": "markdown",
   "metadata": {}
  },
  {
   "cell_type": "code",
   "execution_count": 3,
   "metadata": {},
   "outputs": [],
   "source": [
    "html = driver.execute_script(\"return document.documentElement.outerHTML\")\n",
    "dom = BS(html, features = 'html.parser')\n",
    "cervezas = dom.find_all(class_ = 'producto-info')"
   ]
  },
  {
   "cell_type": "code",
   "execution_count": 4,
   "metadata": {},
   "outputs": [],
   "source": [
    "links = [cerveza.a['href'] for cerveza in cervezas]\n",
    "\n",
    "descripcion = [cerveza.a['title'] for cerveza in cervezas]\n",
    "\n",
    "precio_reg = [cerveza.find(class_='regular-price').text.replace('Precio regular:', '').strip() for cerveza in cervezas]\n",
    "\n",
    "precio_lt = [cerveza.find(class_='precio-medida').text.strip() for cerveza in cervezas]\n",
    "\n",
    "marca = [cerveza.find(class_='brand truncate').text.strip() for cerveza in cervezas]\n"
   ]
  },
  {
   "cell_type": "code",
   "execution_count": 6,
   "metadata": {},
   "outputs": [],
   "source": [
    "#como no todos los productos tienen promo hago un manejo de excepciones\n",
    "promo = []\n",
    "desc_promo = []\n",
    "for cerveza in cervezas:\n",
    "    try:\n",
    "        promo.append(cerveza.find(class_='precio-numero').text)\n",
    "        desc_promo.append(cerveza.find(class_='precio-texto').text.replace('\\n', '').replace('   ', ''))\n",
    "    except:\n",
    "        promo.append('Null')\n",
    "        desc_promo.append('Null')"
   ]
  },
  {
   "source": [
    "___\n",
    "\n",
    "Uno de los datos requeridos solo se encuentra al desplegar el modal de cada producto\n",
    "\n",
    "Esto va a tardar bastante porque va a hacer un request por cada item\n",
    "\n",
    "___"
   ],
   "cell_type": "markdown",
   "metadata": {}
  },
  {
   "cell_type": "code",
   "execution_count": 7,
   "metadata": {},
   "outputs": [],
   "source": [
    "tipo_cerveza = []\n",
    "for link in links:\n",
    "    respuesta = requests.get(link)\n",
    "    respuesta.encoding = 'utf-8'\n",
    "    html_2 = respuesta.text\n",
    "    dom_2 = BS(html_2, features = 'html.parser')\n",
    "    try:\n",
    "        tipo_cerveza.append(dom_2.find(class_ = 'especifiacion-box').ul.li.nextSibling.nextSibling.find(class_ = 'info').text.strip())\n",
    "    except:\n",
    "        tipo_cerveza.append('Null')"
   ]
  },
  {
   "source": [
    "___\n",
    "\n",
    "Cerramos el browser de Selenium y exportamos la informacion a un CSV\n",
    "\n",
    "___"
   ],
   "cell_type": "markdown",
   "metadata": {}
  },
  {
   "cell_type": "code",
   "execution_count": 9,
   "metadata": {},
   "outputs": [],
   "source": [
    "driver.quit()\n",
    "\n",
    "with open('cervezas.csv', 'w', encoding='utf-8') as out:\n",
    "    out.write('ID, DESCRIPCION, MARCA, PRECIO REG, PRECIO PROMO, DESC PROMO, PRECIO/LT, TIPO PRODUCTO\\n')\n",
    "    for i in range(len(descripcion)):\n",
    "        out.write(f'{i+1},{descripcion[i]},{marca[i]},{precio_reg[i]},{promo[i]},{desc_promo[i]},{precio_lt[i]},{tipo_cerveza[i]}\\n')"
   ]
  }
 ]
}
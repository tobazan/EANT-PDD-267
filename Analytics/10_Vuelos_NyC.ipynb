{
  "nbformat": 4,
  "nbformat_minor": 0,
  "metadata": {
    "colab": {
      "name": "03_Dataframes_pandas_merge.ipynb",
      "provenance": [],
      "collapsed_sections": []
    },
    "kernelspec": {
      "name": "python387jvsc74a57bd01cb3c4095699f2a8cd6a12889e7edb42215ac8b2afd459e3e81282dc1470f9b2",
      "display_name": "Python 3.8.7 64-bit"
    },
    "metadata": {
      "interpreter": {
        "hash": "1cb3c4095699f2a8cd6a12889e7edb42215ac8b2afd459e3e81282dc1470f9b2"
      }
    }
  },
  "cells": [
    {
      "cell_type": "markdown",
      "metadata": {
        "id": "xukFEhNLle_K"
      },
      "source": [
        " <img src=\"https://eant.tech/imagenes/logo.png\" width=25% height=80%  >"
      ]
    },
    {
      "cell_type": "markdown",
      "metadata": {
        "id": "SNNIZymOepEv"
      },
      "source": [
        "## <img src=\"http://icons.iconarchive.com/icons/cornmanthe3rd/plex/256/Other-python-icon.png\" width=\"40\"> Ejercicio New York Flights ✈️ 🧳 🗽\n",
        "\n",
        "\n"
      ]
    },
    {
      "cell_type": "markdown",
      "metadata": {
        "id": "Als_Kjbfnrr8"
      },
      "source": [
        "<CENTER>\n",
        "<img src=\"https://img.freepik.com/free-vector/plane-fly-cloud-sky-illustration-banner-concept-travel-tourism-jet-direction-holiday-flat_159757-154.jpg?size=626&ext=jpg\" width=\"60%\">\n",
        "</CENTER>"
      ]
    },
    {
      "cell_type": "markdown",
      "metadata": {
        "id": "6HMxdzRnfNqk"
      },
      "source": [
        "Este ejercicio vamos a trabajar con los datos que se encuentran en el paquete **nycflights13**, este paquete contiene datos de las aerolíneas para todos los vuelos que pasaron por aeropuertos de Nueva York en 2013. También incluye 'metadatos' útiles sobre `aerolíneas`, `aeropuertos`, `clima` y `aviones`.\n",
        "\n",
        "Diagrama de entidad relación [DER]\n",
        "\n",
        "<center>\n",
        "<img src=\"https://i.ibb.co/TYwvDqY/nycflights.png\" alt=\"nycflights\" border=\"0\" width=\"40%\">\n",
        "</center>"
      ]
    },
    {
      "cell_type": "code",
      "metadata": {
        "id": "8lGGTiJJN2v7",
        "colab": {
          "base_uri": "https://localhost:8080/"
        },
        "outputId": "4512d5a2-4f4b-4934-c76c-cf04a5a38f2e"
      },
      "source": [
        "# INSTALAR EL PAQUETE \n",
        "!pip install nycflights13"
      ],
      "execution_count": 1,
      "outputs": [
        {
          "output_type": "stream",
          "name": "stdout",
          "text": [
            "Requirement already satisfied: nycflights13 in c:\\users\\matye\\appdata\\local\\programs\\python\\python38\\lib\\site-packages (0.0.3)\n",
            "Requirement already satisfied: pandas>=0.24.0 in c:\\users\\matye\\appdata\\local\\programs\\python\\python38\\lib\\site-packages (from nycflights13) (1.2.2)\n",
            "Requirement already satisfied: numpy>=1.16.5 in c:\\users\\matye\\appdata\\local\\programs\\python\\python38\\lib\\site-packages (from pandas>=0.24.0->nycflights13) (1.20.1)\n",
            "Requirement already satisfied: python-dateutil>=2.7.3 in c:\\users\\matye\\appdata\\roaming\\python\\python38\\site-packages (from pandas>=0.24.0->nycflights13) (2.8.1)\n",
            "Requirement already satisfied: pytz>=2017.3 in c:\\users\\matye\\appdata\\local\\programs\\python\\python38\\lib\\site-packages (from pandas>=0.24.0->nycflights13) (2021.1)\n",
            "Requirement already satisfied: six>=1.5 in c:\\users\\matye\\appdata\\roaming\\python\\python38\\site-packages (from python-dateutil>=2.7.3->pandas>=0.24.0->nycflights13) (1.15.0)\n",
            "WARNING: You are using pip version 20.2.3; however, version 21.1.2 is available.\n",
            "You should consider upgrading via the 'c:\\users\\matye\\appdata\\local\\programs\\python\\python38\\python.exe -m pip install --upgrade pip' command.\n"
          ]
        }
      ]
    },
    {
      "cell_type": "code",
      "metadata": {
        "id": "YnqLqMq4epYN"
      },
      "source": [
        "import pandas as pd\n",
        "import nycflights13 as nyc"
      ],
      "execution_count": 2,
      "outputs": []
    },
    {
      "cell_type": "markdown",
      "metadata": {
        "id": "QXUJNHl2gW3U"
      },
      "source": [
        "🔹 Importar los dataframes que estan en este paquete, los mismos deben tener los siguientes nombres: \n",
        "* `clima`,\n",
        "* `vuelos`,\n",
        "* `aerolineas`,\n",
        "* `aeropuerto`,\n",
        "* `planes`"
      ]
    },
    {
      "cell_type": "code",
      "metadata": {
        "id": "IQyJxWMzgWLL"
      },
      "source": [
        "vuelos = nyc.flights\n",
        "aerolineas = nyc.airlines\n",
        "aeropuertos = nyc.airports"
      ],
      "execution_count": 3,
      "outputs": []
    },
    {
      "cell_type": "code",
      "metadata": {
        "colab": {
          "base_uri": "https://localhost:8080/",
          "height": 106
        },
        "id": "V_MWGW5_ylLO",
        "outputId": "48dbbf1b-9959-4634-babd-a47a7ea94121"
      },
      "source": [
        "vuelos.head(2)"
      ],
      "execution_count": 4,
      "outputs": [
        {
          "output_type": "execute_result",
          "data": {
            "text/plain": [
              "   year  month  day  dep_time  sched_dep_time  dep_delay  arr_time  \\\n",
              "0  2013      1    1     517.0             515        2.0     830.0   \n",
              "1  2013      1    1     533.0             529        4.0     850.0   \n",
              "\n",
              "   sched_arr_time  arr_delay carrier  flight tailnum origin dest  air_time  \\\n",
              "0             819       11.0      UA    1545  N14228    EWR  IAH     227.0   \n",
              "1             830       20.0      UA    1714  N24211    LGA  IAH     227.0   \n",
              "\n",
              "   distance  hour  minute             time_hour  \n",
              "0      1400     5      15  2013-01-01T10:00:00Z  \n",
              "1      1416     5      29  2013-01-01T10:00:00Z  "
            ],
            "text/html": "<div>\n<style scoped>\n    .dataframe tbody tr th:only-of-type {\n        vertical-align: middle;\n    }\n\n    .dataframe tbody tr th {\n        vertical-align: top;\n    }\n\n    .dataframe thead th {\n        text-align: right;\n    }\n</style>\n<table border=\"1\" class=\"dataframe\">\n  <thead>\n    <tr style=\"text-align: right;\">\n      <th></th>\n      <th>year</th>\n      <th>month</th>\n      <th>day</th>\n      <th>dep_time</th>\n      <th>sched_dep_time</th>\n      <th>dep_delay</th>\n      <th>arr_time</th>\n      <th>sched_arr_time</th>\n      <th>arr_delay</th>\n      <th>carrier</th>\n      <th>flight</th>\n      <th>tailnum</th>\n      <th>origin</th>\n      <th>dest</th>\n      <th>air_time</th>\n      <th>distance</th>\n      <th>hour</th>\n      <th>minute</th>\n      <th>time_hour</th>\n    </tr>\n  </thead>\n  <tbody>\n    <tr>\n      <th>0</th>\n      <td>2013</td>\n      <td>1</td>\n      <td>1</td>\n      <td>517.0</td>\n      <td>515</td>\n      <td>2.0</td>\n      <td>830.0</td>\n      <td>819</td>\n      <td>11.0</td>\n      <td>UA</td>\n      <td>1545</td>\n      <td>N14228</td>\n      <td>EWR</td>\n      <td>IAH</td>\n      <td>227.0</td>\n      <td>1400</td>\n      <td>5</td>\n      <td>15</td>\n      <td>2013-01-01T10:00:00Z</td>\n    </tr>\n    <tr>\n      <th>1</th>\n      <td>2013</td>\n      <td>1</td>\n      <td>1</td>\n      <td>533.0</td>\n      <td>529</td>\n      <td>4.0</td>\n      <td>850.0</td>\n      <td>830</td>\n      <td>20.0</td>\n      <td>UA</td>\n      <td>1714</td>\n      <td>N24211</td>\n      <td>LGA</td>\n      <td>IAH</td>\n      <td>227.0</td>\n      <td>1416</td>\n      <td>5</td>\n      <td>29</td>\n      <td>2013-01-01T10:00:00Z</td>\n    </tr>\n  </tbody>\n</table>\n</div>"
          },
          "metadata": {},
          "execution_count": 4
        }
      ]
    },
    {
      "cell_type": "code",
      "metadata": {
        "colab": {
          "base_uri": "https://localhost:8080/",
          "height": 106
        },
        "id": "fetGVjnEyoFD",
        "outputId": "59441a22-9364-44c1-ee23-3f56de0475cf"
      },
      "source": [
        "aerolineas.head(2)"
      ],
      "execution_count": 5,
      "outputs": [
        {
          "output_type": "execute_result",
          "data": {
            "text/plain": [
              "  carrier                    name\n",
              "0      9E       Endeavor Air Inc.\n",
              "1      AA  American Airlines Inc."
            ],
            "text/html": "<div>\n<style scoped>\n    .dataframe tbody tr th:only-of-type {\n        vertical-align: middle;\n    }\n\n    .dataframe tbody tr th {\n        vertical-align: top;\n    }\n\n    .dataframe thead th {\n        text-align: right;\n    }\n</style>\n<table border=\"1\" class=\"dataframe\">\n  <thead>\n    <tr style=\"text-align: right;\">\n      <th></th>\n      <th>carrier</th>\n      <th>name</th>\n    </tr>\n  </thead>\n  <tbody>\n    <tr>\n      <th>0</th>\n      <td>9E</td>\n      <td>Endeavor Air Inc.</td>\n    </tr>\n    <tr>\n      <th>1</th>\n      <td>AA</td>\n      <td>American Airlines Inc.</td>\n    </tr>\n  </tbody>\n</table>\n</div>"
          },
          "metadata": {},
          "execution_count": 5
        }
      ]
    },
    {
      "cell_type": "code",
      "metadata": {
        "colab": {
          "base_uri": "https://localhost:8080/",
          "height": 106
        },
        "id": "bbQCDlHjyqcU",
        "outputId": "b4926529-0e3a-4838-a175-5fd3450a9fff"
      },
      "source": [
        "aeropuertos.head(2)"
      ],
      "execution_count": 6,
      "outputs": [
        {
          "output_type": "execute_result",
          "data": {
            "text/plain": [
              "   faa                           name        lat        lon   alt  tz dst  \\\n",
              "0  04G              Lansdowne Airport  41.130472 -80.619583  1044  -5   A   \n",
              "1  06A  Moton Field Municipal Airport  32.460572 -85.680028   264  -6   A   \n",
              "\n",
              "              tzone  \n",
              "0  America/New_York  \n",
              "1   America/Chicago  "
            ],
            "text/html": "<div>\n<style scoped>\n    .dataframe tbody tr th:only-of-type {\n        vertical-align: middle;\n    }\n\n    .dataframe tbody tr th {\n        vertical-align: top;\n    }\n\n    .dataframe thead th {\n        text-align: right;\n    }\n</style>\n<table border=\"1\" class=\"dataframe\">\n  <thead>\n    <tr style=\"text-align: right;\">\n      <th></th>\n      <th>faa</th>\n      <th>name</th>\n      <th>lat</th>\n      <th>lon</th>\n      <th>alt</th>\n      <th>tz</th>\n      <th>dst</th>\n      <th>tzone</th>\n    </tr>\n  </thead>\n  <tbody>\n    <tr>\n      <th>0</th>\n      <td>04G</td>\n      <td>Lansdowne Airport</td>\n      <td>41.130472</td>\n      <td>-80.619583</td>\n      <td>1044</td>\n      <td>-5</td>\n      <td>A</td>\n      <td>America/New_York</td>\n    </tr>\n    <tr>\n      <th>1</th>\n      <td>06A</td>\n      <td>Moton Field Municipal Airport</td>\n      <td>32.460572</td>\n      <td>-85.680028</td>\n      <td>264</td>\n      <td>-6</td>\n      <td>A</td>\n      <td>America/Chicago</td>\n    </tr>\n  </tbody>\n</table>\n</div>"
          },
          "metadata": {},
          "execution_count": 6
        }
      ]
    },
    {
      "cell_type": "markdown",
      "metadata": {
        "id": "ArdDpprBlk-q"
      },
      "source": [
        "📝 Recordemos los tipos de joins que podiamos realizar en **sql**\n",
        "\n",
        "<center>\n",
        "<img src=\"https://estradawebgroup.com/ImagesUpload/sql-joins.jpg\" width=\"40%\">\n",
        "</center>"
      ]
    },
    {
      "cell_type": "markdown",
      "metadata": {
        "id": "KP9zei-viX2m"
      },
      "source": [
        "🔹 Generar un dataframe que contenga los datos de los vuelos y que contenga una columna con el nombre de la aerolinea.\n",
        "El nombre de la columna nueva debe ser `aerolinea_nombre`"
      ]
    },
    {
      "cell_type": "code",
      "metadata": {
        "id": "8Qebh6-Eko1X",
        "colab": {
          "base_uri": "https://localhost:8080/",
          "height": 106
        },
        "outputId": "6a4e0e1a-8435-4554-de13-010e0340cd27"
      },
      "source": [
        "aerolineas.head(2)"
      ],
      "execution_count": 7,
      "outputs": [
        {
          "output_type": "execute_result",
          "data": {
            "text/plain": [
              "  carrier                    name\n",
              "0      9E       Endeavor Air Inc.\n",
              "1      AA  American Airlines Inc."
            ],
            "text/html": "<div>\n<style scoped>\n    .dataframe tbody tr th:only-of-type {\n        vertical-align: middle;\n    }\n\n    .dataframe tbody tr th {\n        vertical-align: top;\n    }\n\n    .dataframe thead th {\n        text-align: right;\n    }\n</style>\n<table border=\"1\" class=\"dataframe\">\n  <thead>\n    <tr style=\"text-align: right;\">\n      <th></th>\n      <th>carrier</th>\n      <th>name</th>\n    </tr>\n  </thead>\n  <tbody>\n    <tr>\n      <th>0</th>\n      <td>9E</td>\n      <td>Endeavor Air Inc.</td>\n    </tr>\n    <tr>\n      <th>1</th>\n      <td>AA</td>\n      <td>American Airlines Inc.</td>\n    </tr>\n  </tbody>\n</table>\n</div>"
          },
          "metadata": {},
          "execution_count": 7
        }
      ]
    },
    {
      "cell_type": "code",
      "metadata": {
        "colab": {
          "base_uri": "https://localhost:8080/",
          "height": 516
        },
        "id": "G_LfLfU0z17f",
        "outputId": "9d12d616-da06-425c-89a9-570aa71d10d2"
      },
      "source": [
        "aerolineas.rename({\"name\":\"aerolinea_nombre\"}, axis=1, inplace = True)"
      ],
      "execution_count": 8,
      "outputs": []
    },
    {
      "cell_type": "code",
      "metadata": {
        "colab": {
          "base_uri": "https://localhost:8080/",
          "height": 232
        },
        "id": "df7UZQ9p1a99",
        "outputId": "76e3fc00-c0e1-49e1-bbe3-82c7d1915558"
      },
      "source": [
        "df_vuelos = vuelos.merge(aerolineas, \n",
        "             how = \"left\",\n",
        "             on =\"carrier\")\n",
        "df_vuelos.head(4)"
      ],
      "execution_count": 9,
      "outputs": [
        {
          "output_type": "execute_result",
          "data": {
            "text/plain": [
              "   year  month  day  dep_time  sched_dep_time  dep_delay  arr_time  \\\n",
              "0  2013      1    1     517.0             515        2.0     830.0   \n",
              "1  2013      1    1     533.0             529        4.0     850.0   \n",
              "2  2013      1    1     542.0             540        2.0     923.0   \n",
              "3  2013      1    1     544.0             545       -1.0    1004.0   \n",
              "\n",
              "   sched_arr_time  arr_delay carrier  flight tailnum origin dest  air_time  \\\n",
              "0             819       11.0      UA    1545  N14228    EWR  IAH     227.0   \n",
              "1             830       20.0      UA    1714  N24211    LGA  IAH     227.0   \n",
              "2             850       33.0      AA    1141  N619AA    JFK  MIA     160.0   \n",
              "3            1022      -18.0      B6     725  N804JB    JFK  BQN     183.0   \n",
              "\n",
              "   distance  hour  minute             time_hour        aerolinea_nombre  \n",
              "0      1400     5      15  2013-01-01T10:00:00Z   United Air Lines Inc.  \n",
              "1      1416     5      29  2013-01-01T10:00:00Z   United Air Lines Inc.  \n",
              "2      1089     5      40  2013-01-01T10:00:00Z  American Airlines Inc.  \n",
              "3      1576     5      45  2013-01-01T10:00:00Z         JetBlue Airways  "
            ],
            "text/html": "<div>\n<style scoped>\n    .dataframe tbody tr th:only-of-type {\n        vertical-align: middle;\n    }\n\n    .dataframe tbody tr th {\n        vertical-align: top;\n    }\n\n    .dataframe thead th {\n        text-align: right;\n    }\n</style>\n<table border=\"1\" class=\"dataframe\">\n  <thead>\n    <tr style=\"text-align: right;\">\n      <th></th>\n      <th>year</th>\n      <th>month</th>\n      <th>day</th>\n      <th>dep_time</th>\n      <th>sched_dep_time</th>\n      <th>dep_delay</th>\n      <th>arr_time</th>\n      <th>sched_arr_time</th>\n      <th>arr_delay</th>\n      <th>carrier</th>\n      <th>flight</th>\n      <th>tailnum</th>\n      <th>origin</th>\n      <th>dest</th>\n      <th>air_time</th>\n      <th>distance</th>\n      <th>hour</th>\n      <th>minute</th>\n      <th>time_hour</th>\n      <th>aerolinea_nombre</th>\n    </tr>\n  </thead>\n  <tbody>\n    <tr>\n      <th>0</th>\n      <td>2013</td>\n      <td>1</td>\n      <td>1</td>\n      <td>517.0</td>\n      <td>515</td>\n      <td>2.0</td>\n      <td>830.0</td>\n      <td>819</td>\n      <td>11.0</td>\n      <td>UA</td>\n      <td>1545</td>\n      <td>N14228</td>\n      <td>EWR</td>\n      <td>IAH</td>\n      <td>227.0</td>\n      <td>1400</td>\n      <td>5</td>\n      <td>15</td>\n      <td>2013-01-01T10:00:00Z</td>\n      <td>United Air Lines Inc.</td>\n    </tr>\n    <tr>\n      <th>1</th>\n      <td>2013</td>\n      <td>1</td>\n      <td>1</td>\n      <td>533.0</td>\n      <td>529</td>\n      <td>4.0</td>\n      <td>850.0</td>\n      <td>830</td>\n      <td>20.0</td>\n      <td>UA</td>\n      <td>1714</td>\n      <td>N24211</td>\n      <td>LGA</td>\n      <td>IAH</td>\n      <td>227.0</td>\n      <td>1416</td>\n      <td>5</td>\n      <td>29</td>\n      <td>2013-01-01T10:00:00Z</td>\n      <td>United Air Lines Inc.</td>\n    </tr>\n    <tr>\n      <th>2</th>\n      <td>2013</td>\n      <td>1</td>\n      <td>1</td>\n      <td>542.0</td>\n      <td>540</td>\n      <td>2.0</td>\n      <td>923.0</td>\n      <td>850</td>\n      <td>33.0</td>\n      <td>AA</td>\n      <td>1141</td>\n      <td>N619AA</td>\n      <td>JFK</td>\n      <td>MIA</td>\n      <td>160.0</td>\n      <td>1089</td>\n      <td>5</td>\n      <td>40</td>\n      <td>2013-01-01T10:00:00Z</td>\n      <td>American Airlines Inc.</td>\n    </tr>\n    <tr>\n      <th>3</th>\n      <td>2013</td>\n      <td>1</td>\n      <td>1</td>\n      <td>544.0</td>\n      <td>545</td>\n      <td>-1.0</td>\n      <td>1004.0</td>\n      <td>1022</td>\n      <td>-18.0</td>\n      <td>B6</td>\n      <td>725</td>\n      <td>N804JB</td>\n      <td>JFK</td>\n      <td>BQN</td>\n      <td>183.0</td>\n      <td>1576</td>\n      <td>5</td>\n      <td>45</td>\n      <td>2013-01-01T10:00:00Z</td>\n      <td>JetBlue Airways</td>\n    </tr>\n  </tbody>\n</table>\n</div>"
          },
          "metadata": {},
          "execution_count": 9
        }
      ]
    },
    {
      "cell_type": "markdown",
      "metadata": {
        "id": "DXgnBvVBmgrs"
      },
      "source": [
        "🔹 Modificar el dataset generado en el paso anterior para agregar dos columnas que contenga el nombre de la aeropuerto destino y origen.\n",
        "El nombre de la columna nueva debe ser `aeropuerto_dest` y `aeropuerto_origen`"
      ]
    },
    {
      "cell_type": "code",
      "metadata": {
        "colab": {
          "base_uri": "https://localhost:8080/",
          "height": 399
        },
        "id": "NufacHDr4nUL",
        "outputId": "1bb1a1cd-d24f-4a9b-cafe-6d20508d731a"
      },
      "source": [
        "aero_dest = aeropuertos[[\"faa\", \"name\"]].rename({\"name\": \"aeropuerto_dest\"}, axis= 1)\n",
        "aero_dest"
      ],
      "execution_count": 10,
      "outputs": [
        {
          "output_type": "execute_result",
          "data": {
            "text/plain": [
              "      faa                aeropuerto_dest\n",
              "0     04G              Lansdowne Airport\n",
              "1     06A  Moton Field Municipal Airport\n",
              "2     06C            Schaumburg Regional\n",
              "3     06N                Randall Airport\n",
              "4     09J          Jekyll Island Airport\n",
              "...   ...                            ...\n",
              "1453  ZUN                     Black Rock\n",
              "1454  ZVE         New Haven Rail Station\n",
              "1455  ZWI      Wilmington Amtrak Station\n",
              "1456  ZWU       Washington Union Station\n",
              "1457  ZYP                   Penn Station\n",
              "\n",
              "[1458 rows x 2 columns]"
            ],
            "text/html": "<div>\n<style scoped>\n    .dataframe tbody tr th:only-of-type {\n        vertical-align: middle;\n    }\n\n    .dataframe tbody tr th {\n        vertical-align: top;\n    }\n\n    .dataframe thead th {\n        text-align: right;\n    }\n</style>\n<table border=\"1\" class=\"dataframe\">\n  <thead>\n    <tr style=\"text-align: right;\">\n      <th></th>\n      <th>faa</th>\n      <th>aeropuerto_dest</th>\n    </tr>\n  </thead>\n  <tbody>\n    <tr>\n      <th>0</th>\n      <td>04G</td>\n      <td>Lansdowne Airport</td>\n    </tr>\n    <tr>\n      <th>1</th>\n      <td>06A</td>\n      <td>Moton Field Municipal Airport</td>\n    </tr>\n    <tr>\n      <th>2</th>\n      <td>06C</td>\n      <td>Schaumburg Regional</td>\n    </tr>\n    <tr>\n      <th>3</th>\n      <td>06N</td>\n      <td>Randall Airport</td>\n    </tr>\n    <tr>\n      <th>4</th>\n      <td>09J</td>\n      <td>Jekyll Island Airport</td>\n    </tr>\n    <tr>\n      <th>...</th>\n      <td>...</td>\n      <td>...</td>\n    </tr>\n    <tr>\n      <th>1453</th>\n      <td>ZUN</td>\n      <td>Black Rock</td>\n    </tr>\n    <tr>\n      <th>1454</th>\n      <td>ZVE</td>\n      <td>New Haven Rail Station</td>\n    </tr>\n    <tr>\n      <th>1455</th>\n      <td>ZWI</td>\n      <td>Wilmington Amtrak Station</td>\n    </tr>\n    <tr>\n      <th>1456</th>\n      <td>ZWU</td>\n      <td>Washington Union Station</td>\n    </tr>\n    <tr>\n      <th>1457</th>\n      <td>ZYP</td>\n      <td>Penn Station</td>\n    </tr>\n  </tbody>\n</table>\n<p>1458 rows × 2 columns</p>\n</div>"
          },
          "metadata": {},
          "execution_count": 10
        }
      ]
    },
    {
      "cell_type": "code",
      "metadata": {
        "id": "cCBI-xsHkcAV",
        "colab": {
          "base_uri": "https://localhost:8080/",
          "height": 160
        },
        "outputId": "da087750-f976-4e42-ca77-c55657a2e0cd"
      },
      "source": [
        "#agregamos columna destino\n",
        "df_vuelos = df_vuelos.merge(aero_dest, \n",
        "                how= \"left\", \n",
        "                left_on = \"dest\", \n",
        "                right_on =\"faa\")\n",
        "df_vuelos.head(2)"
      ],
      "execution_count": 11,
      "outputs": [
        {
          "output_type": "execute_result",
          "data": {
            "text/plain": [
              "   year  month  day  dep_time  sched_dep_time  dep_delay  arr_time  \\\n",
              "0  2013      1    1     517.0             515        2.0     830.0   \n",
              "1  2013      1    1     533.0             529        4.0     850.0   \n",
              "\n",
              "   sched_arr_time  arr_delay carrier  ...  origin dest air_time distance  \\\n",
              "0             819       11.0      UA  ...     EWR  IAH    227.0     1400   \n",
              "1             830       20.0      UA  ...     LGA  IAH    227.0     1416   \n",
              "\n",
              "   hour  minute             time_hour       aerolinea_nombre  faa  \\\n",
              "0     5      15  2013-01-01T10:00:00Z  United Air Lines Inc.  IAH   \n",
              "1     5      29  2013-01-01T10:00:00Z  United Air Lines Inc.  IAH   \n",
              "\n",
              "                aeropuerto_dest  \n",
              "0  George Bush Intercontinental  \n",
              "1  George Bush Intercontinental  \n",
              "\n",
              "[2 rows x 22 columns]"
            ],
            "text/html": "<div>\n<style scoped>\n    .dataframe tbody tr th:only-of-type {\n        vertical-align: middle;\n    }\n\n    .dataframe tbody tr th {\n        vertical-align: top;\n    }\n\n    .dataframe thead th {\n        text-align: right;\n    }\n</style>\n<table border=\"1\" class=\"dataframe\">\n  <thead>\n    <tr style=\"text-align: right;\">\n      <th></th>\n      <th>year</th>\n      <th>month</th>\n      <th>day</th>\n      <th>dep_time</th>\n      <th>sched_dep_time</th>\n      <th>dep_delay</th>\n      <th>arr_time</th>\n      <th>sched_arr_time</th>\n      <th>arr_delay</th>\n      <th>carrier</th>\n      <th>...</th>\n      <th>origin</th>\n      <th>dest</th>\n      <th>air_time</th>\n      <th>distance</th>\n      <th>hour</th>\n      <th>minute</th>\n      <th>time_hour</th>\n      <th>aerolinea_nombre</th>\n      <th>faa</th>\n      <th>aeropuerto_dest</th>\n    </tr>\n  </thead>\n  <tbody>\n    <tr>\n      <th>0</th>\n      <td>2013</td>\n      <td>1</td>\n      <td>1</td>\n      <td>517.0</td>\n      <td>515</td>\n      <td>2.0</td>\n      <td>830.0</td>\n      <td>819</td>\n      <td>11.0</td>\n      <td>UA</td>\n      <td>...</td>\n      <td>EWR</td>\n      <td>IAH</td>\n      <td>227.0</td>\n      <td>1400</td>\n      <td>5</td>\n      <td>15</td>\n      <td>2013-01-01T10:00:00Z</td>\n      <td>United Air Lines Inc.</td>\n      <td>IAH</td>\n      <td>George Bush Intercontinental</td>\n    </tr>\n    <tr>\n      <th>1</th>\n      <td>2013</td>\n      <td>1</td>\n      <td>1</td>\n      <td>533.0</td>\n      <td>529</td>\n      <td>4.0</td>\n      <td>850.0</td>\n      <td>830</td>\n      <td>20.0</td>\n      <td>UA</td>\n      <td>...</td>\n      <td>LGA</td>\n      <td>IAH</td>\n      <td>227.0</td>\n      <td>1416</td>\n      <td>5</td>\n      <td>29</td>\n      <td>2013-01-01T10:00:00Z</td>\n      <td>United Air Lines Inc.</td>\n      <td>IAH</td>\n      <td>George Bush Intercontinental</td>\n    </tr>\n  </tbody>\n</table>\n<p>2 rows × 22 columns</p>\n</div>"
          },
          "metadata": {},
          "execution_count": 11
        }
      ]
    },
    {
      "cell_type": "code",
      "metadata": {
        "colab": {
          "base_uri": "https://localhost:8080/",
          "height": 160
        },
        "id": "Ba23UqzZ53C7",
        "outputId": "cc4fe860-98ec-4120-a16d-d35a13006a34"
      },
      "source": [
        "#agregamos columna origen\n",
        "df_vuelos = df_vuelos.merge(aeropuertos[[\"faa\", \"name\"]].rename({\"name\": \"aeropuerto_origen\"}, axis= 1), \n",
        "                how= \"left\", \n",
        "                left_on = \"origin\", \n",
        "                right_on =\"faa\")\n",
        "df_vuelos.head(2)"
      ],
      "execution_count": 12,
      "outputs": [
        {
          "output_type": "execute_result",
          "data": {
            "text/plain": [
              "   year  month  day  dep_time  sched_dep_time  dep_delay  arr_time  \\\n",
              "0  2013      1    1     517.0             515        2.0     830.0   \n",
              "1  2013      1    1     533.0             529        4.0     850.0   \n",
              "\n",
              "   sched_arr_time  arr_delay carrier  ...  air_time distance hour minute  \\\n",
              "0             819       11.0      UA  ...     227.0     1400    5     15   \n",
              "1             830       20.0      UA  ...     227.0     1416    5     29   \n",
              "\n",
              "              time_hour       aerolinea_nombre  faa_x  \\\n",
              "0  2013-01-01T10:00:00Z  United Air Lines Inc.    IAH   \n",
              "1  2013-01-01T10:00:00Z  United Air Lines Inc.    IAH   \n",
              "\n",
              "                aeropuerto_dest faa_y    aeropuerto_origen  \n",
              "0  George Bush Intercontinental   EWR  Newark Liberty Intl  \n",
              "1  George Bush Intercontinental   LGA           La Guardia  \n",
              "\n",
              "[2 rows x 24 columns]"
            ],
            "text/html": "<div>\n<style scoped>\n    .dataframe tbody tr th:only-of-type {\n        vertical-align: middle;\n    }\n\n    .dataframe tbody tr th {\n        vertical-align: top;\n    }\n\n    .dataframe thead th {\n        text-align: right;\n    }\n</style>\n<table border=\"1\" class=\"dataframe\">\n  <thead>\n    <tr style=\"text-align: right;\">\n      <th></th>\n      <th>year</th>\n      <th>month</th>\n      <th>day</th>\n      <th>dep_time</th>\n      <th>sched_dep_time</th>\n      <th>dep_delay</th>\n      <th>arr_time</th>\n      <th>sched_arr_time</th>\n      <th>arr_delay</th>\n      <th>carrier</th>\n      <th>...</th>\n      <th>air_time</th>\n      <th>distance</th>\n      <th>hour</th>\n      <th>minute</th>\n      <th>time_hour</th>\n      <th>aerolinea_nombre</th>\n      <th>faa_x</th>\n      <th>aeropuerto_dest</th>\n      <th>faa_y</th>\n      <th>aeropuerto_origen</th>\n    </tr>\n  </thead>\n  <tbody>\n    <tr>\n      <th>0</th>\n      <td>2013</td>\n      <td>1</td>\n      <td>1</td>\n      <td>517.0</td>\n      <td>515</td>\n      <td>2.0</td>\n      <td>830.0</td>\n      <td>819</td>\n      <td>11.0</td>\n      <td>UA</td>\n      <td>...</td>\n      <td>227.0</td>\n      <td>1400</td>\n      <td>5</td>\n      <td>15</td>\n      <td>2013-01-01T10:00:00Z</td>\n      <td>United Air Lines Inc.</td>\n      <td>IAH</td>\n      <td>George Bush Intercontinental</td>\n      <td>EWR</td>\n      <td>Newark Liberty Intl</td>\n    </tr>\n    <tr>\n      <th>1</th>\n      <td>2013</td>\n      <td>1</td>\n      <td>1</td>\n      <td>533.0</td>\n      <td>529</td>\n      <td>4.0</td>\n      <td>850.0</td>\n      <td>830</td>\n      <td>20.0</td>\n      <td>UA</td>\n      <td>...</td>\n      <td>227.0</td>\n      <td>1416</td>\n      <td>5</td>\n      <td>29</td>\n      <td>2013-01-01T10:00:00Z</td>\n      <td>United Air Lines Inc.</td>\n      <td>IAH</td>\n      <td>George Bush Intercontinental</td>\n      <td>LGA</td>\n      <td>La Guardia</td>\n    </tr>\n  </tbody>\n</table>\n<p>2 rows × 24 columns</p>\n</div>"
          },
          "metadata": {},
          "execution_count": 12
        }
      ]
    },
    {
      "cell_type": "code",
      "metadata": {
        "colab": {
          "base_uri": "https://localhost:8080/",
          "height": 160
        },
        "id": "pERczD_z6SRl",
        "outputId": "5a6ee52e-b5f2-43a6-a2b8-ff8c16f1975a"
      },
      "source": [
        "df_vuelos.head(2)"
      ],
      "execution_count": 13,
      "outputs": [
        {
          "output_type": "execute_result",
          "data": {
            "text/plain": [
              "   year  month  day  dep_time  sched_dep_time  dep_delay  arr_time  \\\n",
              "0  2013      1    1     517.0             515        2.0     830.0   \n",
              "1  2013      1    1     533.0             529        4.0     850.0   \n",
              "\n",
              "   sched_arr_time  arr_delay carrier  ...  air_time distance hour minute  \\\n",
              "0             819       11.0      UA  ...     227.0     1400    5     15   \n",
              "1             830       20.0      UA  ...     227.0     1416    5     29   \n",
              "\n",
              "              time_hour       aerolinea_nombre  faa_x  \\\n",
              "0  2013-01-01T10:00:00Z  United Air Lines Inc.    IAH   \n",
              "1  2013-01-01T10:00:00Z  United Air Lines Inc.    IAH   \n",
              "\n",
              "                aeropuerto_dest faa_y    aeropuerto_origen  \n",
              "0  George Bush Intercontinental   EWR  Newark Liberty Intl  \n",
              "1  George Bush Intercontinental   LGA           La Guardia  \n",
              "\n",
              "[2 rows x 24 columns]"
            ],
            "text/html": "<div>\n<style scoped>\n    .dataframe tbody tr th:only-of-type {\n        vertical-align: middle;\n    }\n\n    .dataframe tbody tr th {\n        vertical-align: top;\n    }\n\n    .dataframe thead th {\n        text-align: right;\n    }\n</style>\n<table border=\"1\" class=\"dataframe\">\n  <thead>\n    <tr style=\"text-align: right;\">\n      <th></th>\n      <th>year</th>\n      <th>month</th>\n      <th>day</th>\n      <th>dep_time</th>\n      <th>sched_dep_time</th>\n      <th>dep_delay</th>\n      <th>arr_time</th>\n      <th>sched_arr_time</th>\n      <th>arr_delay</th>\n      <th>carrier</th>\n      <th>...</th>\n      <th>air_time</th>\n      <th>distance</th>\n      <th>hour</th>\n      <th>minute</th>\n      <th>time_hour</th>\n      <th>aerolinea_nombre</th>\n      <th>faa_x</th>\n      <th>aeropuerto_dest</th>\n      <th>faa_y</th>\n      <th>aeropuerto_origen</th>\n    </tr>\n  </thead>\n  <tbody>\n    <tr>\n      <th>0</th>\n      <td>2013</td>\n      <td>1</td>\n      <td>1</td>\n      <td>517.0</td>\n      <td>515</td>\n      <td>2.0</td>\n      <td>830.0</td>\n      <td>819</td>\n      <td>11.0</td>\n      <td>UA</td>\n      <td>...</td>\n      <td>227.0</td>\n      <td>1400</td>\n      <td>5</td>\n      <td>15</td>\n      <td>2013-01-01T10:00:00Z</td>\n      <td>United Air Lines Inc.</td>\n      <td>IAH</td>\n      <td>George Bush Intercontinental</td>\n      <td>EWR</td>\n      <td>Newark Liberty Intl</td>\n    </tr>\n    <tr>\n      <th>1</th>\n      <td>2013</td>\n      <td>1</td>\n      <td>1</td>\n      <td>533.0</td>\n      <td>529</td>\n      <td>4.0</td>\n      <td>850.0</td>\n      <td>830</td>\n      <td>20.0</td>\n      <td>UA</td>\n      <td>...</td>\n      <td>227.0</td>\n      <td>1416</td>\n      <td>5</td>\n      <td>29</td>\n      <td>2013-01-01T10:00:00Z</td>\n      <td>United Air Lines Inc.</td>\n      <td>IAH</td>\n      <td>George Bush Intercontinental</td>\n      <td>LGA</td>\n      <td>La Guardia</td>\n    </tr>\n  </tbody>\n</table>\n<p>2 rows × 24 columns</p>\n</div>"
          },
          "metadata": {},
          "execution_count": 13
        }
      ]
    },
    {
      "cell_type": "code",
      "metadata": {
        "colab": {
          "base_uri": "https://localhost:8080/",
          "height": 160
        },
        "id": "qHYAXzjc61M6",
        "outputId": "c7f239c2-0af6-4c3b-8f34-1d7723bdceb7"
      },
      "source": [
        "df_vuelos = df_vuelos.drop([\"faa_x\",\"faa_y\"], axis= 1)\n",
        "df_vuelos.head(2)"
      ],
      "execution_count": 14,
      "outputs": [
        {
          "output_type": "execute_result",
          "data": {
            "text/plain": [
              "   year  month  day  dep_time  sched_dep_time  dep_delay  arr_time  \\\n",
              "0  2013      1    1     517.0             515        2.0     830.0   \n",
              "1  2013      1    1     533.0             529        4.0     850.0   \n",
              "\n",
              "   sched_arr_time  arr_delay carrier  ...  origin dest air_time distance  \\\n",
              "0             819       11.0      UA  ...     EWR  IAH    227.0     1400   \n",
              "1             830       20.0      UA  ...     LGA  IAH    227.0     1416   \n",
              "\n",
              "   hour  minute             time_hour       aerolinea_nombre  \\\n",
              "0     5      15  2013-01-01T10:00:00Z  United Air Lines Inc.   \n",
              "1     5      29  2013-01-01T10:00:00Z  United Air Lines Inc.   \n",
              "\n",
              "                aeropuerto_dest    aeropuerto_origen  \n",
              "0  George Bush Intercontinental  Newark Liberty Intl  \n",
              "1  George Bush Intercontinental           La Guardia  \n",
              "\n",
              "[2 rows x 22 columns]"
            ],
            "text/html": "<div>\n<style scoped>\n    .dataframe tbody tr th:only-of-type {\n        vertical-align: middle;\n    }\n\n    .dataframe tbody tr th {\n        vertical-align: top;\n    }\n\n    .dataframe thead th {\n        text-align: right;\n    }\n</style>\n<table border=\"1\" class=\"dataframe\">\n  <thead>\n    <tr style=\"text-align: right;\">\n      <th></th>\n      <th>year</th>\n      <th>month</th>\n      <th>day</th>\n      <th>dep_time</th>\n      <th>sched_dep_time</th>\n      <th>dep_delay</th>\n      <th>arr_time</th>\n      <th>sched_arr_time</th>\n      <th>arr_delay</th>\n      <th>carrier</th>\n      <th>...</th>\n      <th>origin</th>\n      <th>dest</th>\n      <th>air_time</th>\n      <th>distance</th>\n      <th>hour</th>\n      <th>minute</th>\n      <th>time_hour</th>\n      <th>aerolinea_nombre</th>\n      <th>aeropuerto_dest</th>\n      <th>aeropuerto_origen</th>\n    </tr>\n  </thead>\n  <tbody>\n    <tr>\n      <th>0</th>\n      <td>2013</td>\n      <td>1</td>\n      <td>1</td>\n      <td>517.0</td>\n      <td>515</td>\n      <td>2.0</td>\n      <td>830.0</td>\n      <td>819</td>\n      <td>11.0</td>\n      <td>UA</td>\n      <td>...</td>\n      <td>EWR</td>\n      <td>IAH</td>\n      <td>227.0</td>\n      <td>1400</td>\n      <td>5</td>\n      <td>15</td>\n      <td>2013-01-01T10:00:00Z</td>\n      <td>United Air Lines Inc.</td>\n      <td>George Bush Intercontinental</td>\n      <td>Newark Liberty Intl</td>\n    </tr>\n    <tr>\n      <th>1</th>\n      <td>2013</td>\n      <td>1</td>\n      <td>1</td>\n      <td>533.0</td>\n      <td>529</td>\n      <td>4.0</td>\n      <td>850.0</td>\n      <td>830</td>\n      <td>20.0</td>\n      <td>UA</td>\n      <td>...</td>\n      <td>LGA</td>\n      <td>IAH</td>\n      <td>227.0</td>\n      <td>1416</td>\n      <td>5</td>\n      <td>29</td>\n      <td>2013-01-01T10:00:00Z</td>\n      <td>United Air Lines Inc.</td>\n      <td>George Bush Intercontinental</td>\n      <td>La Guardia</td>\n    </tr>\n  </tbody>\n</table>\n<p>2 rows × 22 columns</p>\n</div>"
          },
          "metadata": {},
          "execution_count": 14
        }
      ]
    },
    {
      "cell_type": "markdown",
      "metadata": {
        "id": "8zCquvtl6mdU"
      },
      "source": []
    },
    {
      "cell_type": "markdown",
      "metadata": {
        "id": "kQdNljZjqzvg"
      },
      "source": [
        "🔹 Hay algun aeropuerto que no tenga cargada la parametria en la tabla aeropuertos? En el caso de que exista alguno retornar cuales son sus codigos."
      ]
    },
    {
      "cell_type": "code",
      "metadata": {
        "id": "j7_kBeTfkcSY",
        "colab": {
          "base_uri": "https://localhost:8080/"
        },
        "outputId": "d775c8d3-ae1d-4a90-aefe-0595cc933f8f"
      },
      "source": [
        "print(\"los aeropuestos destino que no tienen asignando numero son en total\", df_vuelos[\"aeropuerto_dest\"].isna().sum())\n",
        "print(\"los aeropuestos destino que no tienen asignando numero son en total\", df_vuelos[\"aeropuerto_origen\"].isna().sum())"
      ],
      "execution_count": 15,
      "outputs": [
        {
          "output_type": "stream",
          "name": "stdout",
          "text": [
            "los aeropuestos destino que no tienen asignando numero son en total 7602\nlos aeropuestos destino que no tienen asignando numero son en total 0\n"
          ]
        }
      ]
    },
    {
      "cell_type": "code",
      "metadata": {
        "id": "YH9P7miikcF9",
        "colab": {
          "base_uri": "https://localhost:8080/"
        },
        "outputId": "97fd20ae-e987-48db-9fb6-94be54b1cc64"
      },
      "source": [
        "df_vuelos.loc[df_vuelos[\"aeropuerto_dest\"].isna(), \"dest\"].unique()"
      ],
      "execution_count": 16,
      "outputs": [
        {
          "output_type": "execute_result",
          "data": {
            "text/plain": [
              "array(['BQN', 'SJU', 'STT', 'PSE'], dtype=object)"
            ]
          },
          "metadata": {},
          "execution_count": 16
        }
      ]
    },
    {
      "cell_type": "code",
      "metadata": {
        "colab": {
          "base_uri": "https://localhost:8080/",
          "height": 47
        },
        "id": "dvSDcM5H-kxv",
        "outputId": "c65b90bd-0c76-43be-82a1-512fdbc5f5d0"
      },
      "source": [
        "aeropuertos.loc[aeropuertos[\"faa\"]=='PSE' ,  ]"
      ],
      "execution_count": 17,
      "outputs": [
        {
          "output_type": "execute_result",
          "data": {
            "text/plain": [
              "Empty DataFrame\n",
              "Columns: [faa, name, lat, lon, alt, tz, dst, tzone]\n",
              "Index: []"
            ],
            "text/html": "<div>\n<style scoped>\n    .dataframe tbody tr th:only-of-type {\n        vertical-align: middle;\n    }\n\n    .dataframe tbody tr th {\n        vertical-align: top;\n    }\n\n    .dataframe thead th {\n        text-align: right;\n    }\n</style>\n<table border=\"1\" class=\"dataframe\">\n  <thead>\n    <tr style=\"text-align: right;\">\n      <th></th>\n      <th>faa</th>\n      <th>name</th>\n      <th>lat</th>\n      <th>lon</th>\n      <th>alt</th>\n      <th>tz</th>\n      <th>dst</th>\n      <th>tzone</th>\n    </tr>\n  </thead>\n  <tbody>\n  </tbody>\n</table>\n</div>"
          },
          "metadata": {},
          "execution_count": 17
        }
      ]
    },
    {
      "cell_type": "markdown",
      "metadata": {
        "id": "VSM8Hc-5sySK"
      },
      "source": [
        "🔹 Se obtuvieron los datos de los vuelos para el 2014, por lo cual es necesario generar un dataframe denominado `vuelos_totales` que se encuentren los datos que estan en el dataset de `vuelos` y los que se encuentran en el archivo adjunto denominado `flights14.csv`"
      ]
    },
    {
      "cell_type": "markdown",
      "metadata": {
        "id": "sv8FTZKfemhE"
      },
      "source": [
        "1. importar datos de vuelos14\n",
        "1.1. validar si las columnas vuelos 14 son iguales a las columnas de vuelos 13\n",
        "1.2 no son iguales validar cuales son las columnsa que tienen comun.\n",
        "1.3 genero el dataframe vuelos14 con las columnas seleccionadas \n",
        "1.4 genero el dataframe vuelos13 con las mismas columnas que vuelos14\n",
        "------\n",
        "2. concat.\n"
      ]
    },
    {
      "cell_type": "code",
      "metadata": {
        "id": "HmpmxKThAMLZ"
      },
      "source": [
        "link_14 = './data/flights14.csv'"
      ],
      "execution_count": 18,
      "outputs": []
    },
    {
      "cell_type": "code",
      "metadata": {
        "id": "p5hH1XHmuYQ2"
      },
      "source": [
        "vuelos_14 = pd.read_csv(link_14)"
      ],
      "execution_count": 19,
      "outputs": []
    },
    {
      "cell_type": "code",
      "metadata": {
        "colab": {
          "base_uri": "https://localhost:8080/",
          "height": 106
        },
        "id": "7KtgcuDyAU1e",
        "outputId": "0401fee5-7e35-464b-a339-ea03f36fc44c"
      },
      "source": [
        "vuelos_14.head(2)"
      ],
      "execution_count": 20,
      "outputs": [
        {
          "output_type": "execute_result",
          "data": {
            "text/plain": [
              "   year  month  day  dep_time  dep_delay  arr_time  arr_delay  cancelled  \\\n",
              "0  2014      1    1       914         14      1238         13          0   \n",
              "1  2014      1    1      1157         -3      1523         13          0   \n",
              "\n",
              "  carrier tailnum  flight origin dest  air_time  distance  hour  min  \n",
              "0      AA  N338AA       1    JFK  LAX       359      2475     9   14  \n",
              "1      AA  N335AA       3    JFK  LAX       363      2475    11   57  "
            ],
            "text/html": "<div>\n<style scoped>\n    .dataframe tbody tr th:only-of-type {\n        vertical-align: middle;\n    }\n\n    .dataframe tbody tr th {\n        vertical-align: top;\n    }\n\n    .dataframe thead th {\n        text-align: right;\n    }\n</style>\n<table border=\"1\" class=\"dataframe\">\n  <thead>\n    <tr style=\"text-align: right;\">\n      <th></th>\n      <th>year</th>\n      <th>month</th>\n      <th>day</th>\n      <th>dep_time</th>\n      <th>dep_delay</th>\n      <th>arr_time</th>\n      <th>arr_delay</th>\n      <th>cancelled</th>\n      <th>carrier</th>\n      <th>tailnum</th>\n      <th>flight</th>\n      <th>origin</th>\n      <th>dest</th>\n      <th>air_time</th>\n      <th>distance</th>\n      <th>hour</th>\n      <th>min</th>\n    </tr>\n  </thead>\n  <tbody>\n    <tr>\n      <th>0</th>\n      <td>2014</td>\n      <td>1</td>\n      <td>1</td>\n      <td>914</td>\n      <td>14</td>\n      <td>1238</td>\n      <td>13</td>\n      <td>0</td>\n      <td>AA</td>\n      <td>N338AA</td>\n      <td>1</td>\n      <td>JFK</td>\n      <td>LAX</td>\n      <td>359</td>\n      <td>2475</td>\n      <td>9</td>\n      <td>14</td>\n    </tr>\n    <tr>\n      <th>1</th>\n      <td>2014</td>\n      <td>1</td>\n      <td>1</td>\n      <td>1157</td>\n      <td>-3</td>\n      <td>1523</td>\n      <td>13</td>\n      <td>0</td>\n      <td>AA</td>\n      <td>N335AA</td>\n      <td>3</td>\n      <td>JFK</td>\n      <td>LAX</td>\n      <td>363</td>\n      <td>2475</td>\n      <td>11</td>\n      <td>57</td>\n    </tr>\n  </tbody>\n</table>\n</div>"
          },
          "metadata": {},
          "execution_count": 20
        }
      ]
    },
    {
      "cell_type": "code",
      "metadata": {
        "colab": {
          "base_uri": "https://localhost:8080/"
        },
        "id": "No8-pqfgAjfI",
        "outputId": "506790fd-a9ad-43ec-a15b-260fac67fa31"
      },
      "source": [
        "vuelos_14.columns"
      ],
      "execution_count": 21,
      "outputs": [
        {
          "output_type": "execute_result",
          "data": {
            "text/plain": [
              "Index(['year', 'month', 'day', 'dep_time', 'dep_delay', 'arr_time',\n",
              "       'arr_delay', 'cancelled', 'carrier', 'tailnum', 'flight', 'origin',\n",
              "       'dest', 'air_time', 'distance', 'hour', 'min'],\n",
              "      dtype='object')"
            ]
          },
          "metadata": {},
          "execution_count": 21
        }
      ]
    },
    {
      "cell_type": "code",
      "metadata": {
        "colab": {
          "base_uri": "https://localhost:8080/"
        },
        "id": "uj8p8gs6Amqj",
        "outputId": "20c1b892-a573-4a60-d5d7-8227d733510a"
      },
      "source": [
        "vuelos.columns"
      ],
      "execution_count": 22,
      "outputs": [
        {
          "output_type": "execute_result",
          "data": {
            "text/plain": [
              "Index(['year', 'month', 'day', 'dep_time', 'sched_dep_time', 'dep_delay',\n",
              "       'arr_time', 'sched_arr_time', 'arr_delay', 'carrier', 'flight',\n",
              "       'tailnum', 'origin', 'dest', 'air_time', 'distance', 'hour', 'minute',\n",
              "       'time_hour'],\n",
              "      dtype='object')"
            ]
          },
          "metadata": {},
          "execution_count": 22
        }
      ]
    },
    {
      "cell_type": "code",
      "metadata": {
        "colab": {
          "base_uri": "https://localhost:8080/"
        },
        "id": "HbIcDh0SFL68",
        "outputId": "9ed4d698-167f-4d1c-bbf2-60a1c68cb627"
      },
      "source": [
        "print(\"Ncol 2014:\", len(vuelos_14.columns))\n",
        "print(\"Ncol 2013:\", len(vuelos.columns))"
      ],
      "execution_count": 23,
      "outputs": [
        {
          "output_type": "stream",
          "name": "stdout",
          "text": [
            "Ncol 2014: 17\nNcol 2013: 19\n"
          ]
        }
      ]
    },
    {
      "cell_type": "code",
      "metadata": {
        "colab": {
          "base_uri": "https://localhost:8080/"
        },
        "id": "hJ3I0WbbFbJ1",
        "outputId": "1f55ced5-28b5-4279-e3d5-f2b36fbb9b84"
      },
      "source": [
        "vuelos.columns.isin(vuelos_14.columns)"
      ],
      "execution_count": 24,
      "outputs": [
        {
          "output_type": "execute_result",
          "data": {
            "text/plain": [
              "array([ True,  True,  True,  True, False,  True,  True, False,  True,\n",
              "        True,  True,  True,  True,  True,  True,  True,  True, False,\n",
              "       False])"
            ]
          },
          "metadata": {},
          "execution_count": 24
        }
      ]
    },
    {
      "cell_type": "code",
      "metadata": {
        "colab": {
          "base_uri": "https://localhost:8080/"
        },
        "id": "iYFAy-_MFxUy",
        "outputId": "fe04daf2-e0b3-4f74-a08c-3e57523ec1ba"
      },
      "source": [
        "columnas_en_comun = vuelos.columns[vuelos.columns.isin(vuelos_14.columns)]\n",
        "columnas_en_comun"
      ],
      "execution_count": 25,
      "outputs": [
        {
          "output_type": "execute_result",
          "data": {
            "text/plain": [
              "Index(['year', 'month', 'day', 'dep_time', 'dep_delay', 'arr_time',\n",
              "       'arr_delay', 'carrier', 'flight', 'tailnum', 'origin', 'dest',\n",
              "       'air_time', 'distance', 'hour'],\n",
              "      dtype='object')"
            ]
          },
          "metadata": {},
          "execution_count": 25
        }
      ]
    },
    {
      "cell_type": "code",
      "metadata": {
        "colab": {
          "base_uri": "https://localhost:8080/",
          "height": 399
        },
        "id": "4n8__1AVGTAJ",
        "outputId": "07f52adc-d155-48b0-ce09-0befc787afba"
      },
      "source": [
        "vuelos.loc[: , columnas_en_comun]"
      ],
      "execution_count": 26,
      "outputs": [
        {
          "output_type": "execute_result",
          "data": {
            "text/plain": [
              "        year  month  day  dep_time  dep_delay  arr_time  arr_delay carrier  \\\n",
              "0       2013      1    1     517.0        2.0     830.0       11.0      UA   \n",
              "1       2013      1    1     533.0        4.0     850.0       20.0      UA   \n",
              "2       2013      1    1     542.0        2.0     923.0       33.0      AA   \n",
              "3       2013      1    1     544.0       -1.0    1004.0      -18.0      B6   \n",
              "4       2013      1    1     554.0       -6.0     812.0      -25.0      DL   \n",
              "...      ...    ...  ...       ...        ...       ...        ...     ...   \n",
              "336771  2013      9   30       NaN        NaN       NaN        NaN      9E   \n",
              "336772  2013      9   30       NaN        NaN       NaN        NaN      9E   \n",
              "336773  2013      9   30       NaN        NaN       NaN        NaN      MQ   \n",
              "336774  2013      9   30       NaN        NaN       NaN        NaN      MQ   \n",
              "336775  2013      9   30       NaN        NaN       NaN        NaN      MQ   \n",
              "\n",
              "        flight tailnum origin dest  air_time  distance  hour  \n",
              "0         1545  N14228    EWR  IAH     227.0      1400     5  \n",
              "1         1714  N24211    LGA  IAH     227.0      1416     5  \n",
              "2         1141  N619AA    JFK  MIA     160.0      1089     5  \n",
              "3          725  N804JB    JFK  BQN     183.0      1576     5  \n",
              "4          461  N668DN    LGA  ATL     116.0       762     6  \n",
              "...        ...     ...    ...  ...       ...       ...   ...  \n",
              "336771    3393     NaN    JFK  DCA       NaN       213    14  \n",
              "336772    3525     NaN    LGA  SYR       NaN       198    22  \n",
              "336773    3461  N535MQ    LGA  BNA       NaN       764    12  \n",
              "336774    3572  N511MQ    LGA  CLE       NaN       419    11  \n",
              "336775    3531  N839MQ    LGA  RDU       NaN       431     8  \n",
              "\n",
              "[336776 rows x 15 columns]"
            ],
            "text/html": "<div>\n<style scoped>\n    .dataframe tbody tr th:only-of-type {\n        vertical-align: middle;\n    }\n\n    .dataframe tbody tr th {\n        vertical-align: top;\n    }\n\n    .dataframe thead th {\n        text-align: right;\n    }\n</style>\n<table border=\"1\" class=\"dataframe\">\n  <thead>\n    <tr style=\"text-align: right;\">\n      <th></th>\n      <th>year</th>\n      <th>month</th>\n      <th>day</th>\n      <th>dep_time</th>\n      <th>dep_delay</th>\n      <th>arr_time</th>\n      <th>arr_delay</th>\n      <th>carrier</th>\n      <th>flight</th>\n      <th>tailnum</th>\n      <th>origin</th>\n      <th>dest</th>\n      <th>air_time</th>\n      <th>distance</th>\n      <th>hour</th>\n    </tr>\n  </thead>\n  <tbody>\n    <tr>\n      <th>0</th>\n      <td>2013</td>\n      <td>1</td>\n      <td>1</td>\n      <td>517.0</td>\n      <td>2.0</td>\n      <td>830.0</td>\n      <td>11.0</td>\n      <td>UA</td>\n      <td>1545</td>\n      <td>N14228</td>\n      <td>EWR</td>\n      <td>IAH</td>\n      <td>227.0</td>\n      <td>1400</td>\n      <td>5</td>\n    </tr>\n    <tr>\n      <th>1</th>\n      <td>2013</td>\n      <td>1</td>\n      <td>1</td>\n      <td>533.0</td>\n      <td>4.0</td>\n      <td>850.0</td>\n      <td>20.0</td>\n      <td>UA</td>\n      <td>1714</td>\n      <td>N24211</td>\n      <td>LGA</td>\n      <td>IAH</td>\n      <td>227.0</td>\n      <td>1416</td>\n      <td>5</td>\n    </tr>\n    <tr>\n      <th>2</th>\n      <td>2013</td>\n      <td>1</td>\n      <td>1</td>\n      <td>542.0</td>\n      <td>2.0</td>\n      <td>923.0</td>\n      <td>33.0</td>\n      <td>AA</td>\n      <td>1141</td>\n      <td>N619AA</td>\n      <td>JFK</td>\n      <td>MIA</td>\n      <td>160.0</td>\n      <td>1089</td>\n      <td>5</td>\n    </tr>\n    <tr>\n      <th>3</th>\n      <td>2013</td>\n      <td>1</td>\n      <td>1</td>\n      <td>544.0</td>\n      <td>-1.0</td>\n      <td>1004.0</td>\n      <td>-18.0</td>\n      <td>B6</td>\n      <td>725</td>\n      <td>N804JB</td>\n      <td>JFK</td>\n      <td>BQN</td>\n      <td>183.0</td>\n      <td>1576</td>\n      <td>5</td>\n    </tr>\n    <tr>\n      <th>4</th>\n      <td>2013</td>\n      <td>1</td>\n      <td>1</td>\n      <td>554.0</td>\n      <td>-6.0</td>\n      <td>812.0</td>\n      <td>-25.0</td>\n      <td>DL</td>\n      <td>461</td>\n      <td>N668DN</td>\n      <td>LGA</td>\n      <td>ATL</td>\n      <td>116.0</td>\n      <td>762</td>\n      <td>6</td>\n    </tr>\n    <tr>\n      <th>...</th>\n      <td>...</td>\n      <td>...</td>\n      <td>...</td>\n      <td>...</td>\n      <td>...</td>\n      <td>...</td>\n      <td>...</td>\n      <td>...</td>\n      <td>...</td>\n      <td>...</td>\n      <td>...</td>\n      <td>...</td>\n      <td>...</td>\n      <td>...</td>\n      <td>...</td>\n    </tr>\n    <tr>\n      <th>336771</th>\n      <td>2013</td>\n      <td>9</td>\n      <td>30</td>\n      <td>NaN</td>\n      <td>NaN</td>\n      <td>NaN</td>\n      <td>NaN</td>\n      <td>9E</td>\n      <td>3393</td>\n      <td>NaN</td>\n      <td>JFK</td>\n      <td>DCA</td>\n      <td>NaN</td>\n      <td>213</td>\n      <td>14</td>\n    </tr>\n    <tr>\n      <th>336772</th>\n      <td>2013</td>\n      <td>9</td>\n      <td>30</td>\n      <td>NaN</td>\n      <td>NaN</td>\n      <td>NaN</td>\n      <td>NaN</td>\n      <td>9E</td>\n      <td>3525</td>\n      <td>NaN</td>\n      <td>LGA</td>\n      <td>SYR</td>\n      <td>NaN</td>\n      <td>198</td>\n      <td>22</td>\n    </tr>\n    <tr>\n      <th>336773</th>\n      <td>2013</td>\n      <td>9</td>\n      <td>30</td>\n      <td>NaN</td>\n      <td>NaN</td>\n      <td>NaN</td>\n      <td>NaN</td>\n      <td>MQ</td>\n      <td>3461</td>\n      <td>N535MQ</td>\n      <td>LGA</td>\n      <td>BNA</td>\n      <td>NaN</td>\n      <td>764</td>\n      <td>12</td>\n    </tr>\n    <tr>\n      <th>336774</th>\n      <td>2013</td>\n      <td>9</td>\n      <td>30</td>\n      <td>NaN</td>\n      <td>NaN</td>\n      <td>NaN</td>\n      <td>NaN</td>\n      <td>MQ</td>\n      <td>3572</td>\n      <td>N511MQ</td>\n      <td>LGA</td>\n      <td>CLE</td>\n      <td>NaN</td>\n      <td>419</td>\n      <td>11</td>\n    </tr>\n    <tr>\n      <th>336775</th>\n      <td>2013</td>\n      <td>9</td>\n      <td>30</td>\n      <td>NaN</td>\n      <td>NaN</td>\n      <td>NaN</td>\n      <td>NaN</td>\n      <td>MQ</td>\n      <td>3531</td>\n      <td>N839MQ</td>\n      <td>LGA</td>\n      <td>RDU</td>\n      <td>NaN</td>\n      <td>431</td>\n      <td>8</td>\n    </tr>\n  </tbody>\n</table>\n<p>336776 rows × 15 columns</p>\n</div>"
          },
          "metadata": {},
          "execution_count": 26
        }
      ]
    },
    {
      "cell_type": "code",
      "metadata": {
        "colab": {
          "base_uri": "https://localhost:8080/",
          "height": 399
        },
        "id": "GStSkZa8GclG",
        "outputId": "435b9778-c380-4017-a7b3-50430e3e615f"
      },
      "source": [
        "vuelos_14.loc[: , columnas_en_comun]"
      ],
      "execution_count": 27,
      "outputs": [
        {
          "output_type": "execute_result",
          "data": {
            "text/plain": [
              "        year  month  day  dep_time  dep_delay  arr_time  arr_delay carrier  \\\n",
              "0       2014      1    1       914         14      1238         13      AA   \n",
              "1       2014      1    1      1157         -3      1523         13      AA   \n",
              "2       2014      1    1      1902          2      2224          9      AA   \n",
              "3       2014      1    1       722         -8      1014        -26      AA   \n",
              "4       2014      1    1      1347          2      1706          1      AA   \n",
              "...      ...    ...  ...       ...        ...       ...        ...     ...   \n",
              "253311  2014     10   31      1459          1      1747        -30      UA   \n",
              "253312  2014     10   31       854         -5      1147        -14      UA   \n",
              "253313  2014     10   31      1102         -8      1311         16      MQ   \n",
              "253314  2014     10   31      1106         -4      1325         15      MQ   \n",
              "253315  2014     10   31       824         -5      1045          1      MQ   \n",
              "\n",
              "        flight tailnum origin dest  air_time  distance  hour  \n",
              "0            1  N338AA    JFK  LAX       359      2475     9  \n",
              "1            3  N335AA    JFK  LAX       363      2475    11  \n",
              "2           21  N327AA    JFK  LAX       351      2475    19  \n",
              "3           29  N3EHAA    LGA  PBI       157      1035     7  \n",
              "4          117  N319AA    JFK  LAX       350      2475    13  \n",
              "...        ...     ...    ...  ...       ...       ...   ...  \n",
              "253311    1744  N23708    LGA  IAH       201      1416    14  \n",
              "253312    1758  N33132    EWR  IAH       189      1400     8  \n",
              "253313    3591  N827MQ    LGA  RDU        83       431    11  \n",
              "253314    3592  N511MQ    LGA  DTW        75       502    11  \n",
              "253315    3599  N813MQ    LGA  SDF       110       659     8  \n",
              "\n",
              "[253316 rows x 15 columns]"
            ],
            "text/html": "<div>\n<style scoped>\n    .dataframe tbody tr th:only-of-type {\n        vertical-align: middle;\n    }\n\n    .dataframe tbody tr th {\n        vertical-align: top;\n    }\n\n    .dataframe thead th {\n        text-align: right;\n    }\n</style>\n<table border=\"1\" class=\"dataframe\">\n  <thead>\n    <tr style=\"text-align: right;\">\n      <th></th>\n      <th>year</th>\n      <th>month</th>\n      <th>day</th>\n      <th>dep_time</th>\n      <th>dep_delay</th>\n      <th>arr_time</th>\n      <th>arr_delay</th>\n      <th>carrier</th>\n      <th>flight</th>\n      <th>tailnum</th>\n      <th>origin</th>\n      <th>dest</th>\n      <th>air_time</th>\n      <th>distance</th>\n      <th>hour</th>\n    </tr>\n  </thead>\n  <tbody>\n    <tr>\n      <th>0</th>\n      <td>2014</td>\n      <td>1</td>\n      <td>1</td>\n      <td>914</td>\n      <td>14</td>\n      <td>1238</td>\n      <td>13</td>\n      <td>AA</td>\n      <td>1</td>\n      <td>N338AA</td>\n      <td>JFK</td>\n      <td>LAX</td>\n      <td>359</td>\n      <td>2475</td>\n      <td>9</td>\n    </tr>\n    <tr>\n      <th>1</th>\n      <td>2014</td>\n      <td>1</td>\n      <td>1</td>\n      <td>1157</td>\n      <td>-3</td>\n      <td>1523</td>\n      <td>13</td>\n      <td>AA</td>\n      <td>3</td>\n      <td>N335AA</td>\n      <td>JFK</td>\n      <td>LAX</td>\n      <td>363</td>\n      <td>2475</td>\n      <td>11</td>\n    </tr>\n    <tr>\n      <th>2</th>\n      <td>2014</td>\n      <td>1</td>\n      <td>1</td>\n      <td>1902</td>\n      <td>2</td>\n      <td>2224</td>\n      <td>9</td>\n      <td>AA</td>\n      <td>21</td>\n      <td>N327AA</td>\n      <td>JFK</td>\n      <td>LAX</td>\n      <td>351</td>\n      <td>2475</td>\n      <td>19</td>\n    </tr>\n    <tr>\n      <th>3</th>\n      <td>2014</td>\n      <td>1</td>\n      <td>1</td>\n      <td>722</td>\n      <td>-8</td>\n      <td>1014</td>\n      <td>-26</td>\n      <td>AA</td>\n      <td>29</td>\n      <td>N3EHAA</td>\n      <td>LGA</td>\n      <td>PBI</td>\n      <td>157</td>\n      <td>1035</td>\n      <td>7</td>\n    </tr>\n    <tr>\n      <th>4</th>\n      <td>2014</td>\n      <td>1</td>\n      <td>1</td>\n      <td>1347</td>\n      <td>2</td>\n      <td>1706</td>\n      <td>1</td>\n      <td>AA</td>\n      <td>117</td>\n      <td>N319AA</td>\n      <td>JFK</td>\n      <td>LAX</td>\n      <td>350</td>\n      <td>2475</td>\n      <td>13</td>\n    </tr>\n    <tr>\n      <th>...</th>\n      <td>...</td>\n      <td>...</td>\n      <td>...</td>\n      <td>...</td>\n      <td>...</td>\n      <td>...</td>\n      <td>...</td>\n      <td>...</td>\n      <td>...</td>\n      <td>...</td>\n      <td>...</td>\n      <td>...</td>\n      <td>...</td>\n      <td>...</td>\n      <td>...</td>\n    </tr>\n    <tr>\n      <th>253311</th>\n      <td>2014</td>\n      <td>10</td>\n      <td>31</td>\n      <td>1459</td>\n      <td>1</td>\n      <td>1747</td>\n      <td>-30</td>\n      <td>UA</td>\n      <td>1744</td>\n      <td>N23708</td>\n      <td>LGA</td>\n      <td>IAH</td>\n      <td>201</td>\n      <td>1416</td>\n      <td>14</td>\n    </tr>\n    <tr>\n      <th>253312</th>\n      <td>2014</td>\n      <td>10</td>\n      <td>31</td>\n      <td>854</td>\n      <td>-5</td>\n      <td>1147</td>\n      <td>-14</td>\n      <td>UA</td>\n      <td>1758</td>\n      <td>N33132</td>\n      <td>EWR</td>\n      <td>IAH</td>\n      <td>189</td>\n      <td>1400</td>\n      <td>8</td>\n    </tr>\n    <tr>\n      <th>253313</th>\n      <td>2014</td>\n      <td>10</td>\n      <td>31</td>\n      <td>1102</td>\n      <td>-8</td>\n      <td>1311</td>\n      <td>16</td>\n      <td>MQ</td>\n      <td>3591</td>\n      <td>N827MQ</td>\n      <td>LGA</td>\n      <td>RDU</td>\n      <td>83</td>\n      <td>431</td>\n      <td>11</td>\n    </tr>\n    <tr>\n      <th>253314</th>\n      <td>2014</td>\n      <td>10</td>\n      <td>31</td>\n      <td>1106</td>\n      <td>-4</td>\n      <td>1325</td>\n      <td>15</td>\n      <td>MQ</td>\n      <td>3592</td>\n      <td>N511MQ</td>\n      <td>LGA</td>\n      <td>DTW</td>\n      <td>75</td>\n      <td>502</td>\n      <td>11</td>\n    </tr>\n    <tr>\n      <th>253315</th>\n      <td>2014</td>\n      <td>10</td>\n      <td>31</td>\n      <td>824</td>\n      <td>-5</td>\n      <td>1045</td>\n      <td>1</td>\n      <td>MQ</td>\n      <td>3599</td>\n      <td>N813MQ</td>\n      <td>LGA</td>\n      <td>SDF</td>\n      <td>110</td>\n      <td>659</td>\n      <td>8</td>\n    </tr>\n  </tbody>\n</table>\n<p>253316 rows × 15 columns</p>\n</div>"
          },
          "metadata": {},
          "execution_count": 27
        }
      ]
    },
    {
      "cell_type": "code",
      "metadata": {
        "id": "99FuRgtlHLHj"
      },
      "source": [
        "vuelos_2013_2014 =pd.concat([vuelos.loc[: , columnas_en_comun] , vuelos_14.loc[: , columnas_en_comun]] )"
      ],
      "execution_count": 28,
      "outputs": []
    },
    {
      "cell_type": "code",
      "metadata": {
        "colab": {
          "base_uri": "https://localhost:8080/",
          "height": 106
        },
        "id": "a3B2k3XiI7HR",
        "outputId": "422151c0-05c8-48e1-c4c1-35687de01916"
      },
      "source": [
        "vuelos_2013_2014.head(2)"
      ],
      "execution_count": 29,
      "outputs": [
        {
          "output_type": "execute_result",
          "data": {
            "text/plain": [
              "   year  month  day  dep_time  dep_delay  arr_time  arr_delay carrier  flight  \\\n",
              "0  2013      1    1     517.0        2.0     830.0       11.0      UA    1545   \n",
              "1  2013      1    1     533.0        4.0     850.0       20.0      UA    1714   \n",
              "\n",
              "  tailnum origin dest  air_time  distance  hour  \n",
              "0  N14228    EWR  IAH     227.0      1400     5  \n",
              "1  N24211    LGA  IAH     227.0      1416     5  "
            ],
            "text/html": "<div>\n<style scoped>\n    .dataframe tbody tr th:only-of-type {\n        vertical-align: middle;\n    }\n\n    .dataframe tbody tr th {\n        vertical-align: top;\n    }\n\n    .dataframe thead th {\n        text-align: right;\n    }\n</style>\n<table border=\"1\" class=\"dataframe\">\n  <thead>\n    <tr style=\"text-align: right;\">\n      <th></th>\n      <th>year</th>\n      <th>month</th>\n      <th>day</th>\n      <th>dep_time</th>\n      <th>dep_delay</th>\n      <th>arr_time</th>\n      <th>arr_delay</th>\n      <th>carrier</th>\n      <th>flight</th>\n      <th>tailnum</th>\n      <th>origin</th>\n      <th>dest</th>\n      <th>air_time</th>\n      <th>distance</th>\n      <th>hour</th>\n    </tr>\n  </thead>\n  <tbody>\n    <tr>\n      <th>0</th>\n      <td>2013</td>\n      <td>1</td>\n      <td>1</td>\n      <td>517.0</td>\n      <td>2.0</td>\n      <td>830.0</td>\n      <td>11.0</td>\n      <td>UA</td>\n      <td>1545</td>\n      <td>N14228</td>\n      <td>EWR</td>\n      <td>IAH</td>\n      <td>227.0</td>\n      <td>1400</td>\n      <td>5</td>\n    </tr>\n    <tr>\n      <th>1</th>\n      <td>2013</td>\n      <td>1</td>\n      <td>1</td>\n      <td>533.0</td>\n      <td>4.0</td>\n      <td>850.0</td>\n      <td>20.0</td>\n      <td>UA</td>\n      <td>1714</td>\n      <td>N24211</td>\n      <td>LGA</td>\n      <td>IAH</td>\n      <td>227.0</td>\n      <td>1416</td>\n      <td>5</td>\n    </tr>\n  </tbody>\n</table>\n</div>"
          },
          "metadata": {},
          "execution_count": 29
        }
      ]
    },
    {
      "cell_type": "markdown",
      "metadata": {
        "id": "q_cHx3FaI8Lp"
      },
      "source": [
        "### Tarea: agregar aerolinea, aeropuestos (origen, destino)"
      ]
    },
    {
      "cell_type": "code",
      "execution_count": 30,
      "metadata": {},
      "outputs": [
        {
          "output_type": "execute_result",
          "data": {
            "text/plain": [
              "   faa                           name        lat        lon   alt  tz dst  \\\n",
              "0  04G              Lansdowne Airport  41.130472 -80.619583  1044  -5   A   \n",
              "1  06A  Moton Field Municipal Airport  32.460572 -85.680028   264  -6   A   \n",
              "2  06C            Schaumburg Regional  41.989341 -88.101243   801  -6   A   \n",
              "\n",
              "              tzone  \n",
              "0  America/New_York  \n",
              "1   America/Chicago  \n",
              "2   America/Chicago  "
            ],
            "text/html": "<div>\n<style scoped>\n    .dataframe tbody tr th:only-of-type {\n        vertical-align: middle;\n    }\n\n    .dataframe tbody tr th {\n        vertical-align: top;\n    }\n\n    .dataframe thead th {\n        text-align: right;\n    }\n</style>\n<table border=\"1\" class=\"dataframe\">\n  <thead>\n    <tr style=\"text-align: right;\">\n      <th></th>\n      <th>faa</th>\n      <th>name</th>\n      <th>lat</th>\n      <th>lon</th>\n      <th>alt</th>\n      <th>tz</th>\n      <th>dst</th>\n      <th>tzone</th>\n    </tr>\n  </thead>\n  <tbody>\n    <tr>\n      <th>0</th>\n      <td>04G</td>\n      <td>Lansdowne Airport</td>\n      <td>41.130472</td>\n      <td>-80.619583</td>\n      <td>1044</td>\n      <td>-5</td>\n      <td>A</td>\n      <td>America/New_York</td>\n    </tr>\n    <tr>\n      <th>1</th>\n      <td>06A</td>\n      <td>Moton Field Municipal Airport</td>\n      <td>32.460572</td>\n      <td>-85.680028</td>\n      <td>264</td>\n      <td>-6</td>\n      <td>A</td>\n      <td>America/Chicago</td>\n    </tr>\n    <tr>\n      <th>2</th>\n      <td>06C</td>\n      <td>Schaumburg Regional</td>\n      <td>41.989341</td>\n      <td>-88.101243</td>\n      <td>801</td>\n      <td>-6</td>\n      <td>A</td>\n      <td>America/Chicago</td>\n    </tr>\n  </tbody>\n</table>\n</div>"
          },
          "metadata": {},
          "execution_count": 30
        }
      ],
      "source": [
        "aeropuertos.head(3)"
      ]
    },
    {
      "cell_type": "code",
      "execution_count": 31,
      "metadata": {},
      "outputs": [
        {
          "output_type": "execute_result",
          "data": {
            "text/plain": [
              "  carrier        aerolinea_nombre\n",
              "0      9E       Endeavor Air Inc.\n",
              "1      AA  American Airlines Inc.\n",
              "2      AS    Alaska Airlines Inc."
            ],
            "text/html": "<div>\n<style scoped>\n    .dataframe tbody tr th:only-of-type {\n        vertical-align: middle;\n    }\n\n    .dataframe tbody tr th {\n        vertical-align: top;\n    }\n\n    .dataframe thead th {\n        text-align: right;\n    }\n</style>\n<table border=\"1\" class=\"dataframe\">\n  <thead>\n    <tr style=\"text-align: right;\">\n      <th></th>\n      <th>carrier</th>\n      <th>aerolinea_nombre</th>\n    </tr>\n  </thead>\n  <tbody>\n    <tr>\n      <th>0</th>\n      <td>9E</td>\n      <td>Endeavor Air Inc.</td>\n    </tr>\n    <tr>\n      <th>1</th>\n      <td>AA</td>\n      <td>American Airlines Inc.</td>\n    </tr>\n    <tr>\n      <th>2</th>\n      <td>AS</td>\n      <td>Alaska Airlines Inc.</td>\n    </tr>\n  </tbody>\n</table>\n</div>"
          },
          "metadata": {},
          "execution_count": 31
        }
      ],
      "source": [
        "aerolineas.head(3)"
      ]
    },
    {
      "cell_type": "code",
      "execution_count": 32,
      "metadata": {},
      "outputs": [
        {
          "output_type": "execute_result",
          "data": {
            "text/plain": [
              "Index(['year', 'month', 'day', 'dep_time', 'dep_delay', 'arr_time',\n",
              "       'arr_delay', 'carrier', 'flight', 'tailnum', 'origin', 'dest',\n",
              "       'air_time', 'distance', 'hour'],\n",
              "      dtype='object')"
            ]
          },
          "metadata": {},
          "execution_count": 32
        }
      ],
      "source": [
        "vuelos_2013_2014.columns"
      ]
    },
    {
      "cell_type": "code",
      "metadata": {
        "id": "T232XD5aI9Vu"
      },
      "source": [
        "df_13_14 = vuelos_2013_2014.merge(aerolineas, how = \"left\", on =\"carrier\")\n",
        "             \n",
        "df_13_14 = df_13_14.merge(aeropuertos[['faa','name']], how= \"left\", left_on = \"dest\", right_on =\"faa\")\n",
        "\n",
        "df_13_14 = df_13_14.merge(aeropuertos[['faa','name']], how= \"left\", left_on = \"origin\", right_on =\"faa\")\n",
        "\n",
        "df_13_14.rename(columns={\"faa_x\":'dest_id',\n",
        "                 \"name_x\":'dest_airport',\n",
        "                 \"faa_y\":'orig_id',\n",
        "                 \"name_y\":'orig_airport'},\n",
        "                 inplace=True)\n",
        "\n",
        "df_13_14.head(10)"
      ],
      "execution_count": 33,
      "outputs": [
        {
          "output_type": "execute_result",
          "data": {
            "text/plain": [
              "   year  month  day  dep_time  dep_delay  arr_time  arr_delay carrier  flight  \\\n",
              "0  2013      1    1     517.0        2.0     830.0       11.0      UA    1545   \n",
              "1  2013      1    1     533.0        4.0     850.0       20.0      UA    1714   \n",
              "2  2013      1    1     542.0        2.0     923.0       33.0      AA    1141   \n",
              "3  2013      1    1     544.0       -1.0    1004.0      -18.0      B6     725   \n",
              "4  2013      1    1     554.0       -6.0     812.0      -25.0      DL     461   \n",
              "5  2013      1    1     554.0       -4.0     740.0       12.0      UA    1696   \n",
              "6  2013      1    1     555.0       -5.0     913.0       19.0      B6     507   \n",
              "7  2013      1    1     557.0       -3.0     709.0      -14.0      EV    5708   \n",
              "8  2013      1    1     557.0       -3.0     838.0       -8.0      B6      79   \n",
              "9  2013      1    1     558.0       -2.0     753.0        8.0      AA     301   \n",
              "\n",
              "  tailnum origin dest  air_time  distance  hour          aerolinea_nombre  \\\n",
              "0  N14228    EWR  IAH     227.0      1400     5     United Air Lines Inc.   \n",
              "1  N24211    LGA  IAH     227.0      1416     5     United Air Lines Inc.   \n",
              "2  N619AA    JFK  MIA     160.0      1089     5    American Airlines Inc.   \n",
              "3  N804JB    JFK  BQN     183.0      1576     5           JetBlue Airways   \n",
              "4  N668DN    LGA  ATL     116.0       762     6      Delta Air Lines Inc.   \n",
              "5  N39463    EWR  ORD     150.0       719     5     United Air Lines Inc.   \n",
              "6  N516JB    EWR  FLL     158.0      1065     6           JetBlue Airways   \n",
              "7  N829AS    LGA  IAD      53.0       229     6  ExpressJet Airlines Inc.   \n",
              "8  N593JB    JFK  MCO     140.0       944     6           JetBlue Airways   \n",
              "9  N3ALAA    LGA  ORD     138.0       733     6    American Airlines Inc.   \n",
              "\n",
              "  dest_id                     dest_airport orig_id         orig_airport  \n",
              "0     IAH     George Bush Intercontinental     EWR  Newark Liberty Intl  \n",
              "1     IAH     George Bush Intercontinental     LGA           La Guardia  \n",
              "2     MIA                       Miami Intl     JFK  John F Kennedy Intl  \n",
              "3     NaN                              NaN     JFK  John F Kennedy Intl  \n",
              "4     ATL  Hartsfield Jackson Atlanta Intl     LGA           La Guardia  \n",
              "5     ORD               Chicago Ohare Intl     EWR  Newark Liberty Intl  \n",
              "6     FLL   Fort Lauderdale Hollywood Intl     EWR  Newark Liberty Intl  \n",
              "7     IAD           Washington Dulles Intl     LGA           La Guardia  \n",
              "8     MCO                     Orlando Intl     JFK  John F Kennedy Intl  \n",
              "9     ORD               Chicago Ohare Intl     LGA           La Guardia  "
            ],
            "text/html": "<div>\n<style scoped>\n    .dataframe tbody tr th:only-of-type {\n        vertical-align: middle;\n    }\n\n    .dataframe tbody tr th {\n        vertical-align: top;\n    }\n\n    .dataframe thead th {\n        text-align: right;\n    }\n</style>\n<table border=\"1\" class=\"dataframe\">\n  <thead>\n    <tr style=\"text-align: right;\">\n      <th></th>\n      <th>year</th>\n      <th>month</th>\n      <th>day</th>\n      <th>dep_time</th>\n      <th>dep_delay</th>\n      <th>arr_time</th>\n      <th>arr_delay</th>\n      <th>carrier</th>\n      <th>flight</th>\n      <th>tailnum</th>\n      <th>origin</th>\n      <th>dest</th>\n      <th>air_time</th>\n      <th>distance</th>\n      <th>hour</th>\n      <th>aerolinea_nombre</th>\n      <th>dest_id</th>\n      <th>dest_airport</th>\n      <th>orig_id</th>\n      <th>orig_airport</th>\n    </tr>\n  </thead>\n  <tbody>\n    <tr>\n      <th>0</th>\n      <td>2013</td>\n      <td>1</td>\n      <td>1</td>\n      <td>517.0</td>\n      <td>2.0</td>\n      <td>830.0</td>\n      <td>11.0</td>\n      <td>UA</td>\n      <td>1545</td>\n      <td>N14228</td>\n      <td>EWR</td>\n      <td>IAH</td>\n      <td>227.0</td>\n      <td>1400</td>\n      <td>5</td>\n      <td>United Air Lines Inc.</td>\n      <td>IAH</td>\n      <td>George Bush Intercontinental</td>\n      <td>EWR</td>\n      <td>Newark Liberty Intl</td>\n    </tr>\n    <tr>\n      <th>1</th>\n      <td>2013</td>\n      <td>1</td>\n      <td>1</td>\n      <td>533.0</td>\n      <td>4.0</td>\n      <td>850.0</td>\n      <td>20.0</td>\n      <td>UA</td>\n      <td>1714</td>\n      <td>N24211</td>\n      <td>LGA</td>\n      <td>IAH</td>\n      <td>227.0</td>\n      <td>1416</td>\n      <td>5</td>\n      <td>United Air Lines Inc.</td>\n      <td>IAH</td>\n      <td>George Bush Intercontinental</td>\n      <td>LGA</td>\n      <td>La Guardia</td>\n    </tr>\n    <tr>\n      <th>2</th>\n      <td>2013</td>\n      <td>1</td>\n      <td>1</td>\n      <td>542.0</td>\n      <td>2.0</td>\n      <td>923.0</td>\n      <td>33.0</td>\n      <td>AA</td>\n      <td>1141</td>\n      <td>N619AA</td>\n      <td>JFK</td>\n      <td>MIA</td>\n      <td>160.0</td>\n      <td>1089</td>\n      <td>5</td>\n      <td>American Airlines Inc.</td>\n      <td>MIA</td>\n      <td>Miami Intl</td>\n      <td>JFK</td>\n      <td>John F Kennedy Intl</td>\n    </tr>\n    <tr>\n      <th>3</th>\n      <td>2013</td>\n      <td>1</td>\n      <td>1</td>\n      <td>544.0</td>\n      <td>-1.0</td>\n      <td>1004.0</td>\n      <td>-18.0</td>\n      <td>B6</td>\n      <td>725</td>\n      <td>N804JB</td>\n      <td>JFK</td>\n      <td>BQN</td>\n      <td>183.0</td>\n      <td>1576</td>\n      <td>5</td>\n      <td>JetBlue Airways</td>\n      <td>NaN</td>\n      <td>NaN</td>\n      <td>JFK</td>\n      <td>John F Kennedy Intl</td>\n    </tr>\n    <tr>\n      <th>4</th>\n      <td>2013</td>\n      <td>1</td>\n      <td>1</td>\n      <td>554.0</td>\n      <td>-6.0</td>\n      <td>812.0</td>\n      <td>-25.0</td>\n      <td>DL</td>\n      <td>461</td>\n      <td>N668DN</td>\n      <td>LGA</td>\n      <td>ATL</td>\n      <td>116.0</td>\n      <td>762</td>\n      <td>6</td>\n      <td>Delta Air Lines Inc.</td>\n      <td>ATL</td>\n      <td>Hartsfield Jackson Atlanta Intl</td>\n      <td>LGA</td>\n      <td>La Guardia</td>\n    </tr>\n    <tr>\n      <th>5</th>\n      <td>2013</td>\n      <td>1</td>\n      <td>1</td>\n      <td>554.0</td>\n      <td>-4.0</td>\n      <td>740.0</td>\n      <td>12.0</td>\n      <td>UA</td>\n      <td>1696</td>\n      <td>N39463</td>\n      <td>EWR</td>\n      <td>ORD</td>\n      <td>150.0</td>\n      <td>719</td>\n      <td>5</td>\n      <td>United Air Lines Inc.</td>\n      <td>ORD</td>\n      <td>Chicago Ohare Intl</td>\n      <td>EWR</td>\n      <td>Newark Liberty Intl</td>\n    </tr>\n    <tr>\n      <th>6</th>\n      <td>2013</td>\n      <td>1</td>\n      <td>1</td>\n      <td>555.0</td>\n      <td>-5.0</td>\n      <td>913.0</td>\n      <td>19.0</td>\n      <td>B6</td>\n      <td>507</td>\n      <td>N516JB</td>\n      <td>EWR</td>\n      <td>FLL</td>\n      <td>158.0</td>\n      <td>1065</td>\n      <td>6</td>\n      <td>JetBlue Airways</td>\n      <td>FLL</td>\n      <td>Fort Lauderdale Hollywood Intl</td>\n      <td>EWR</td>\n      <td>Newark Liberty Intl</td>\n    </tr>\n    <tr>\n      <th>7</th>\n      <td>2013</td>\n      <td>1</td>\n      <td>1</td>\n      <td>557.0</td>\n      <td>-3.0</td>\n      <td>709.0</td>\n      <td>-14.0</td>\n      <td>EV</td>\n      <td>5708</td>\n      <td>N829AS</td>\n      <td>LGA</td>\n      <td>IAD</td>\n      <td>53.0</td>\n      <td>229</td>\n      <td>6</td>\n      <td>ExpressJet Airlines Inc.</td>\n      <td>IAD</td>\n      <td>Washington Dulles Intl</td>\n      <td>LGA</td>\n      <td>La Guardia</td>\n    </tr>\n    <tr>\n      <th>8</th>\n      <td>2013</td>\n      <td>1</td>\n      <td>1</td>\n      <td>557.0</td>\n      <td>-3.0</td>\n      <td>838.0</td>\n      <td>-8.0</td>\n      <td>B6</td>\n      <td>79</td>\n      <td>N593JB</td>\n      <td>JFK</td>\n      <td>MCO</td>\n      <td>140.0</td>\n      <td>944</td>\n      <td>6</td>\n      <td>JetBlue Airways</td>\n      <td>MCO</td>\n      <td>Orlando Intl</td>\n      <td>JFK</td>\n      <td>John F Kennedy Intl</td>\n    </tr>\n    <tr>\n      <th>9</th>\n      <td>2013</td>\n      <td>1</td>\n      <td>1</td>\n      <td>558.0</td>\n      <td>-2.0</td>\n      <td>753.0</td>\n      <td>8.0</td>\n      <td>AA</td>\n      <td>301</td>\n      <td>N3ALAA</td>\n      <td>LGA</td>\n      <td>ORD</td>\n      <td>138.0</td>\n      <td>733</td>\n      <td>6</td>\n      <td>American Airlines Inc.</td>\n      <td>ORD</td>\n      <td>Chicago Ohare Intl</td>\n      <td>LGA</td>\n      <td>La Guardia</td>\n    </tr>\n  </tbody>\n</table>\n</div>"
          },
          "metadata": {},
          "execution_count": 33
        }
      ]
    },
    {
      "cell_type": "code",
      "execution_count": null,
      "metadata": {},
      "outputs": [],
      "source": []
    }
  ]
}
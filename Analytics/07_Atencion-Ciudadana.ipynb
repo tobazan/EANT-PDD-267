{
  "nbformat": 4,
  "nbformat_minor": 0,
  "metadata": {
    "colab": {
      "name": "2.1-Sistema Único de Atención Ciudadana.ipynb",
      "provenance": [],
      "collapsed_sections": []
    },
    "kernelspec": {
      "name": "python387jvsc74a57bd01cb3c4095699f2a8cd6a12889e7edb42215ac8b2afd459e3e81282dc1470f9b2",
      "display_name": "Python 3.8.7 64-bit"
    },
    "metadata": {
      "interpreter": {
        "hash": "1cb3c4095699f2a8cd6a12889e7edb42215ac8b2afd459e3e81282dc1470f9b2"
      }
    }
  },
  "cells": [
    {
      "cell_type": "markdown",
      "metadata": {
        "id": "itWmrrcVfdH9"
      },
      "source": [
        " <img src=\"https://eant.tech/imagenes/logo.png\" width=25% height=80%  >  \n",
        "\n",
        "\n",
        "## <img src=\"http://icons.iconarchive.com/icons/cornmanthe3rd/plex/256/Other-python-icon.png\" width=\"40\"> Ejercicio Sistema Único de Atención Ciudadana 🚙🌳🛣️🧹\n",
        "\n",
        "Las tematicas que vamos a trabajar son las siguientes:\n",
        "\n",
        "TEMATICA | LETRAS\n",
        "---|---\n",
        "* 🚙 TRÁNSITO | [`'A'`, `'B'`, `'C'`, `'D'`, `'E'`, `'F'`]\n",
        "* 🧹LIMPIEZA Y RECOLECCIÓN | [`'G'`, `'H'`, `'I'`, `'J'`, `'K'`, `'L'`]\n",
        "* 🌳 ARBOLADO Y ESPACIOS VERDES| [`'M'`, `'N'`, `'O'`, `'P'`, `'Q'`, `'R'`]\n",
        "* 🛣️ CALLES Y VEREDAS | [`'S'`, `'T'`, `'U'`, `'V'`, `'W'`, `'X'`, `'Y'`, `'Z'`]\n",
        "\n",
        ">La tematica seleccionar depende de tu apellido, por ejemplo si es `Martinez` deberas realizar los siguientes ejercicios basandote en el topico de **Arbolado y espacios verdes**\n",
        "\n",
        "---\n",
        "\n",
        "\n",
        "🔹  Importar el archivo de [Sistema Único de Atención Ciudadana](https://data.buenosaires.gob.ar/dataset/sistema-unico-atencion-ciudadana) \n"
      ]
    },
    {
      "cell_type": "code",
      "metadata": {
        "id": "6jhAEdTDij_t"
      },
      "source": [
        "import pandas as pd \n",
        "data = pd.read_csv('./data/sistema-unico-de-atencion-ciudadana-2020.csv')"
      ],
      "execution_count": 1,
      "outputs": []
    },
    {
      "cell_type": "markdown",
      "metadata": {
        "id": "4oJaM8WipBUB"
      },
      "source": [
        "🔹 Visualizar las columnas del dataframe"
      ]
    },
    {
      "cell_type": "code",
      "metadata": {
        "id": "PxYCUzlagSjB"
      },
      "source": [
        "list(data.columns)"
      ],
      "execution_count": 2,
      "outputs": [
        {
          "output_type": "execute_result",
          "data": {
            "text/plain": [
              "['contacto',\n",
              " 'periodo',\n",
              " 'categoria',\n",
              " 'subcategoria',\n",
              " 'concepto',\n",
              " 'tipo_prestacion',\n",
              " 'fecha_ingreso',\n",
              " 'hora_ingreso',\n",
              " 'domicilio_cgpc',\n",
              " 'domicilio_barrio',\n",
              " 'domicilio_calle',\n",
              " 'domicilio_altura',\n",
              " 'domicilio_esquina_proxima',\n",
              " 'lat',\n",
              " 'long',\n",
              " 'canal',\n",
              " 'genero',\n",
              " 'estado_del_contacto',\n",
              " 'fecha_cierre_contacto']"
            ]
          },
          "metadata": {},
          "execution_count": 2
        }
      ]
    },
    {
      "cell_type": "markdown",
      "metadata": {
        "id": "5sR1wVdigP7s"
      },
      "source": [
        "🔹 Utilizar las funciones para validar y verificar los datos importados: \n",
        "\n",
        "orden | descripcion |   | método |\n",
        "---|---|---|---|\n",
        "1️⃣ | Comprobar la importación de los datos    |     ➡️ | pd.DataFrame.head()\n",
        "2️⃣ | Analizar los tipos de datos importados    |   ➡️ |pd.DataFrame.info()\n",
        "3️⃣ | Obtener un análisis de cada variable númerica | ➡️ |pd.DataFrame.describe()\n",
        "4️⃣ | Conocer los valores de variables categóricas  | ➡️ |pd.Series.unique()\n"
      ]
    },
    {
      "cell_type": "code",
      "execution_count": 3,
      "metadata": {},
      "outputs": [
        {
          "output_type": "execute_result",
          "data": {
            "text/plain": [
              "      contacto  periodo                   categoria             subcategoria  \\\n",
              "0  00000001/20   202001                    TRÁNSITO            DENUNCIA VIAL   \n",
              "1  00000002/20   202001                    TRÁNSITO            DENUNCIA VIAL   \n",
              "2  00000003/20   202001  ARBOLADO Y ESPACIOS VERDES      PLANTACIÓN DE ÁRBOL   \n",
              "3  00000004/20   202001  ARBOLADO Y ESPACIOS VERDES      PLANTACIÓN DE ÁRBOL   \n",
              "4  00000005/20   202001      LIMPIEZA Y RECOLECCIÓN  LIMPIEZA DE VÍA PÚBLICA   \n",
              "\n",
              "                                       concepto tipo_prestacion fecha_ingreso  \\\n",
              "0                      VEHÍCULO MAL ESTACIONADO        DENUNCIA    2020-01-01   \n",
              "1                      VEHÍCULO MAL ESTACIONADO        DENUNCIA    2020-01-01   \n",
              "2                           PLANTACIÓN DE ÁRBOL       SOLICITUD    2020-01-01   \n",
              "3                           PLANTACIÓN DE ÁRBOL       SOLICITUD    2020-01-01   \n",
              "4  RECOLECCIÓN DE RESIDUOS FUERA DEL CONTENEDOR       SOLICITUD    2020-01-01   \n",
              "\n",
              "    hora_ingreso domicilio_cgpc  domicilio_barrio  \\\n",
              "0  01:09:05 a.m.       COMUNA 6         CABALLITO   \n",
              "1  01:17:27 a.m.       COMUNA 4  PARQUE PATRICIOS   \n",
              "2  01:17:53 a.m.      COMUNA 13        COLEGIALES   \n",
              "3  01:19:07 a.m.      COMUNA 13        COLEGIALES   \n",
              "4  01:19:43 a.m.      COMUNA 12           COGHLAN   \n",
              "\n",
              "                domicilio_calle  domicilio_altura domicilio_esquina_proxima  \\\n",
              "0  PUEYRREDON, HONORIO, DR. AV.            1070.0                       NaN   \n",
              "1                   CASEROS AV.            3223.0                       NaN   \n",
              "2                         CONDE            1014.0                       NaN   \n",
              "3         LACROZE, FEDERICO AV.            3160.0                       NaN   \n",
              "4                    WASHINGTON            2519.0                       NaN   \n",
              "\n",
              "         lat       long    canal     genero estado_del_contacto  \\\n",
              "0 -34.608243 -58.445167  Comunas   Femenino             Cerrado   \n",
              "1 -34.637739 -58.409650  Comunas   Femenino             Cerrado   \n",
              "2 -34.576143 -58.453507  Comunas  Masculino             Cerrado   \n",
              "3 -34.577616 -58.449108  Comunas  Masculino             Abierto   \n",
              "4 -34.565914 -58.472585  Comunas   Femenino             Cerrado   \n",
              "\n",
              "  fecha_cierre_contacto  \n",
              "0            2020-01-01  \n",
              "1            2020-01-01  \n",
              "2            2020-01-07  \n",
              "3                   NaN  \n",
              "4            2020-01-02  "
            ],
            "text/html": "<div>\n<style scoped>\n    .dataframe tbody tr th:only-of-type {\n        vertical-align: middle;\n    }\n\n    .dataframe tbody tr th {\n        vertical-align: top;\n    }\n\n    .dataframe thead th {\n        text-align: right;\n    }\n</style>\n<table border=\"1\" class=\"dataframe\">\n  <thead>\n    <tr style=\"text-align: right;\">\n      <th></th>\n      <th>contacto</th>\n      <th>periodo</th>\n      <th>categoria</th>\n      <th>subcategoria</th>\n      <th>concepto</th>\n      <th>tipo_prestacion</th>\n      <th>fecha_ingreso</th>\n      <th>hora_ingreso</th>\n      <th>domicilio_cgpc</th>\n      <th>domicilio_barrio</th>\n      <th>domicilio_calle</th>\n      <th>domicilio_altura</th>\n      <th>domicilio_esquina_proxima</th>\n      <th>lat</th>\n      <th>long</th>\n      <th>canal</th>\n      <th>genero</th>\n      <th>estado_del_contacto</th>\n      <th>fecha_cierre_contacto</th>\n    </tr>\n  </thead>\n  <tbody>\n    <tr>\n      <th>0</th>\n      <td>00000001/20</td>\n      <td>202001</td>\n      <td>TRÁNSITO</td>\n      <td>DENUNCIA VIAL</td>\n      <td>VEHÍCULO MAL ESTACIONADO</td>\n      <td>DENUNCIA</td>\n      <td>2020-01-01</td>\n      <td>01:09:05 a.m.</td>\n      <td>COMUNA 6</td>\n      <td>CABALLITO</td>\n      <td>PUEYRREDON, HONORIO, DR. AV.</td>\n      <td>1070.0</td>\n      <td>NaN</td>\n      <td>-34.608243</td>\n      <td>-58.445167</td>\n      <td>Comunas</td>\n      <td>Femenino</td>\n      <td>Cerrado</td>\n      <td>2020-01-01</td>\n    </tr>\n    <tr>\n      <th>1</th>\n      <td>00000002/20</td>\n      <td>202001</td>\n      <td>TRÁNSITO</td>\n      <td>DENUNCIA VIAL</td>\n      <td>VEHÍCULO MAL ESTACIONADO</td>\n      <td>DENUNCIA</td>\n      <td>2020-01-01</td>\n      <td>01:17:27 a.m.</td>\n      <td>COMUNA 4</td>\n      <td>PARQUE PATRICIOS</td>\n      <td>CASEROS AV.</td>\n      <td>3223.0</td>\n      <td>NaN</td>\n      <td>-34.637739</td>\n      <td>-58.409650</td>\n      <td>Comunas</td>\n      <td>Femenino</td>\n      <td>Cerrado</td>\n      <td>2020-01-01</td>\n    </tr>\n    <tr>\n      <th>2</th>\n      <td>00000003/20</td>\n      <td>202001</td>\n      <td>ARBOLADO Y ESPACIOS VERDES</td>\n      <td>PLANTACIÓN DE ÁRBOL</td>\n      <td>PLANTACIÓN DE ÁRBOL</td>\n      <td>SOLICITUD</td>\n      <td>2020-01-01</td>\n      <td>01:17:53 a.m.</td>\n      <td>COMUNA 13</td>\n      <td>COLEGIALES</td>\n      <td>CONDE</td>\n      <td>1014.0</td>\n      <td>NaN</td>\n      <td>-34.576143</td>\n      <td>-58.453507</td>\n      <td>Comunas</td>\n      <td>Masculino</td>\n      <td>Cerrado</td>\n      <td>2020-01-07</td>\n    </tr>\n    <tr>\n      <th>3</th>\n      <td>00000004/20</td>\n      <td>202001</td>\n      <td>ARBOLADO Y ESPACIOS VERDES</td>\n      <td>PLANTACIÓN DE ÁRBOL</td>\n      <td>PLANTACIÓN DE ÁRBOL</td>\n      <td>SOLICITUD</td>\n      <td>2020-01-01</td>\n      <td>01:19:07 a.m.</td>\n      <td>COMUNA 13</td>\n      <td>COLEGIALES</td>\n      <td>LACROZE, FEDERICO AV.</td>\n      <td>3160.0</td>\n      <td>NaN</td>\n      <td>-34.577616</td>\n      <td>-58.449108</td>\n      <td>Comunas</td>\n      <td>Masculino</td>\n      <td>Abierto</td>\n      <td>NaN</td>\n    </tr>\n    <tr>\n      <th>4</th>\n      <td>00000005/20</td>\n      <td>202001</td>\n      <td>LIMPIEZA Y RECOLECCIÓN</td>\n      <td>LIMPIEZA DE VÍA PÚBLICA</td>\n      <td>RECOLECCIÓN DE RESIDUOS FUERA DEL CONTENEDOR</td>\n      <td>SOLICITUD</td>\n      <td>2020-01-01</td>\n      <td>01:19:43 a.m.</td>\n      <td>COMUNA 12</td>\n      <td>COGHLAN</td>\n      <td>WASHINGTON</td>\n      <td>2519.0</td>\n      <td>NaN</td>\n      <td>-34.565914</td>\n      <td>-58.472585</td>\n      <td>Comunas</td>\n      <td>Femenino</td>\n      <td>Cerrado</td>\n      <td>2020-01-02</td>\n    </tr>\n  </tbody>\n</table>\n</div>"
          },
          "metadata": {},
          "execution_count": 3
        }
      ],
      "source": [
        "data.head()"
      ]
    },
    {
      "cell_type": "code",
      "metadata": {
        "id": "IQW1PFzQgPnN"
      },
      "source": [
        "data.info()"
      ],
      "execution_count": 4,
      "outputs": [
        {
          "output_type": "stream",
          "name": "stdout",
          "text": [
            "<class 'pandas.core.frame.DataFrame'>\nRangeIndex: 340645 entries, 0 to 340644\nData columns (total 19 columns):\n #   Column                     Non-Null Count   Dtype  \n---  ------                     --------------   -----  \n 0   contacto                   340645 non-null  object \n 1   periodo                    340645 non-null  int64  \n 2   categoria                  156865 non-null  object \n 3   subcategoria               156479 non-null  object \n 4   concepto                   340645 non-null  object \n 5   tipo_prestacion            340645 non-null  object \n 6   fecha_ingreso              340645 non-null  object \n 7   hora_ingreso               340645 non-null  object \n 8   domicilio_cgpc             325779 non-null  object \n 9   domicilio_barrio           325779 non-null  object \n 10  domicilio_calle            252496 non-null  object \n 11  domicilio_altura           238088 non-null  float64\n 12  domicilio_esquina_proxima  14408 non-null   object \n 13  lat                        325910 non-null  float64\n 14  long                       325910 non-null  float64\n 15  canal                      286245 non-null  object \n 16  genero                     291232 non-null  object \n 17  estado_del_contacto        340645 non-null  object \n 18  fecha_cierre_contacto      287689 non-null  object \ndtypes: float64(3), int64(1), object(15)\nmemory usage: 49.4+ MB\n"
          ]
        }
      ]
    },
    {
      "cell_type": "markdown",
      "metadata": {
        "id": "-mg38dxqiVAd"
      },
      "source": [
        "🔹 Generar una lista con los valores únicos sobre las subcategorías de los reclamos."
      ]
    },
    {
      "cell_type": "code",
      "metadata": {
        "id": "8cnfCCRciYmS"
      },
      "source": [
        "list(data['categoria'].unique())"
      ],
      "execution_count": 5,
      "outputs": [
        {
          "output_type": "execute_result",
          "data": {
            "text/plain": [
              "['TRÁNSITO',\n",
              " 'ARBOLADO Y ESPACIOS VERDES',\n",
              " 'LIMPIEZA Y RECOLECCIÓN',\n",
              " 'FISCALIZACIÓN ACTIVIDADES COMERCIALES',\n",
              " 'RECICLADO Y PROTECCIÓN AMBIENTAL',\n",
              " 'MEDIOS DE TRANSPORTE',\n",
              " 'CONTROL EDILICIO, OBRAS Y CATASTRO',\n",
              " nan,\n",
              " 'PLUVIALES',\n",
              " 'ALUMBRADO',\n",
              " 'ORDENAMIENTO DEL ESPACIO PÚBLICO',\n",
              " 'CALLES Y VEREDAS',\n",
              " 'SEGURIDAD',\n",
              " 'TRÁMITES Y SERVICIOS',\n",
              " 'SALUD Y SERVICIOS SOCIALES']"
            ]
          },
          "metadata": {},
          "execution_count": 5
        }
      ]
    },
    {
      "cell_type": "markdown",
      "metadata": {
        "id": "G6Efg0imiCLi"
      },
      "source": [
        "🔹 Generar una dataframe en base a la tematica "
      ]
    },
    {
      "cell_type": "code",
      "metadata": {
        "id": "9zU2fQ7QvBqC"
      },
      "source": [
        "df = data.loc[data['categoria']=='ARBOLADO Y ESPACIOS VERDES', :]"
      ],
      "execution_count": 6,
      "outputs": []
    },
    {
      "cell_type": "markdown",
      "metadata": {
        "id": "UuHRZsdVjyfZ"
      },
      "source": [
        "🔹 Cual es la comuna con más reclamos?"
      ]
    },
    {
      "cell_type": "code",
      "metadata": {
        "id": "Xj_cLxDSjjNe"
      },
      "source": [
        "df['domicilio_cgpc'].value_counts(normalize=True, dropna=False)"
      ],
      "execution_count": 7,
      "outputs": [
        {
          "output_type": "execute_result",
          "data": {
            "text/plain": [
              "COMUNA 11    0.125345\n",
              "COMUNA 12    0.120225\n",
              "COMUNA 7     0.096986\n",
              "COMUNA 10    0.093189\n",
              "COMUNA 15    0.089508\n",
              "COMUNA 9     0.086229\n",
              "COMUNA 13    0.073976\n",
              "COMUNA 4     0.061493\n",
              "COMUNA 14    0.047572\n",
              "COMUNA 6     0.044639\n",
              "COMUNA 5     0.041993\n",
              "COMUNA 3     0.037103\n",
              "COMUNA 8     0.036528\n",
              "COMUNA 1     0.024678\n",
              "COMUNA 2     0.020536\n",
              "Name: domicilio_cgpc, dtype: float64"
            ]
          },
          "metadata": {},
          "execution_count": 7
        }
      ]
    },
    {
      "cell_type": "markdown",
      "metadata": {
        "id": "EN1Tg2k6kNmp"
      },
      "source": [
        "🔹 Porque canal se realiza el reclamo?"
      ]
    },
    {
      "cell_type": "code",
      "metadata": {
        "id": "zmATOmk6kNKW"
      },
      "source": [
        "df['canal'].value_counts(normalize=True, dropna=False)"
      ],
      "execution_count": 8,
      "outputs": [
        {
          "output_type": "execute_result",
          "data": {
            "text/plain": [
              "147        0.466751\n",
              "App        0.281696\n",
              "Comunas    0.193856\n",
              "Web        0.040439\n",
              "NaN        0.017257\n",
              "Name: canal, dtype: float64"
            ]
          },
          "metadata": {},
          "execution_count": 8
        }
      ]
    },
    {
      "cell_type": "markdown",
      "metadata": {
        "id": "8D9xUIuhlOdy"
      },
      "source": [
        "🔹 Que tipo de registro se ingresan en mayor cantidad? Por tipo de registro se refiere a la variable que contiene si son reclamos, solicitudes o incidentes."
      ]
    },
    {
      "cell_type": "code",
      "execution_count": 9,
      "metadata": {},
      "outputs": [
        {
          "output_type": "execute_result",
          "data": {
            "text/plain": [
              "array(['DENUNCIA', 'SOLICITUD', 'QUEJA', 'SERVICIO'], dtype=object)"
            ]
          },
          "metadata": {},
          "execution_count": 9
        }
      ],
      "source": [
        "data['tipo_prestacion'].unique()"
      ]
    },
    {
      "cell_type": "code",
      "metadata": {
        "id": "ZkYI72hvlRPO"
      },
      "source": [
        "df['tipo_prestacion'].value_counts()"
      ],
      "execution_count": 10,
      "outputs": [
        {
          "output_type": "execute_result",
          "data": {
            "text/plain": [
              "SOLICITUD    15875\n",
              "QUEJA         1509\n",
              "Name: tipo_prestacion, dtype: int64"
            ]
          },
          "metadata": {},
          "execution_count": 10
        }
      ]
    },
    {
      "cell_type": "markdown",
      "metadata": {
        "id": "Yj2-waILljEJ"
      },
      "source": [
        "🔹 En base a la categoría genere un dataframe con la cantidad de registros que hay por cada subcategorias y exprese los valores como porcentuales."
      ]
    },
    {
      "cell_type": "code",
      "execution_count": 11,
      "metadata": {},
      "outputs": [
        {
          "output_type": "execute_result",
          "data": {
            "text/plain": [
              "  PRESTACION  CANTIDAD %\n",
              "0  SOLICITUD   91.319604\n",
              "1      QUEJA    8.680396"
            ],
            "text/html": "<div>\n<style scoped>\n    .dataframe tbody tr th:only-of-type {\n        vertical-align: middle;\n    }\n\n    .dataframe tbody tr th {\n        vertical-align: top;\n    }\n\n    .dataframe thead th {\n        text-align: right;\n    }\n</style>\n<table border=\"1\" class=\"dataframe\">\n  <thead>\n    <tr style=\"text-align: right;\">\n      <th></th>\n      <th>PRESTACION</th>\n      <th>CANTIDAD %</th>\n    </tr>\n  </thead>\n  <tbody>\n    <tr>\n      <th>0</th>\n      <td>SOLICITUD</td>\n      <td>91.319604</td>\n    </tr>\n    <tr>\n      <th>1</th>\n      <td>QUEJA</td>\n      <td>8.680396</td>\n    </tr>\n  </tbody>\n</table>\n</div>"
          },
          "metadata": {},
          "execution_count": 11
        }
      ],
      "source": [
        "indices = df['tipo_prestacion'].value_counts().index\n",
        "values = df['tipo_prestacion'].value_counts(normalize=True).values\n",
        "pd.DataFrame({'PRESTACION':indices, 'CANTIDAD %':values * 100})"
      ]
    },
    {
      "cell_type": "markdown",
      "metadata": {
        "id": "ITnhG7TSmwOG"
      },
      "source": [
        "🔹 Cuáles son los 3 conceptos con menos reclamos? Ordenar en forma creciente."
      ]
    },
    {
      "cell_type": "code",
      "metadata": {
        "id": "C0qGB72cm8DM"
      },
      "source": [
        "df['concepto'].value_counts(dropna=False).tail(3)"
      ],
      "execution_count": 12,
      "outputs": [
        {
          "output_type": "execute_result",
          "data": {
            "text/plain": [
              "INSTALACIÓN DE REJAS EN PARQUE/PLAZA                 10\n",
              "INSTALACIÓN DE FUENTES EN PARQUE / PLAZA              8\n",
              "INSTALACIÓN DE CESTOS DE BASURA EN PARQUE / PLAZA     7\n",
              "Name: concepto, dtype: int64"
            ]
          },
          "metadata": {},
          "execution_count": 12
        }
      ]
    },
    {
      "cell_type": "code",
      "execution_count": 13,
      "metadata": {},
      "outputs": [
        {
          "output_type": "execute_result",
          "data": {
            "text/plain": [
              "INSTALACIÓN DE CESTOS DE BASURA EN PARQUE / PLAZA     7\n",
              "INSTALACIÓN DE FUENTES EN PARQUE / PLAZA              8\n",
              "INSTALACIÓN DE REJAS EN PARQUE/PLAZA                 10\n",
              "Name: concepto, dtype: int64"
            ]
          },
          "metadata": {},
          "execution_count": 13
        }
      ],
      "source": [
        "df['concepto'].value_counts(dropna=False, ascending=True).head(3)"
      ]
    },
    {
      "cell_type": "markdown",
      "metadata": {
        "id": "AzldY3R9nLjh"
      },
      "source": [
        "🔹 Cuántos reclamos hay pendiente todavía? Genere un dataframe con dicho registros"
      ]
    },
    {
      "cell_type": "code",
      "metadata": {
        "id": "jCOxONV3mUHj"
      },
      "source": [
        "indices = df['estado_del_contacto'].value_counts().index\n",
        "values = df['estado_del_contacto'].value_counts(normalize=True).values\n",
        "pd.DataFrame({'ESTADO':indices, 'CANTIDAD %':values * 100})"
      ],
      "execution_count": 14,
      "outputs": [
        {
          "output_type": "execute_result",
          "data": {
            "text/plain": [
              "    ESTADO  CANTIDAD %\n",
              "0  Cerrado   54.084215\n",
              "1  Abierto   45.915785"
            ],
            "text/html": "<div>\n<style scoped>\n    .dataframe tbody tr th:only-of-type {\n        vertical-align: middle;\n    }\n\n    .dataframe tbody tr th {\n        vertical-align: top;\n    }\n\n    .dataframe thead th {\n        text-align: right;\n    }\n</style>\n<table border=\"1\" class=\"dataframe\">\n  <thead>\n    <tr style=\"text-align: right;\">\n      <th></th>\n      <th>ESTADO</th>\n      <th>CANTIDAD %</th>\n    </tr>\n  </thead>\n  <tbody>\n    <tr>\n      <th>0</th>\n      <td>Cerrado</td>\n      <td>54.084215</td>\n    </tr>\n    <tr>\n      <th>1</th>\n      <td>Abierto</td>\n      <td>45.915785</td>\n    </tr>\n  </tbody>\n</table>\n</div>"
          },
          "metadata": {},
          "execution_count": 14
        }
      ]
    },
    {
      "cell_type": "markdown",
      "metadata": {
        "id": "c7n2YsH-tRvd"
      },
      "source": [
        "🔹 Cual es la comuna que tiene mas reclamos abiertos? Para resolverlo genere un dataframe con el agrupamiento por periodo y tipo de concepto "
      ]
    },
    {
      "cell_type": "code",
      "execution_count": 15,
      "metadata": {},
      "outputs": [
        {
          "output_type": "execute_result",
          "data": {
            "text/plain": [
              "periodo  concepto                                  domicilio_cgpc\n",
              "202001   EXTRACCIÓN DE ÁRBOL                       COMUNA 10         48\n",
              "                                                   COMUNA 11         43\n",
              "                                                   COMUNA 4          35\n",
              "                                                   COMUNA 9          34\n",
              "                                                   COMUNA 15         20\n",
              "                                                                     ..\n",
              "202007   PROBLEMAS CON INTERVENCIONES DE ARBOLADO  COMUNA 13          6\n",
              "                                                   COMUNA 6           6\n",
              "                                                   COMUNA 4           5\n",
              "                                                   COMUNA 7           5\n",
              "                                                   COMUNA 5           2\n",
              "Name: domicilio_cgpc, Length: 661, dtype: int64"
            ]
          },
          "metadata": {},
          "execution_count": 15
        }
      ],
      "source": [
        "# 1ro filtramos por reclamos abiertos\n",
        "abiertos = df.loc[(df['estado_del_contacto']=='Abierto')]\n",
        "# 2do agrupamos por periodo y concepto\n",
        "agrupado = abiertos.groupby(['periodo','concepto'])\n",
        "# 3ro contamos cual es la comuna con mas reclamos de este tipo abiertos\n",
        "agrupado['domicilio_cgpc'].value_counts()"
      ]
    },
    {
      "cell_type": "markdown",
      "metadata": {
        "id": "9lwYhfiyoDqx"
      },
      "source": [
        "🔹 Cuál es la subcategoria que tiene más casos que tardan más de 10 días en resolver un incidente?\n",
        "\n",
        "> **Pista I:** Para realizar este ejercicio es necesario utilizar **pd.to_datetime(df[col],format='%Y-%m-%d')** para converir en formato fecha. \n",
        "\n",
        "> **Pista II:** Posteriormente puede generar una nueva columna que contenga la diferencia entre: $$ fechaCierreContacto -fechaIngreso $$\n",
        "\n",
        "> **Pista III:** Recuerde que este control se debe realizar sobre las observaciones que el estado sea **Cerrado** "
      ]
    },
    {
      "cell_type": "code",
      "execution_count": 16,
      "metadata": {},
      "outputs": [
        {
          "output_type": "execute_result",
          "data": {
            "text/plain": [
              "2         6 days\n",
              "6         5 days\n",
              "75        2 days\n",
              "105       1 days\n",
              "112       1 days\n",
              "           ...  \n",
              "338889   11 days\n",
              "339247    8 days\n",
              "339989    6 days\n",
              "340297    5 days\n",
              "340391    5 days\n",
              "Length: 9402, dtype: timedelta64[ns]"
            ]
          },
          "metadata": {},
          "execution_count": 16
        }
      ],
      "source": [
        "cerrados = df.loc[(df['estado_del_contacto']=='Cerrado')]\n",
        "ingreso = pd.to_datetime(cerrados['fecha_ingreso'], format='%Y-%m-%d')\n",
        "cierre = pd.to_datetime(cerrados['fecha_cierre_contacto'], format='%Y-%m-%d')\n",
        "\n",
        "tardanza = cierre - ingreso\n",
        "tardanza"
      ]
    },
    {
      "cell_type": "code",
      "execution_count": 17,
      "metadata": {},
      "outputs": [
        {
          "output_type": "execute_result",
          "data": {
            "text/plain": [
              "2          6\n",
              "6          5\n",
              "75         2\n",
              "105        1\n",
              "112        1\n",
              "          ..\n",
              "338889    11\n",
              "339247     8\n",
              "339989     6\n",
              "340297     5\n",
              "340391     5\n",
              "Length: 9402, dtype: int64"
            ]
          },
          "metadata": {},
          "execution_count": 17
        }
      ],
      "source": [
        "demora = tardanza.dt.days\n",
        "demora"
      ]
    },
    {
      "cell_type": "code",
      "execution_count": 18,
      "metadata": {},
      "outputs": [
        {
          "output_type": "stream",
          "name": "stderr",
          "text": [
            "<ipython-input-18-6eca39f50d2b>:1: SettingWithCopyWarning: \nA value is trying to be set on a copy of a slice from a DataFrame.\nTry using .loc[row_indexer,col_indexer] = value instead\n\nSee the caveats in the documentation: https://pandas.pydata.org/pandas-docs/stable/user_guide/indexing.html#returning-a-view-versus-a-copy\n  cerrados['demora'] = demora\n"
          ]
        }
      ],
      "source": [
        "cerrados['demora'] = demora"
      ]
    },
    {
      "cell_type": "code",
      "execution_count": 19,
      "metadata": {},
      "outputs": [
        {
          "output_type": "execute_result",
          "data": {
            "text/plain": [
              "        contacto  periodo                   categoria  \\\n",
              "192  00000196/20   202001  ARBOLADO Y ESPACIOS VERDES   \n",
              "196  00000200/20   202001  ARBOLADO Y ESPACIOS VERDES   \n",
              "242  00000248/20   202001  ARBOLADO Y ESPACIOS VERDES   \n",
              "275  00000282/20   202001  ARBOLADO Y ESPACIOS VERDES   \n",
              "290  00000296/20   202001  ARBOLADO Y ESPACIOS VERDES   \n",
              "\n",
              "                             subcategoria  \\\n",
              "192                   EXTRACCIÓN DE ÁRBOL   \n",
              "196                   EXTRACCIÓN DE ÁRBOL   \n",
              "242                      PARQUES Y PLAZAS   \n",
              "275  PODA DE ÁRBOL Y DESPEJE DE LUMINARIA   \n",
              "290  PODA DE ÁRBOL Y DESPEJE DE LUMINARIA   \n",
              "\n",
              "                                              concepto tipo_prestacion  \\\n",
              "192                                EXTRACCIÓN DE ÁRBOL       SOLICITUD   \n",
              "196                                EXTRACCIÓN DE ÁRBOL       SOLICITUD   \n",
              "242  MANTENIMIENTO DE CESPED Y/O RIEGO EN PARQUE/PLAZA       SOLICITUD   \n",
              "275      PODA DE ÁRBOL/DESPEJE DE LUMINARIA O SEMÁFORO       SOLICITUD   \n",
              "290      PODA DE ÁRBOL/DESPEJE DE LUMINARIA O SEMÁFORO       SOLICITUD   \n",
              "\n",
              "    fecha_ingreso   hora_ingreso domicilio_cgpc  domicilio_barrio  \\\n",
              "192    2020-01-01  05:43:00 p.m.      COMUNA 11  VILLA DEL PARQUE   \n",
              "196    2020-01-01  05:46:24 p.m.      COMUNA 15       PARQUE CHAS   \n",
              "242    2020-01-01  07:19:12 p.m.      COMUNA 13        COLEGIALES   \n",
              "275    2020-01-01  08:33:33 p.m.       COMUNA 9           LINIERS   \n",
              "290    2020-01-01  08:56:21 p.m.       COMUNA 4     NUEVA POMPEYA   \n",
              "\n",
              "    domicilio_calle  domicilio_altura domicilio_esquina_proxima        lat  \\\n",
              "192         GAVILAN            2488.0                       NaN -34.603378   \n",
              "196       BALLIVIAN            2665.0                       NaN -34.580540   \n",
              "242             NaN               NaN                       NaN -34.580739   \n",
              "275          PIERES             611.0                       NaN -34.646092   \n",
              "290  OCHOA, ENRIQUE              64.0                       NaN -34.647488   \n",
              "\n",
              "          long    canal     genero estado_del_contacto fecha_cierre_contacto  \\\n",
              "192 -58.475641  Comunas  Masculino             Cerrado            2020-06-05   \n",
              "196 -58.480422  Comunas   Femenino             Cerrado            2020-03-11   \n",
              "242 -58.445531      App   Femenino             Cerrado            2020-02-03   \n",
              "275 -58.510674      App   Femenino             Cerrado            2020-01-20   \n",
              "290 -58.415165  Comunas   Femenino             Cerrado            2020-01-15   \n",
              "\n",
              "     demora  \n",
              "192     156  \n",
              "196      70  \n",
              "242      33  \n",
              "275      19  \n",
              "290      14  "
            ],
            "text/html": "<div>\n<style scoped>\n    .dataframe tbody tr th:only-of-type {\n        vertical-align: middle;\n    }\n\n    .dataframe tbody tr th {\n        vertical-align: top;\n    }\n\n    .dataframe thead th {\n        text-align: right;\n    }\n</style>\n<table border=\"1\" class=\"dataframe\">\n  <thead>\n    <tr style=\"text-align: right;\">\n      <th></th>\n      <th>contacto</th>\n      <th>periodo</th>\n      <th>categoria</th>\n      <th>subcategoria</th>\n      <th>concepto</th>\n      <th>tipo_prestacion</th>\n      <th>fecha_ingreso</th>\n      <th>hora_ingreso</th>\n      <th>domicilio_cgpc</th>\n      <th>domicilio_barrio</th>\n      <th>domicilio_calle</th>\n      <th>domicilio_altura</th>\n      <th>domicilio_esquina_proxima</th>\n      <th>lat</th>\n      <th>long</th>\n      <th>canal</th>\n      <th>genero</th>\n      <th>estado_del_contacto</th>\n      <th>fecha_cierre_contacto</th>\n      <th>demora</th>\n    </tr>\n  </thead>\n  <tbody>\n    <tr>\n      <th>192</th>\n      <td>00000196/20</td>\n      <td>202001</td>\n      <td>ARBOLADO Y ESPACIOS VERDES</td>\n      <td>EXTRACCIÓN DE ÁRBOL</td>\n      <td>EXTRACCIÓN DE ÁRBOL</td>\n      <td>SOLICITUD</td>\n      <td>2020-01-01</td>\n      <td>05:43:00 p.m.</td>\n      <td>COMUNA 11</td>\n      <td>VILLA DEL PARQUE</td>\n      <td>GAVILAN</td>\n      <td>2488.0</td>\n      <td>NaN</td>\n      <td>-34.603378</td>\n      <td>-58.475641</td>\n      <td>Comunas</td>\n      <td>Masculino</td>\n      <td>Cerrado</td>\n      <td>2020-06-05</td>\n      <td>156</td>\n    </tr>\n    <tr>\n      <th>196</th>\n      <td>00000200/20</td>\n      <td>202001</td>\n      <td>ARBOLADO Y ESPACIOS VERDES</td>\n      <td>EXTRACCIÓN DE ÁRBOL</td>\n      <td>EXTRACCIÓN DE ÁRBOL</td>\n      <td>SOLICITUD</td>\n      <td>2020-01-01</td>\n      <td>05:46:24 p.m.</td>\n      <td>COMUNA 15</td>\n      <td>PARQUE CHAS</td>\n      <td>BALLIVIAN</td>\n      <td>2665.0</td>\n      <td>NaN</td>\n      <td>-34.580540</td>\n      <td>-58.480422</td>\n      <td>Comunas</td>\n      <td>Femenino</td>\n      <td>Cerrado</td>\n      <td>2020-03-11</td>\n      <td>70</td>\n    </tr>\n    <tr>\n      <th>242</th>\n      <td>00000248/20</td>\n      <td>202001</td>\n      <td>ARBOLADO Y ESPACIOS VERDES</td>\n      <td>PARQUES Y PLAZAS</td>\n      <td>MANTENIMIENTO DE CESPED Y/O RIEGO EN PARQUE/PLAZA</td>\n      <td>SOLICITUD</td>\n      <td>2020-01-01</td>\n      <td>07:19:12 p.m.</td>\n      <td>COMUNA 13</td>\n      <td>COLEGIALES</td>\n      <td>NaN</td>\n      <td>NaN</td>\n      <td>NaN</td>\n      <td>-34.580739</td>\n      <td>-58.445531</td>\n      <td>App</td>\n      <td>Femenino</td>\n      <td>Cerrado</td>\n      <td>2020-02-03</td>\n      <td>33</td>\n    </tr>\n    <tr>\n      <th>275</th>\n      <td>00000282/20</td>\n      <td>202001</td>\n      <td>ARBOLADO Y ESPACIOS VERDES</td>\n      <td>PODA DE ÁRBOL Y DESPEJE DE LUMINARIA</td>\n      <td>PODA DE ÁRBOL/DESPEJE DE LUMINARIA O SEMÁFORO</td>\n      <td>SOLICITUD</td>\n      <td>2020-01-01</td>\n      <td>08:33:33 p.m.</td>\n      <td>COMUNA 9</td>\n      <td>LINIERS</td>\n      <td>PIERES</td>\n      <td>611.0</td>\n      <td>NaN</td>\n      <td>-34.646092</td>\n      <td>-58.510674</td>\n      <td>App</td>\n      <td>Femenino</td>\n      <td>Cerrado</td>\n      <td>2020-01-20</td>\n      <td>19</td>\n    </tr>\n    <tr>\n      <th>290</th>\n      <td>00000296/20</td>\n      <td>202001</td>\n      <td>ARBOLADO Y ESPACIOS VERDES</td>\n      <td>PODA DE ÁRBOL Y DESPEJE DE LUMINARIA</td>\n      <td>PODA DE ÁRBOL/DESPEJE DE LUMINARIA O SEMÁFORO</td>\n      <td>SOLICITUD</td>\n      <td>2020-01-01</td>\n      <td>08:56:21 p.m.</td>\n      <td>COMUNA 4</td>\n      <td>NUEVA POMPEYA</td>\n      <td>OCHOA, ENRIQUE</td>\n      <td>64.0</td>\n      <td>NaN</td>\n      <td>-34.647488</td>\n      <td>-58.415165</td>\n      <td>Comunas</td>\n      <td>Femenino</td>\n      <td>Cerrado</td>\n      <td>2020-01-15</td>\n      <td>14</td>\n    </tr>\n  </tbody>\n</table>\n</div>"
          },
          "metadata": {},
          "execution_count": 19
        }
      ],
      "source": [
        "mayor_10 = cerrados.loc[(cerrados['demora'] >= 10)]\n",
        "mayor_10.head()"
      ]
    },
    {
      "cell_type": "markdown",
      "metadata": {
        "id": "rgRiJ8M7sh9L"
      },
      "source": [
        "🔹 Cuales son las 10 combianciones de subcategorias y comunas que tiene más casos y adicionalmente tardan más de un mes sin resolver un incidente?"
      ]
    },
    {
      "cell_type": "code",
      "metadata": {
        "id": "f1sosSttsC36"
      },
      "source": [
        "mayor_30 = cerrados.loc[(cerrados['demora'] >= 30)]\n",
        "mayor_30.value_counts([\"subcategoria\", \"domicilio_cgpc\"]).head(10)"
      ],
      "execution_count": null,
      "outputs": []
    }
  ]
}
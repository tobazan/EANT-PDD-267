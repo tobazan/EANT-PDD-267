{
  "nbformat": 4,
  "nbformat_minor": 0,
  "metadata": {
    "colab": {
      "name": "1.1-Practica_Scoring.ipynb",
      "provenance": [],
      "collapsed_sections": []
    },
    "kernelspec": {
      "name": "python387jvsc74a57bd01cb3c4095699f2a8cd6a12889e7edb42215ac8b2afd459e3e81282dc1470f9b2",
      "display_name": "Python 3.8.7 64-bit"
    },
    "metadata": {
      "interpreter": {
        "hash": "1cb3c4095699f2a8cd6a12889e7edb42215ac8b2afd459e3e81282dc1470f9b2"
      }
    }
  },
  "cells": [
    {
      "cell_type": "markdown",
      "metadata": {
        "id": "itWmrrcVfdH9"
      },
      "source": [
        " <img src=\"https://eant.tech/imagenes/logo.png\" width=25% height=80%  >  \n",
        "\n",
        "\n",
        "## <img src=\"http://icons.iconarchive.com/icons/cornmanthe3rd/plex/256/Other-python-icon.png\" width=\"40\"> Ejercicio Base de Scoring\n",
        "\n",
        "\n",
        "<center>\n",
        " <img src=\"https://miro.medium.com/max/1200/1*ZKa__3DMmxYlzXRg2EMKGA.png\" width=\"50%\" height=\"10%\"> \n",
        "</center>\n",
        "\n",
        "\n",
        "🏷️ 1. Importar pandas, numpy, datetime y os.\n"
      ]
    },
    {
      "cell_type": "code",
      "metadata": {
        "id": "6jhAEdTDij_t"
      },
      "source": [
        "import pandas as pd\n",
        "import numpy as np\n",
        "from datetime import date\n",
        "import os"
      ],
      "execution_count": 1,
      "outputs": []
    },
    {
      "cell_type": "markdown",
      "metadata": {
        "id": "BNBRdLPkIQKc"
      },
      "source": [
        "🏷️ 2. Importar el archivo de base_scoring.csv"
      ]
    },
    {
      "cell_type": "code",
      "metadata": {
        "id": "npcYmcz5fWdv"
      },
      "source": [
        "data = pd.read_csv('./data/base_scoring.csv', sep=';')\n",
        "data.head()"
      ],
      "execution_count": 2,
      "outputs": [
        {
          "output_type": "execute_result",
          "data": {
            "text/plain": [
              "   PLAZO  PRESTAMOS_ANTERIORES  SCORE_VERAZ ESTADO_CIVIL  DEUDA_SIST_FIN  \\\n",
              "0     48                     3        801.0          NaN    153878.43720   \n",
              "1     18                     1          NaN      Soltero     22306.12750   \n",
              "2     47                     5        446.0      Soltero     29200.00000   \n",
              "3     48                     4          NaN      Soltero     81159.60888   \n",
              "4     24                     3        153.0      Soltero     16527.33398   \n",
              "\n",
              "   INGRESOS_PERSONALES  dias_mora  \n",
              "0          212512.5937          0  \n",
              "1          130572.4536          0  \n",
              "2          230000.0000          0  \n",
              "3          105732.6630          0  \n",
              "4          112860.6895          0  "
            ],
            "text/html": "<div>\n<style scoped>\n    .dataframe tbody tr th:only-of-type {\n        vertical-align: middle;\n    }\n\n    .dataframe tbody tr th {\n        vertical-align: top;\n    }\n\n    .dataframe thead th {\n        text-align: right;\n    }\n</style>\n<table border=\"1\" class=\"dataframe\">\n  <thead>\n    <tr style=\"text-align: right;\">\n      <th></th>\n      <th>PLAZO</th>\n      <th>PRESTAMOS_ANTERIORES</th>\n      <th>SCORE_VERAZ</th>\n      <th>ESTADO_CIVIL</th>\n      <th>DEUDA_SIST_FIN</th>\n      <th>INGRESOS_PERSONALES</th>\n      <th>dias_mora</th>\n    </tr>\n  </thead>\n  <tbody>\n    <tr>\n      <th>0</th>\n      <td>48</td>\n      <td>3</td>\n      <td>801.0</td>\n      <td>NaN</td>\n      <td>153878.43720</td>\n      <td>212512.5937</td>\n      <td>0</td>\n    </tr>\n    <tr>\n      <th>1</th>\n      <td>18</td>\n      <td>1</td>\n      <td>NaN</td>\n      <td>Soltero</td>\n      <td>22306.12750</td>\n      <td>130572.4536</td>\n      <td>0</td>\n    </tr>\n    <tr>\n      <th>2</th>\n      <td>47</td>\n      <td>5</td>\n      <td>446.0</td>\n      <td>Soltero</td>\n      <td>29200.00000</td>\n      <td>230000.0000</td>\n      <td>0</td>\n    </tr>\n    <tr>\n      <th>3</th>\n      <td>48</td>\n      <td>4</td>\n      <td>NaN</td>\n      <td>Soltero</td>\n      <td>81159.60888</td>\n      <td>105732.6630</td>\n      <td>0</td>\n    </tr>\n    <tr>\n      <th>4</th>\n      <td>24</td>\n      <td>3</td>\n      <td>153.0</td>\n      <td>Soltero</td>\n      <td>16527.33398</td>\n      <td>112860.6895</td>\n      <td>0</td>\n    </tr>\n  </tbody>\n</table>\n</div>"
          },
          "metadata": {},
          "execution_count": 2
        }
      ]
    },
    {
      "cell_type": "markdown",
      "metadata": {
        "id": "4oJaM8WipBUB"
      },
      "source": [
        "🏷️ 3. Visualizar las columnas del dataframe"
      ]
    },
    {
      "cell_type": "code",
      "metadata": {
        "id": "PxYCUzlagSjB"
      },
      "source": [
        "list(data.columns)"
      ],
      "execution_count": 3,
      "outputs": [
        {
          "output_type": "execute_result",
          "data": {
            "text/plain": [
              "['PLAZO',\n",
              " 'PRESTAMOS_ANTERIORES',\n",
              " 'SCORE_VERAZ',\n",
              " 'ESTADO_CIVIL',\n",
              " 'DEUDA_SIST_FIN',\n",
              " 'INGRESOS_PERSONALES',\n",
              " 'dias_mora']"
            ]
          },
          "metadata": {},
          "execution_count": 3
        }
      ]
    },
    {
      "cell_type": "markdown",
      "metadata": {
        "id": "Z1Cwz94dIdzC"
      },
      "source": [
        "🏷️ 4. Generar una variable denominada **`'Mora_mas_90'`** en la cual:\n",
        "\n",
        "  * si los dias de mora superan a los 90 dias asignar el valor **1**\n",
        "  * si no supera los 90 dias asginar el valor **0**\n"
      ]
    },
    {
      "cell_type": "code",
      "metadata": {
        "id": "UcNl-xhUWlmd"
      },
      "source": [
        "data['dias_mora'].fillna(0)\n",
        "data['MORA>90'] = np.where(data['dias_mora'] >= 90, 1, 0)\n",
        "data['MORA>90'].value_counts()"
      ],
      "execution_count": 4,
      "outputs": [
        {
          "output_type": "execute_result",
          "data": {
            "text/plain": [
              "0    2421\n",
              "1     192\n",
              "Name: MORA>90, dtype: int64"
            ]
          },
          "metadata": {},
          "execution_count": 4
        }
      ]
    },
    {
      "cell_type": "markdown",
      "metadata": {
        "id": "m0SFYku-IkWD"
      },
      "source": [
        "🏷️ 5. Eliminar la columna que contiene la cantidad de días de mora"
      ]
    },
    {
      "cell_type": "code",
      "metadata": {
        "id": "fM4BEiGYWnQ9"
      },
      "source": [
        "data.drop(columns='dias_mora', inplace=True)\n",
        "data.columns"
      ],
      "execution_count": 5,
      "outputs": [
        {
          "output_type": "execute_result",
          "data": {
            "text/plain": [
              "Index(['PLAZO', 'PRESTAMOS_ANTERIORES', 'SCORE_VERAZ', 'ESTADO_CIVIL',\n",
              "       'DEUDA_SIST_FIN', 'INGRESOS_PERSONALES', 'MORA>90'],\n",
              "      dtype='object')"
            ]
          },
          "metadata": {},
          "execution_count": 5
        }
      ]
    },
    {
      "cell_type": "markdown",
      "metadata": {
        "id": "c0PU-qrHIpTK"
      },
      "source": [
        "🏷️ 6. Cual es el **`ESTADO_CIVIL`** más frecuente?"
      ]
    },
    {
      "cell_type": "code",
      "metadata": {
        "id": "B6J8mtQuWoTl"
      },
      "source": [
        "data['ESTADO_CIVIL'].value_counts(dropna=False)"
      ],
      "execution_count": 6,
      "outputs": [
        {
          "output_type": "execute_result",
          "data": {
            "text/plain": [
              "CASADO        1092\n",
              "SOLTERO        672\n",
              "Soltero        501\n",
              "DIVORCIADO     253\n",
              "NaN             70\n",
              "VIUDO           25\n",
              "Name: ESTADO_CIVIL, dtype: int64"
            ]
          },
          "metadata": {},
          "execution_count": 6
        }
      ]
    },
    {
      "cell_type": "markdown",
      "metadata": {
        "id": "kktypvRNItxF"
      },
      "source": [
        "🏷️ 7. Verificar nuevamente el ejercicio 6 y corregir lo que sea necesario"
      ]
    },
    {
      "cell_type": "code",
      "execution_count": 7,
      "metadata": {},
      "outputs": [
        {
          "output_type": "execute_result",
          "data": {
            "text/plain": [
              "SOLTERO       1173\n",
              "CASADO        1092\n",
              "DIVORCIADO     253\n",
              "NaN             70\n",
              "VIUDO           25\n",
              "Name: ESTADO_CIVIL, dtype: int64"
            ]
          },
          "metadata": {},
          "execution_count": 7
        }
      ],
      "source": [
        "data['ESTADO_CIVIL'].replace('Soltero', 'SOLTERO', inplace=True)\n",
        "data['ESTADO_CIVIL'].value_counts(dropna=False)"
      ]
    },
    {
      "cell_type": "markdown",
      "metadata": {
        "id": "mzi3FD5LIzi6"
      },
      "source": [
        "🏷️ 8. Verificar si hay observaciones que no tengan un valor en la variable ESTADO_CIVIL y asingar el valor más frecuente. (Utilizar np.where)"
      ]
    },
    {
      "cell_type": "code",
      "metadata": {
        "id": "eDbzWHNRWquN"
      },
      "source": [
        "data['ESTADO_CIVIL'].fillna('SOLTERO', inplace=True)\n",
        "data['ESTADO_CIVIL'].value_counts(dropna=False)"
      ],
      "execution_count": 8,
      "outputs": [
        {
          "output_type": "execute_result",
          "data": {
            "text/plain": [
              "SOLTERO       1243\n",
              "CASADO        1092\n",
              "DIVORCIADO     253\n",
              "VIUDO           25\n",
              "Name: ESTADO_CIVIL, dtype: int64"
            ]
          },
          "metadata": {},
          "execution_count": 8
        }
      ]
    },
    {
      "cell_type": "markdown",
      "metadata": {
        "id": "BOCXDK7fI6Xz"
      },
      "source": [
        "🏷️ 9. Existen valores nulos en la variable **`score_veraz`**, por lo cual asginar la mediana para dichas observaciones.\n",
        "(Utilizar **`.loc`**)"
      ]
    },
    {
      "cell_type": "code",
      "metadata": {
        "id": "nZKe5hzOWr4F"
      },
      "source": [
        "data['SCORE_VERAZ'].fillna(round(data['SCORE_VERAZ'].median(), 0), inplace=True)"
      ],
      "execution_count": 9,
      "outputs": []
    },
    {
      "cell_type": "markdown",
      "metadata": {
        "id": "fmTaaBobJBC9"
      },
      "source": [
        "🏷️ 10. El Score Veraz se puede asignar una categoria en base a los scores, por lo cual genere esa variable teniendo en cuenta las categorias que se visualizan en la siguiente imagen.\n",
        "(Utilizar **`.loc`**)\n",
        "\n",
        "<center>\n",
        "<img src=\"https://www.cotizacion.co/img/valores-de-fico-score.jpg\" width=\"50%\" height=\"10%\"> \n",
        "</center>"
      ]
    },
    {
      "cell_type": "code",
      "metadata": {
        "id": "JPs01RbqWtqR"
      },
      "source": [
        "bins = [300,560,650,700,750,850]\n",
        "labels = ['VERY BAD','BAD','FAIR','GOOD','EXCELLENT'] \n",
        "data['SCORE_VERAZ'] = pd.cut(data['SCORE_VERAZ'], bins=bins, labels=labels)\n",
        "data['SCORE_VERAZ'].dtype"
      ],
      "execution_count": 10,
      "outputs": [
        {
          "output_type": "execute_result",
          "data": {
            "text/plain": [
              "CategoricalDtype(categories=['VERY BAD', 'BAD', 'FAIR', 'GOOD', 'EXCELLENT'], ordered=True)"
            ]
          },
          "metadata": {},
          "execution_count": 10
        }
      ]
    },
    {
      "cell_type": "markdown",
      "metadata": {
        "id": "H8CQPNzMJKgk"
      },
      "source": [
        "🏷️ 11. Cual es la categoria que más frecuente"
      ]
    },
    {
      "cell_type": "code",
      "metadata": {
        "id": "IgAfQWhkWuuc"
      },
      "source": [
        "data['SCORE_VERAZ'].value_counts()"
      ],
      "execution_count": 11,
      "outputs": [
        {
          "output_type": "execute_result",
          "data": {
            "text/plain": [
              "GOOD         805\n",
              "EXCELLENT    506\n",
              "VERY BAD     335\n",
              "BAD          267\n",
              "FAIR         234\n",
              "Name: SCORE_VERAZ, dtype: int64"
            ]
          },
          "metadata": {},
          "execution_count": 11
        }
      ]
    },
    {
      "cell_type": "markdown",
      "metadata": {
        "id": "mlKO5faCJO1A"
      },
      "source": [
        "🏷️ 12. Como podemos corregir y detectar cuales son los valores que no asignamos."
      ]
    },
    {
      "cell_type": "code",
      "metadata": {
        "id": "trNvrX-kRCXc"
      },
      "source": [],
      "execution_count": null,
      "outputs": []
    },
    {
      "cell_type": "markdown",
      "metadata": {
        "id": "PnJI0qSHJTCN"
      },
      "source": [
        "🏷️ 13. En base a las categorias generadas asignar una variable dummy que:\n",
        "\n",
        "  * Asigne un valor **1** si es **'GOOD'** o **'EXCELLENT'**\n",
        "  * Para el resto de los valores asignar un **0**"
      ]
    },
    {
      "cell_type": "code",
      "metadata": {
        "id": "PuSMBC_SWwyX"
      },
      "source": [
        "data['BUEN_SCORE'] = data['SCORE_VERAZ'].replace(['GOOD', 'EXCELLENT'], 1)\n",
        "data['BUEN_SCORE'].replace(['VERY BAD','BAD','FAIR'], 0, inplace=True)\n",
        "data['BUEN_SCORE'].value_counts(normalize=True)"
      ],
      "execution_count": 12,
      "outputs": [
        {
          "output_type": "execute_result",
          "data": {
            "text/plain": [
              "1    0.610619\n",
              "0    0.389381\n",
              "Name: BUEN_SCORE, dtype: float64"
            ]
          },
          "metadata": {},
          "execution_count": 12
        }
      ]
    },
    {
      "cell_type": "markdown",
      "metadata": {
        "id": "HSomeOPeJhFN"
      },
      "source": [
        "🏷️ 14. Generar una carpeta que contenga un archivo por cada categoria de score veraz. Se debe tener en cuenta que si alguna categoria contiene espacios, remplazar por \"_\"\n",
        "\n",
        "  La carpeta debe tener la denominación (**score_prestamos_YYYYMMDD**)"
      ]
    },
    {
      "cell_type": "markdown",
      "metadata": {
        "id": "FGqTBXjdRmub"
      },
      "source": [
        "1. Creo la carpeta\n",
        "2. for \n",
        "  * 1. filtrar por la categoria loc\n",
        "  * 2. to_csv---> guardo en la carpeta del paso 1\n",
        "  "
      ]
    },
    {
      "cell_type": "code",
      "metadata": {
        "id": "lBZaiUAlEPiJ"
      },
      "source": [
        "categorias = list(data['SCORE_VERAZ'].unique())\n",
        "\n",
        "os.mkdir(f'./data/score_prestamos_{date.today().strftime(\"%Y%m%d\")}')\n",
        "path = f'./data/score_prestamos_{date.today().strftime(\"%Y%m%d\")}'\n",
        "\n",
        "for cat in categorias:\n",
        "    filtrado = data.loc[(data['SCORE_VERAZ'] == cat)]\n",
        "    filtrado.to_csv(f'{path}/SCORE_{cat}.csv', index=False)"
      ],
      "execution_count": 13,
      "outputs": []
    }
  ]
}
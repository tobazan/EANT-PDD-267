{
  "nbformat": 4,
  "nbformat_minor": 0,
  "metadata": {
    "colab": {
      "name": "01_Mapas.ipynb",
      "provenance": [],
      "collapsed_sections": []
    },
    "kernelspec": {
      "name": "python387jvsc74a57bd01cb3c4095699f2a8cd6a12889e7edb42215ac8b2afd459e3e81282dc1470f9b2",
      "display_name": "Python 3.8.7 64-bit"
    },
    "metadata": {
      "interpreter": {
        "hash": "1cb3c4095699f2a8cd6a12889e7edb42215ac8b2afd459e3e81282dc1470f9b2"
      }
    }
  },
  "cells": [
    {
      "cell_type": "markdown",
      "metadata": {
        "id": "ab7kbPcBE04j"
      },
      "source": [
        " <img src=\"https://eant.tech/imagenes/logo.png\" width=25% height=80%  >"
      ]
    },
    {
      "cell_type": "markdown",
      "metadata": {
        "id": "OvEjXYlcE18-"
      },
      "source": [
        "## <img src=\"http://icons.iconarchive.com/icons/cornmanthe3rd/plex/256/Other-python-icon.png\" width=\"40\"> Ejercicio Terremotos 🌍🌊🌐🏔️"
      ]
    },
    {
      "cell_type": "markdown",
      "metadata": {
        "id": "FdDrvkfle9cT"
      },
      "source": [
        "<center>\n",
        "<img src=\"https://i.ibb.co/Z8DYxPV/ciudad-destruida-zona-guerra-107791-3703.jpg\" alt=\"ciudad-destruida-zona-guerra-107791-3703\" border=\"0\">\n",
        "\n",
        "> source image: [link](https://www.freepik.es/vector-gratis/ciudad-destruida-zona-guerra_10385769.htm#page=1&query=Terremoto&position=2)"
      ]
    },
    {
      "cell_type": "markdown",
      "metadata": {
        "id": "4ZhG_aannolO"
      },
      "source": [
        "🏷️ Importar las siguientes librerías de python\n",
        "\n",
        "* pandas [`pd`]\n",
        "* folium\n",
        "* numpy [`np`]\n",
        "* matplotlib.pyplot [`plt`]"
      ]
    },
    {
      "cell_type": "code",
      "metadata": {
        "id": "aTcc9FhWP3KF"
      },
      "source": [
        "import pandas as pd\n",
        "import folium \n",
        "import numpy as np\n",
        "import matplotlib.pyplot as plt"
      ],
      "execution_count": 1,
      "outputs": []
    },
    {
      "cell_type": "markdown",
      "metadata": {
        "id": "GgsIy1eBoDeN"
      },
      "source": [
        "🏷️ Importar el dataframe denominado `terremotos` que se encuentra en la siguiente url\n"
      ]
    },
    {
      "cell_type": "code",
      "metadata": {
        "id": "YlRjk8N1oABz"
      },
      "source": [
        "url=\"https://raw.githubusercontent.com/cienciadedatos/datos-de-miercoles/master/datos/2019/2019-05-29/terremotos.csv\""
      ],
      "execution_count": 2,
      "outputs": []
    },
    {
      "cell_type": "code",
      "metadata": {
        "id": "6oE2PP4zQBI3"
      },
      "source": [
        "terremotos = pd.read_csv(url)"
      ],
      "execution_count": 3,
      "outputs": []
    },
    {
      "cell_type": "code",
      "metadata": {
        "colab": {
          "base_uri": "https://localhost:8080/",
          "height": 205
        },
        "id": "fkHI2Ar3FVNN",
        "outputId": "7ef5dca5-6f6e-4256-fa73-9c695f65f1d4"
      },
      "source": [
        "terremotos.head()"
      ],
      "execution_count": 4,
      "outputs": [
        {
          "output_type": "execute_result",
          "data": {
            "text/plain": [
              "        fecha      hora  latitud  longitud       tipo  profundidad  magnitud\n",
              "0  1965-01-02  13:44:18   19.246   145.616  terremoto        131.6       6.0\n",
              "1  1965-01-04  11:29:49    1.863   127.352  terremoto         80.0       5.8\n",
              "2  1965-01-05  18:05:58  -20.579  -173.972  terremoto         20.0       6.2\n",
              "3  1965-01-08  18:49:43  -59.076   -23.557  terremoto         15.0       5.8\n",
              "4  1965-01-09  13:32:50   11.938   126.427  terremoto         15.0       5.8"
            ],
            "text/html": "<div>\n<style scoped>\n    .dataframe tbody tr th:only-of-type {\n        vertical-align: middle;\n    }\n\n    .dataframe tbody tr th {\n        vertical-align: top;\n    }\n\n    .dataframe thead th {\n        text-align: right;\n    }\n</style>\n<table border=\"1\" class=\"dataframe\">\n  <thead>\n    <tr style=\"text-align: right;\">\n      <th></th>\n      <th>fecha</th>\n      <th>hora</th>\n      <th>latitud</th>\n      <th>longitud</th>\n      <th>tipo</th>\n      <th>profundidad</th>\n      <th>magnitud</th>\n    </tr>\n  </thead>\n  <tbody>\n    <tr>\n      <th>0</th>\n      <td>1965-01-02</td>\n      <td>13:44:18</td>\n      <td>19.246</td>\n      <td>145.616</td>\n      <td>terremoto</td>\n      <td>131.6</td>\n      <td>6.0</td>\n    </tr>\n    <tr>\n      <th>1</th>\n      <td>1965-01-04</td>\n      <td>11:29:49</td>\n      <td>1.863</td>\n      <td>127.352</td>\n      <td>terremoto</td>\n      <td>80.0</td>\n      <td>5.8</td>\n    </tr>\n    <tr>\n      <th>2</th>\n      <td>1965-01-05</td>\n      <td>18:05:58</td>\n      <td>-20.579</td>\n      <td>-173.972</td>\n      <td>terremoto</td>\n      <td>20.0</td>\n      <td>6.2</td>\n    </tr>\n    <tr>\n      <th>3</th>\n      <td>1965-01-08</td>\n      <td>18:49:43</td>\n      <td>-59.076</td>\n      <td>-23.557</td>\n      <td>terremoto</td>\n      <td>15.0</td>\n      <td>5.8</td>\n    </tr>\n    <tr>\n      <th>4</th>\n      <td>1965-01-09</td>\n      <td>13:32:50</td>\n      <td>11.938</td>\n      <td>126.427</td>\n      <td>terremoto</td>\n      <td>15.0</td>\n      <td>5.8</td>\n    </tr>\n  </tbody>\n</table>\n</div>"
          },
          "metadata": {},
          "execution_count": 4
        }
      ]
    },
    {
      "cell_type": "code",
      "metadata": {
        "colab": {
          "base_uri": "https://localhost:8080/"
        },
        "id": "xpByImbBFb9Y",
        "outputId": "cca9ef06-87ab-4870-970e-f9e45dfe7c73"
      },
      "source": [
        "terremotos.info()"
      ],
      "execution_count": 5,
      "outputs": [
        {
          "output_type": "stream",
          "name": "stdout",
          "text": [
            "<class 'pandas.core.frame.DataFrame'>\nRangeIndex: 23412 entries, 0 to 23411\nData columns (total 7 columns):\n #   Column       Non-Null Count  Dtype  \n---  ------       --------------  -----  \n 0   fecha        23412 non-null  object \n 1   hora         23412 non-null  object \n 2   latitud      23412 non-null  float64\n 3   longitud     23412 non-null  float64\n 4   tipo         23412 non-null  object \n 5   profundidad  23412 non-null  float64\n 6   magnitud     23412 non-null  float64\ndtypes: float64(4), object(3)\nmemory usage: 1.3+ MB\n"
          ]
        }
      ]
    },
    {
      "cell_type": "markdown",
      "metadata": {
        "id": "CY3dshk4oMef"
      },
      "source": [
        "🏷️ Imprimir las primeras 5 observaciones"
      ]
    },
    {
      "cell_type": "code",
      "metadata": {
        "id": "WvMN8MR4QNrp",
        "colab": {
          "base_uri": "https://localhost:8080/",
          "height": 205
        },
        "outputId": "21969836-0b90-4ce6-fa9d-e55960de7dd9"
      },
      "source": [
        "terremotos.head()\n"
      ],
      "execution_count": 6,
      "outputs": [
        {
          "output_type": "execute_result",
          "data": {
            "text/plain": [
              "        fecha      hora  latitud  longitud       tipo  profundidad  magnitud\n",
              "0  1965-01-02  13:44:18   19.246   145.616  terremoto        131.6       6.0\n",
              "1  1965-01-04  11:29:49    1.863   127.352  terremoto         80.0       5.8\n",
              "2  1965-01-05  18:05:58  -20.579  -173.972  terremoto         20.0       6.2\n",
              "3  1965-01-08  18:49:43  -59.076   -23.557  terremoto         15.0       5.8\n",
              "4  1965-01-09  13:32:50   11.938   126.427  terremoto         15.0       5.8"
            ],
            "text/html": "<div>\n<style scoped>\n    .dataframe tbody tr th:only-of-type {\n        vertical-align: middle;\n    }\n\n    .dataframe tbody tr th {\n        vertical-align: top;\n    }\n\n    .dataframe thead th {\n        text-align: right;\n    }\n</style>\n<table border=\"1\" class=\"dataframe\">\n  <thead>\n    <tr style=\"text-align: right;\">\n      <th></th>\n      <th>fecha</th>\n      <th>hora</th>\n      <th>latitud</th>\n      <th>longitud</th>\n      <th>tipo</th>\n      <th>profundidad</th>\n      <th>magnitud</th>\n    </tr>\n  </thead>\n  <tbody>\n    <tr>\n      <th>0</th>\n      <td>1965-01-02</td>\n      <td>13:44:18</td>\n      <td>19.246</td>\n      <td>145.616</td>\n      <td>terremoto</td>\n      <td>131.6</td>\n      <td>6.0</td>\n    </tr>\n    <tr>\n      <th>1</th>\n      <td>1965-01-04</td>\n      <td>11:29:49</td>\n      <td>1.863</td>\n      <td>127.352</td>\n      <td>terremoto</td>\n      <td>80.0</td>\n      <td>5.8</td>\n    </tr>\n    <tr>\n      <th>2</th>\n      <td>1965-01-05</td>\n      <td>18:05:58</td>\n      <td>-20.579</td>\n      <td>-173.972</td>\n      <td>terremoto</td>\n      <td>20.0</td>\n      <td>6.2</td>\n    </tr>\n    <tr>\n      <th>3</th>\n      <td>1965-01-08</td>\n      <td>18:49:43</td>\n      <td>-59.076</td>\n      <td>-23.557</td>\n      <td>terremoto</td>\n      <td>15.0</td>\n      <td>5.8</td>\n    </tr>\n    <tr>\n      <th>4</th>\n      <td>1965-01-09</td>\n      <td>13:32:50</td>\n      <td>11.938</td>\n      <td>126.427</td>\n      <td>terremoto</td>\n      <td>15.0</td>\n      <td>5.8</td>\n    </tr>\n  </tbody>\n</table>\n</div>"
          },
          "metadata": {},
          "execution_count": 6
        }
      ]
    },
    {
      "cell_type": "markdown",
      "metadata": {
        "id": "DBjPBAbLoTSc"
      },
      "source": [
        "🏷️ Imprimir la cantidad de filas y columnas que posee el dataframe"
      ]
    },
    {
      "cell_type": "code",
      "metadata": {
        "id": "FsvT9z_wQShT",
        "colab": {
          "base_uri": "https://localhost:8080/"
        },
        "outputId": "1fa6b416-b453-4970-d951-c0fc504e93bd"
      },
      "source": [
        "terremotos.shape"
      ],
      "execution_count": 7,
      "outputs": [
        {
          "output_type": "execute_result",
          "data": {
            "text/plain": [
              "(23412, 7)"
            ]
          },
          "metadata": {},
          "execution_count": 7
        }
      ]
    },
    {
      "cell_type": "code",
      "metadata": {
        "colab": {
          "base_uri": "https://localhost:8080/"
        },
        "id": "TxN9nqa1HWhF",
        "outputId": "563e2f5c-89a3-4344-87b1-0ff82e081876"
      },
      "source": [
        "terremotos[\"tipo\"].unique()"
      ],
      "execution_count": 8,
      "outputs": [
        {
          "output_type": "execute_result",
          "data": {
            "text/plain": [
              "array(['terremoto', 'explosión nuclear', 'explosión', 'estallido de roca'],\n",
              "      dtype=object)"
            ]
          },
          "metadata": {},
          "execution_count": 8
        }
      ]
    },
    {
      "cell_type": "markdown",
      "metadata": {
        "id": "mzeXQ7n0oYBY"
      },
      "source": [
        "🏷️ Calcular la media, cuartiles, máximo, mínimo y desviación de las columnas profundidad y magnitud."
      ]
    },
    {
      "cell_type": "code",
      "metadata": {
        "id": "mEz7-Ss1QWND",
        "colab": {
          "base_uri": "https://localhost:8080/",
          "height": 299
        },
        "outputId": "cadf7e4c-c7d4-4e6d-8f2d-2748befb053b"
      },
      "source": [
        "terremotos[['profundidad','magnitud']].describe()"
      ],
      "execution_count": 9,
      "outputs": [
        {
          "output_type": "execute_result",
          "data": {
            "text/plain": [
              "        profundidad      magnitud\n",
              "count  23412.000000  23412.000000\n",
              "mean      70.767911      5.882531\n",
              "std      122.651898      0.423066\n",
              "min       -1.100000      5.500000\n",
              "25%       14.522500      5.600000\n",
              "50%       33.000000      5.700000\n",
              "75%       54.000000      6.000000\n",
              "max      700.000000      9.100000"
            ],
            "text/html": "<div>\n<style scoped>\n    .dataframe tbody tr th:only-of-type {\n        vertical-align: middle;\n    }\n\n    .dataframe tbody tr th {\n        vertical-align: top;\n    }\n\n    .dataframe thead th {\n        text-align: right;\n    }\n</style>\n<table border=\"1\" class=\"dataframe\">\n  <thead>\n    <tr style=\"text-align: right;\">\n      <th></th>\n      <th>profundidad</th>\n      <th>magnitud</th>\n    </tr>\n  </thead>\n  <tbody>\n    <tr>\n      <th>count</th>\n      <td>23412.000000</td>\n      <td>23412.000000</td>\n    </tr>\n    <tr>\n      <th>mean</th>\n      <td>70.767911</td>\n      <td>5.882531</td>\n    </tr>\n    <tr>\n      <th>std</th>\n      <td>122.651898</td>\n      <td>0.423066</td>\n    </tr>\n    <tr>\n      <th>min</th>\n      <td>-1.100000</td>\n      <td>5.500000</td>\n    </tr>\n    <tr>\n      <th>25%</th>\n      <td>14.522500</td>\n      <td>5.600000</td>\n    </tr>\n    <tr>\n      <th>50%</th>\n      <td>33.000000</td>\n      <td>5.700000</td>\n    </tr>\n    <tr>\n      <th>75%</th>\n      <td>54.000000</td>\n      <td>6.000000</td>\n    </tr>\n    <tr>\n      <th>max</th>\n      <td>700.000000</td>\n      <td>9.100000</td>\n    </tr>\n  </tbody>\n</table>\n</div>"
          },
          "metadata": {},
          "execution_count": 9
        }
      ]
    },
    {
      "cell_type": "markdown",
      "metadata": {
        "id": "jX1xZKzDoj5K"
      },
      "source": [
        "🏷️ Valide si el dataframe posee columnas con valores nulos"
      ]
    },
    {
      "cell_type": "code",
      "metadata": {
        "id": "PE_g8sshQwMf",
        "colab": {
          "base_uri": "https://localhost:8080/"
        },
        "outputId": "69bdd55b-c5c4-4f4b-ac46-b6310cfea17d"
      },
      "source": [
        "terremotos.isna().any()"
      ],
      "execution_count": 10,
      "outputs": [
        {
          "output_type": "execute_result",
          "data": {
            "text/plain": [
              "fecha          False\n",
              "hora           False\n",
              "latitud        False\n",
              "longitud       False\n",
              "tipo           False\n",
              "profundidad    False\n",
              "magnitud       False\n",
              "dtype: bool"
            ]
          },
          "metadata": {},
          "execution_count": 10
        }
      ]
    },
    {
      "cell_type": "code",
      "metadata": {
        "colab": {
          "base_uri": "https://localhost:8080/"
        },
        "id": "AkuEevGyIwZq",
        "outputId": "d67e34dc-008e-4aea-8d5b-828e1e6788d5"
      },
      "source": [
        "terremotos.isnull().sum()"
      ],
      "execution_count": 11,
      "outputs": [
        {
          "output_type": "execute_result",
          "data": {
            "text/plain": [
              "fecha          0\n",
              "hora           0\n",
              "latitud        0\n",
              "longitud       0\n",
              "tipo           0\n",
              "profundidad    0\n",
              "magnitud       0\n",
              "dtype: int64"
            ]
          },
          "metadata": {},
          "execution_count": 11
        }
      ]
    },
    {
      "cell_type": "markdown",
      "metadata": {
        "id": "XsjYsOwLorT0"
      },
      "source": [
        "🏷️ Realizar una nueva variable denominada `hora_` que tenga el mismo valor que la variable `hora` en formato numérico"
      ]
    },
    {
      "cell_type": "code",
      "execution_count": 12,
      "metadata": {},
      "outputs": [],
      "source": [
        "terremotos = terremotos.loc[terremotos.hora != 'NA:NA:NANA']"
      ]
    },
    {
      "cell_type": "code",
      "metadata": {
        "id": "q-ioK5WEQl7w"
      },
      "source": [
        "terremotos.shape"
      ],
      "execution_count": 13,
      "outputs": [
        {
          "output_type": "execute_result",
          "data": {
            "text/plain": [
              "(23409, 7)"
            ]
          },
          "metadata": {},
          "execution_count": 13
        }
      ]
    },
    {
      "cell_type": "code",
      "metadata": {
        "colab": {
          "base_uri": "https://localhost:8080/"
        },
        "id": "Vu6uAhFCJtDi",
        "outputId": "cccdab67-2337-4ec0-de0d-5609e01860b8"
      },
      "source": [
        "# solo dropeamos 3 registros que tenia data erronea en la hora para poder hacer esto\n",
        "terremotos[\"hora_\"] = pd.to_datetime(terremotos.hora, format='%H:%M:%S').dt.hour"
      ],
      "execution_count": 14,
      "outputs": []
    },
    {
      "cell_type": "markdown",
      "metadata": {
        "id": "1vL-RfcapPwc"
      },
      "source": [
        "🏷️ ¿Cuáles son las horas que más terremotos se producen?"
      ]
    },
    {
      "cell_type": "code",
      "metadata": {
        "id": "ZFyy7fHGZiMR",
        "colab": {
          "base_uri": "https://localhost:8080/",
          "height": 800
        },
        "outputId": "630a263b-12c6-4d19-dfd3-0542b5ad0ef3"
      },
      "source": [
        "terremotos.groupby(\"hora_\", as_index= False).count()[[\"magnitud\"]].rename({\"magnitud\": \"Cantidad\"}, axis = 1)"
      ],
      "execution_count": 15,
      "outputs": [
        {
          "output_type": "execute_result",
          "data": {
            "text/plain": [
              "    Cantidad\n",
              "0        948\n",
              "1        954\n",
              "2        974\n",
              "3       1029\n",
              "4        975\n",
              "5        996\n",
              "6        998\n",
              "7       1005\n",
              "8        978\n",
              "9        930\n",
              "10      1017\n",
              "11       981\n",
              "12       946\n",
              "13      1058\n",
              "14       981\n",
              "15       926\n",
              "16       917\n",
              "17       998\n",
              "18      1029\n",
              "19       996\n",
              "20       939\n",
              "21       945\n",
              "22       923\n",
              "23       966"
            ],
            "text/html": "<div>\n<style scoped>\n    .dataframe tbody tr th:only-of-type {\n        vertical-align: middle;\n    }\n\n    .dataframe tbody tr th {\n        vertical-align: top;\n    }\n\n    .dataframe thead th {\n        text-align: right;\n    }\n</style>\n<table border=\"1\" class=\"dataframe\">\n  <thead>\n    <tr style=\"text-align: right;\">\n      <th></th>\n      <th>Cantidad</th>\n    </tr>\n  </thead>\n  <tbody>\n    <tr>\n      <th>0</th>\n      <td>948</td>\n    </tr>\n    <tr>\n      <th>1</th>\n      <td>954</td>\n    </tr>\n    <tr>\n      <th>2</th>\n      <td>974</td>\n    </tr>\n    <tr>\n      <th>3</th>\n      <td>1029</td>\n    </tr>\n    <tr>\n      <th>4</th>\n      <td>975</td>\n    </tr>\n    <tr>\n      <th>5</th>\n      <td>996</td>\n    </tr>\n    <tr>\n      <th>6</th>\n      <td>998</td>\n    </tr>\n    <tr>\n      <th>7</th>\n      <td>1005</td>\n    </tr>\n    <tr>\n      <th>8</th>\n      <td>978</td>\n    </tr>\n    <tr>\n      <th>9</th>\n      <td>930</td>\n    </tr>\n    <tr>\n      <th>10</th>\n      <td>1017</td>\n    </tr>\n    <tr>\n      <th>11</th>\n      <td>981</td>\n    </tr>\n    <tr>\n      <th>12</th>\n      <td>946</td>\n    </tr>\n    <tr>\n      <th>13</th>\n      <td>1058</td>\n    </tr>\n    <tr>\n      <th>14</th>\n      <td>981</td>\n    </tr>\n    <tr>\n      <th>15</th>\n      <td>926</td>\n    </tr>\n    <tr>\n      <th>16</th>\n      <td>917</td>\n    </tr>\n    <tr>\n      <th>17</th>\n      <td>998</td>\n    </tr>\n    <tr>\n      <th>18</th>\n      <td>1029</td>\n    </tr>\n    <tr>\n      <th>19</th>\n      <td>996</td>\n    </tr>\n    <tr>\n      <th>20</th>\n      <td>939</td>\n    </tr>\n    <tr>\n      <th>21</th>\n      <td>945</td>\n    </tr>\n    <tr>\n      <th>22</th>\n      <td>923</td>\n    </tr>\n    <tr>\n      <th>23</th>\n      <td>966</td>\n    </tr>\n  </tbody>\n</table>\n</div>"
          },
          "metadata": {},
          "execution_count": 15
        }
      ]
    },
    {
      "cell_type": "markdown",
      "metadata": {
        "id": "zGyj7ZhOUzU4"
      },
      "source": [
        "🏷️ Agregar una columna teniendo en cuenta los momentos del día\n",
        "\n",
        "Momento | Intervalo\n",
        "----|----\n",
        " 'Madrugada'| de las   00 a las 06\n",
        " 'Mañana'   | de las   07 a las 12\n",
        " 'Tarde'    | de las 13  a las 19\n",
        " 'Noche'    | de las 20  a las 23"
      ]
    },
    {
      "cell_type": "code",
      "metadata": {
        "colab": {
          "base_uri": "https://localhost:8080/"
        },
        "id": "STXVrEBxNqYq",
        "outputId": "3a2f9b51-23a4-494a-ce08-dc4d0d575836"
      },
      "source": [
        "bins = [0, 6, 12, 19, 23 ]\n",
        "labels = [\"Madrugada\", \"Mañana\", \"Tarde\",  \"Noche\" ]\n",
        "terremotos[\"momento\"] = pd.cut(terremotos[\"hora_\"], bins= bins, labels=labels, include_lowest = True)\n"
      ],
      "execution_count": 16,
      "outputs": []
    },
    {
      "cell_type": "code",
      "metadata": {
        "id": "9g3T3fl5NyJy"
      },
      "source": [
        "conditions = [\n",
        "    terremotos.hora_.between(0,6),\n",
        "    terremotos.hora_.between(7,12),\n",
        "    terremotos.hora_.between(13,19),\n",
        "    terremotos.hora_.between(20,23)]\n",
        "\n",
        "choices = ['Madrugada', 'Mañana', 'Tarde','Noche']\n",
        "\n",
        "\n",
        "terremotos['momento_hora'] = np.select(conditions, choices, default='')"
      ],
      "execution_count": 17,
      "outputs": []
    },
    {
      "cell_type": "code",
      "metadata": {
        "colab": {
          "base_uri": "https://localhost:8080/",
          "height": 205
        },
        "id": "8fCjVnNtOevR",
        "outputId": "40c32984-8ab3-43ea-d0f7-d07705189f18"
      },
      "source": [
        "terremotos.head()"
      ],
      "execution_count": 18,
      "outputs": [
        {
          "output_type": "execute_result",
          "data": {
            "text/plain": [
              "        fecha      hora  latitud  longitud       tipo  profundidad  magnitud  \\\n",
              "0  1965-01-02  13:44:18   19.246   145.616  terremoto        131.6       6.0   \n",
              "1  1965-01-04  11:29:49    1.863   127.352  terremoto         80.0       5.8   \n",
              "2  1965-01-05  18:05:58  -20.579  -173.972  terremoto         20.0       6.2   \n",
              "3  1965-01-08  18:49:43  -59.076   -23.557  terremoto         15.0       5.8   \n",
              "4  1965-01-09  13:32:50   11.938   126.427  terremoto         15.0       5.8   \n",
              "\n",
              "   hora_ momento momento_hora  \n",
              "0     13   Tarde        Tarde  \n",
              "1     11  Mañana       Mañana  \n",
              "2     18   Tarde        Tarde  \n",
              "3     18   Tarde        Tarde  \n",
              "4     13   Tarde        Tarde  "
            ],
            "text/html": "<div>\n<style scoped>\n    .dataframe tbody tr th:only-of-type {\n        vertical-align: middle;\n    }\n\n    .dataframe tbody tr th {\n        vertical-align: top;\n    }\n\n    .dataframe thead th {\n        text-align: right;\n    }\n</style>\n<table border=\"1\" class=\"dataframe\">\n  <thead>\n    <tr style=\"text-align: right;\">\n      <th></th>\n      <th>fecha</th>\n      <th>hora</th>\n      <th>latitud</th>\n      <th>longitud</th>\n      <th>tipo</th>\n      <th>profundidad</th>\n      <th>magnitud</th>\n      <th>hora_</th>\n      <th>momento</th>\n      <th>momento_hora</th>\n    </tr>\n  </thead>\n  <tbody>\n    <tr>\n      <th>0</th>\n      <td>1965-01-02</td>\n      <td>13:44:18</td>\n      <td>19.246</td>\n      <td>145.616</td>\n      <td>terremoto</td>\n      <td>131.6</td>\n      <td>6.0</td>\n      <td>13</td>\n      <td>Tarde</td>\n      <td>Tarde</td>\n    </tr>\n    <tr>\n      <th>1</th>\n      <td>1965-01-04</td>\n      <td>11:29:49</td>\n      <td>1.863</td>\n      <td>127.352</td>\n      <td>terremoto</td>\n      <td>80.0</td>\n      <td>5.8</td>\n      <td>11</td>\n      <td>Mañana</td>\n      <td>Mañana</td>\n    </tr>\n    <tr>\n      <th>2</th>\n      <td>1965-01-05</td>\n      <td>18:05:58</td>\n      <td>-20.579</td>\n      <td>-173.972</td>\n      <td>terremoto</td>\n      <td>20.0</td>\n      <td>6.2</td>\n      <td>18</td>\n      <td>Tarde</td>\n      <td>Tarde</td>\n    </tr>\n    <tr>\n      <th>3</th>\n      <td>1965-01-08</td>\n      <td>18:49:43</td>\n      <td>-59.076</td>\n      <td>-23.557</td>\n      <td>terremoto</td>\n      <td>15.0</td>\n      <td>5.8</td>\n      <td>18</td>\n      <td>Tarde</td>\n      <td>Tarde</td>\n    </tr>\n    <tr>\n      <th>4</th>\n      <td>1965-01-09</td>\n      <td>13:32:50</td>\n      <td>11.938</td>\n      <td>126.427</td>\n      <td>terremoto</td>\n      <td>15.0</td>\n      <td>5.8</td>\n      <td>13</td>\n      <td>Tarde</td>\n      <td>Tarde</td>\n    </tr>\n  </tbody>\n</table>\n</div>"
          },
          "metadata": {},
          "execution_count": 18
        }
      ]
    },
    {
      "cell_type": "code",
      "metadata": {
        "colab": {
          "base_uri": "https://localhost:8080/"
        },
        "id": "Sg7qb-6FAZOW",
        "outputId": "90fd4b20-6bde-460d-809c-d4ecf07991f5"
      },
      "source": [
        "terremotos[\"momento\"].value_counts()"
      ],
      "execution_count": 19,
      "outputs": [
        {
          "output_type": "execute_result",
          "data": {
            "text/plain": [
              "Tarde        6905\n",
              "Madrugada    6874\n",
              "Mañana       5857\n",
              "Noche        3773\n",
              "Name: momento, dtype: int64"
            ]
          },
          "metadata": {},
          "execution_count": 19
        }
      ]
    },
    {
      "cell_type": "markdown",
      "metadata": {
        "id": "ndH9-0cVpefZ"
      },
      "source": [
        "🏷️ Ahora volver a calcular cual es el momento del día con más terremotos."
      ]
    },
    {
      "cell_type": "code",
      "metadata": {
        "colab": {
          "base_uri": "https://localhost:8080/",
          "height": 194
        },
        "id": "XuM7rtLOMtHd",
        "outputId": "1a9fa35b-b154-4b7f-fc27-d14f681b770e"
      },
      "source": [
        "terremotos.groupby(\"momento\").count()[[\"magnitud\"]].rename({\"magnitud\": \"Cantidad\"}, axis = 1)"
      ],
      "execution_count": 20,
      "outputs": [
        {
          "output_type": "execute_result",
          "data": {
            "text/plain": [
              "           Cantidad\n",
              "momento            \n",
              "Madrugada      6874\n",
              "Mañana         5857\n",
              "Tarde          6905\n",
              "Noche          3773"
            ],
            "text/html": "<div>\n<style scoped>\n    .dataframe tbody tr th:only-of-type {\n        vertical-align: middle;\n    }\n\n    .dataframe tbody tr th {\n        vertical-align: top;\n    }\n\n    .dataframe thead th {\n        text-align: right;\n    }\n</style>\n<table border=\"1\" class=\"dataframe\">\n  <thead>\n    <tr style=\"text-align: right;\">\n      <th></th>\n      <th>Cantidad</th>\n    </tr>\n    <tr>\n      <th>momento</th>\n      <th></th>\n    </tr>\n  </thead>\n  <tbody>\n    <tr>\n      <th>Madrugada</th>\n      <td>6874</td>\n    </tr>\n    <tr>\n      <th>Mañana</th>\n      <td>5857</td>\n    </tr>\n    <tr>\n      <th>Tarde</th>\n      <td>6905</td>\n    </tr>\n    <tr>\n      <th>Noche</th>\n      <td>3773</td>\n    </tr>\n  </tbody>\n</table>\n</div>"
          },
          "metadata": {},
          "execution_count": 20
        }
      ]
    },
    {
      "cell_type": "markdown",
      "metadata": {
        "id": "MEaI5hF-aR2l"
      },
      "source": [
        "🏷️ Agregar una variable que muestre las categorías de los terremotos, para lo cual tome como base la descripción que aparece a continuación\n",
        "\n",
        "> Para mas info: https://es.wikipedia.org/wiki/Escala_sismol%C3%B3gica_de_Richter\n",
        "\n",
        "\n",
        "Magnitud |\tDescripción\t| Efectos de un sismo\t| Frecuencia de ocurrencia\n",
        "---|---|---|---|\n",
        "Menos de 2,0 \t|Micro\t| Los microsismos no son perceptibles.|\tAlrededor de 8000 por día\n",
        "2,0-2,9 |\tMenor\t |Generalmente no son perceptibles.\t|Alrededor de 1000 por día\n",
        "3,0-3,9 | Menor |\tPerceptibles a menudo, pero rara vez provocan daños. |\t49 000 por año.\n",
        "4,0-4,9\t | Ligero\t| Movimiento de objetos en las habitaciones que genera ruido. <br> Sismo significativo pero con daño poco probable.\t| 6200 por año.\n",
        "5,0-5,9\t| Moderado\t| Puede causar daños mayores en edificaciones débiles o mal construidas. <br> En edificaciones bien diseñadas los daños son leves.\t| 800 por año.\n",
        "6,0-6,9\t| \tFuerte \t| \tPueden llegar a destruir áreas pobladas, en hasta unos 160 kilómetros a la redonda.\t| \t120 por año.\n",
        "7,0-7,9\t| \tMayor\t\t| Puede causar serios daños en extensas zonas.\t\t| 18 por año.\n",
        "8,0-8,9\t\t| Épico o Cataclismo\t| \tPuede causar graves daños en zonas de varios cientos de kilómetros.\t\t| 1-3 por año.\n",
        "9,0-9,9\t| Épico o Cataclismo\t| \tDevastadores en zonas de varios miles de kilómetros.\t| 1-2 en 20 años.\n",
        "10,0+\t\t| Legendario o apocalíptico\t\t| Nunca registrado. | Nunca ha sucedido un sismo de esta magnitud.\n",
        "\n"
      ]
    },
    {
      "cell_type": "code",
      "metadata": {
        "id": "uFA39oIGc279"
      },
      "source": [
        "bins = [0, 2, 3.9, 4.9, 5.9, 6.9, 7.9, 9.9, 10 ]\n",
        "labels = ['Micro', 'Menor', 'Ligero','Moderado','Fuerte','Mayor','Epico','Legendario']"
      ],
      "execution_count": 21,
      "outputs": []
    },
    {
      "cell_type": "code",
      "metadata": {
        "id": "wvF8uomWRk2Y"
      },
      "source": [
        "terremotos[\"categorias\"] = pd.cut(terremotos[\"magnitud\"],  bins = bins, labels= labels)"
      ],
      "execution_count": 22,
      "outputs": []
    },
    {
      "cell_type": "code",
      "metadata": {
        "colab": {
          "base_uri": "https://localhost:8080/",
          "height": 205
        },
        "id": "MlpSmsFkRq9S",
        "outputId": "cf03b714-6e37-410c-da0d-631b11089981"
      },
      "source": [
        "terremotos.head()"
      ],
      "execution_count": 23,
      "outputs": [
        {
          "output_type": "execute_result",
          "data": {
            "text/plain": [
              "        fecha      hora  latitud  longitud       tipo  profundidad  magnitud  \\\n",
              "0  1965-01-02  13:44:18   19.246   145.616  terremoto        131.6       6.0   \n",
              "1  1965-01-04  11:29:49    1.863   127.352  terremoto         80.0       5.8   \n",
              "2  1965-01-05  18:05:58  -20.579  -173.972  terremoto         20.0       6.2   \n",
              "3  1965-01-08  18:49:43  -59.076   -23.557  terremoto         15.0       5.8   \n",
              "4  1965-01-09  13:32:50   11.938   126.427  terremoto         15.0       5.8   \n",
              "\n",
              "   hora_ momento momento_hora categorias  \n",
              "0     13   Tarde        Tarde     Fuerte  \n",
              "1     11  Mañana       Mañana   Moderado  \n",
              "2     18   Tarde        Tarde     Fuerte  \n",
              "3     18   Tarde        Tarde   Moderado  \n",
              "4     13   Tarde        Tarde   Moderado  "
            ],
            "text/html": "<div>\n<style scoped>\n    .dataframe tbody tr th:only-of-type {\n        vertical-align: middle;\n    }\n\n    .dataframe tbody tr th {\n        vertical-align: top;\n    }\n\n    .dataframe thead th {\n        text-align: right;\n    }\n</style>\n<table border=\"1\" class=\"dataframe\">\n  <thead>\n    <tr style=\"text-align: right;\">\n      <th></th>\n      <th>fecha</th>\n      <th>hora</th>\n      <th>latitud</th>\n      <th>longitud</th>\n      <th>tipo</th>\n      <th>profundidad</th>\n      <th>magnitud</th>\n      <th>hora_</th>\n      <th>momento</th>\n      <th>momento_hora</th>\n      <th>categorias</th>\n    </tr>\n  </thead>\n  <tbody>\n    <tr>\n      <th>0</th>\n      <td>1965-01-02</td>\n      <td>13:44:18</td>\n      <td>19.246</td>\n      <td>145.616</td>\n      <td>terremoto</td>\n      <td>131.6</td>\n      <td>6.0</td>\n      <td>13</td>\n      <td>Tarde</td>\n      <td>Tarde</td>\n      <td>Fuerte</td>\n    </tr>\n    <tr>\n      <th>1</th>\n      <td>1965-01-04</td>\n      <td>11:29:49</td>\n      <td>1.863</td>\n      <td>127.352</td>\n      <td>terremoto</td>\n      <td>80.0</td>\n      <td>5.8</td>\n      <td>11</td>\n      <td>Mañana</td>\n      <td>Mañana</td>\n      <td>Moderado</td>\n    </tr>\n    <tr>\n      <th>2</th>\n      <td>1965-01-05</td>\n      <td>18:05:58</td>\n      <td>-20.579</td>\n      <td>-173.972</td>\n      <td>terremoto</td>\n      <td>20.0</td>\n      <td>6.2</td>\n      <td>18</td>\n      <td>Tarde</td>\n      <td>Tarde</td>\n      <td>Fuerte</td>\n    </tr>\n    <tr>\n      <th>3</th>\n      <td>1965-01-08</td>\n      <td>18:49:43</td>\n      <td>-59.076</td>\n      <td>-23.557</td>\n      <td>terremoto</td>\n      <td>15.0</td>\n      <td>5.8</td>\n      <td>18</td>\n      <td>Tarde</td>\n      <td>Tarde</td>\n      <td>Moderado</td>\n    </tr>\n    <tr>\n      <th>4</th>\n      <td>1965-01-09</td>\n      <td>13:32:50</td>\n      <td>11.938</td>\n      <td>126.427</td>\n      <td>terremoto</td>\n      <td>15.0</td>\n      <td>5.8</td>\n      <td>13</td>\n      <td>Tarde</td>\n      <td>Tarde</td>\n      <td>Moderado</td>\n    </tr>\n  </tbody>\n</table>\n</div>"
          },
          "metadata": {},
          "execution_count": 23
        }
      ]
    },
    {
      "cell_type": "markdown",
      "metadata": {
        "id": "ZQQgMQKsfHf2"
      },
      "source": [
        "🏷️ ¿Cuántos terremotos en base a las categorías ocurrieron?"
      ]
    },
    {
      "cell_type": "code",
      "metadata": {
        "id": "MyGD7kSqfcPA",
        "colab": {
          "base_uri": "https://localhost:8080/"
        },
        "outputId": "34abcfdb-ee29-4e7a-91b0-74b6ae82d832"
      },
      "source": [
        "terremotos[\"categorias\"].value_counts()"
      ],
      "execution_count": 24,
      "outputs": [
        {
          "output_type": "execute_result",
          "data": {
            "text/plain": [
              "Moderado      16053\n",
              "Fuerte         6618\n",
              "Mayor           698\n",
              "Epico            40\n",
              "Micro             0\n",
              "Menor             0\n",
              "Ligero            0\n",
              "Legendario        0\n",
              "Name: categorias, dtype: int64"
            ]
          },
          "metadata": {},
          "execution_count": 24
        }
      ]
    },
    {
      "cell_type": "markdown",
      "metadata": {
        "id": "PmVUvvOuf-Kx"
      },
      "source": [
        "🏷️ Generar una base con los terremotos tiene valores magnitudes mayores a 6 a partir del 2016 en adelante"
      ]
    },
    {
      "cell_type": "code",
      "metadata": {
        "id": "k4Xgivydfq9T"
      },
      "source": [
        "terremotos['fecha'] = pd.to_datetime(terremotos['fecha'],format='%Y-%m-%d').dt.year"
      ],
      "execution_count": 25,
      "outputs": []
    },
    {
      "cell_type": "code",
      "metadata": {
        "colab": {
          "base_uri": "https://localhost:8080/",
          "height": 422
        },
        "id": "sX8qBlzCG49l",
        "outputId": "36db9c3b-bb9e-4680-ff9d-2899b05d9b5a"
      },
      "source": [
        "df_terremotos = terremotos.query(\"fecha >= 2016 & magnitud > 6\").reset_index(drop=True)\n",
        "df_terremotos.head()"
      ],
      "execution_count": 26,
      "outputs": [
        {
          "output_type": "execute_result",
          "data": {
            "text/plain": [
              "   fecha      hora  latitud  longitud       tipo  profundidad  magnitud  \\\n",
              "0   2016  02:00:40 -50.5575  139.4489  terremoto        10.00       6.3   \n",
              "1   2016  23:05:22  24.8036   93.6505  terremoto        55.00       6.7   \n",
              "2   2016  16:38:06   3.8965  126.8621  terremoto        13.00       6.5   \n",
              "3   2016  17:08:04  44.4761  141.0867  terremoto       238.81       6.2   \n",
              "4   2016  03:25:28 -19.7597  -63.3288  terremoto       582.56       6.1   \n",
              "\n",
              "   hora_    momento momento_hora categorias  \n",
              "0      2  Madrugada    Madrugada     Fuerte  \n",
              "1     23      Noche        Noche     Fuerte  \n",
              "2     16      Tarde        Tarde     Fuerte  \n",
              "3     17      Tarde        Tarde     Fuerte  \n",
              "4      3  Madrugada    Madrugada     Fuerte  "
            ],
            "text/html": "<div>\n<style scoped>\n    .dataframe tbody tr th:only-of-type {\n        vertical-align: middle;\n    }\n\n    .dataframe tbody tr th {\n        vertical-align: top;\n    }\n\n    .dataframe thead th {\n        text-align: right;\n    }\n</style>\n<table border=\"1\" class=\"dataframe\">\n  <thead>\n    <tr style=\"text-align: right;\">\n      <th></th>\n      <th>fecha</th>\n      <th>hora</th>\n      <th>latitud</th>\n      <th>longitud</th>\n      <th>tipo</th>\n      <th>profundidad</th>\n      <th>magnitud</th>\n      <th>hora_</th>\n      <th>momento</th>\n      <th>momento_hora</th>\n      <th>categorias</th>\n    </tr>\n  </thead>\n  <tbody>\n    <tr>\n      <th>0</th>\n      <td>2016</td>\n      <td>02:00:40</td>\n      <td>-50.5575</td>\n      <td>139.4489</td>\n      <td>terremoto</td>\n      <td>10.00</td>\n      <td>6.3</td>\n      <td>2</td>\n      <td>Madrugada</td>\n      <td>Madrugada</td>\n      <td>Fuerte</td>\n    </tr>\n    <tr>\n      <th>1</th>\n      <td>2016</td>\n      <td>23:05:22</td>\n      <td>24.8036</td>\n      <td>93.6505</td>\n      <td>terremoto</td>\n      <td>55.00</td>\n      <td>6.7</td>\n      <td>23</td>\n      <td>Noche</td>\n      <td>Noche</td>\n      <td>Fuerte</td>\n    </tr>\n    <tr>\n      <th>2</th>\n      <td>2016</td>\n      <td>16:38:06</td>\n      <td>3.8965</td>\n      <td>126.8621</td>\n      <td>terremoto</td>\n      <td>13.00</td>\n      <td>6.5</td>\n      <td>16</td>\n      <td>Tarde</td>\n      <td>Tarde</td>\n      <td>Fuerte</td>\n    </tr>\n    <tr>\n      <th>3</th>\n      <td>2016</td>\n      <td>17:08:04</td>\n      <td>44.4761</td>\n      <td>141.0867</td>\n      <td>terremoto</td>\n      <td>238.81</td>\n      <td>6.2</td>\n      <td>17</td>\n      <td>Tarde</td>\n      <td>Tarde</td>\n      <td>Fuerte</td>\n    </tr>\n    <tr>\n      <th>4</th>\n      <td>2016</td>\n      <td>03:25:28</td>\n      <td>-19.7597</td>\n      <td>-63.3288</td>\n      <td>terremoto</td>\n      <td>582.56</td>\n      <td>6.1</td>\n      <td>3</td>\n      <td>Madrugada</td>\n      <td>Madrugada</td>\n      <td>Fuerte</td>\n    </tr>\n  </tbody>\n</table>\n</div>"
          },
          "metadata": {},
          "execution_count": 26
        }
      ]
    },
    {
      "cell_type": "markdown",
      "metadata": {
        "id": "ErEmsgaWqaVA"
      },
      "source": [
        "🏷️ ¿Cuántas filas y columnas posee el nuevo dataframe?"
      ]
    },
    {
      "cell_type": "code",
      "execution_count": 28,
      "metadata": {},
      "outputs": [
        {
          "output_type": "execute_result",
          "data": {
            "text/plain": [
              "(116, 11)"
            ]
          },
          "metadata": {},
          "execution_count": 28
        }
      ],
      "source": [
        "df_terremotos.shape"
      ]
    }
  ]
}
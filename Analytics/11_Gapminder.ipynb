{
  "nbformat": 4,
  "nbformat_minor": 0,
  "metadata": {
    "colab": {
      "name": "05-Dataframes_pandas_gapminder_groupby.ipynb",
      "provenance": [],
      "collapsed_sections": []
    },
    "kernelspec": {
      "name": "python387jvsc74a57bd01cb3c4095699f2a8cd6a12889e7edb42215ac8b2afd459e3e81282dc1470f9b2",
      "display_name": "Python 3.8.7 64-bit"
    },
    "metadata": {
      "interpreter": {
        "hash": "1cb3c4095699f2a8cd6a12889e7edb42215ac8b2afd459e3e81282dc1470f9b2"
      }
    }
  },
  "cells": [
    {
      "cell_type": "markdown",
      "metadata": {
        "id": "xukFEhNLle_K"
      },
      "source": [
        " <img src=\"https://eant.tech/imagenes/logo.png\" width=25% height=80%  >"
      ]
    },
    {
      "cell_type": "markdown",
      "metadata": {
        "id": "2O9l9P94ksnO"
      },
      "source": [
        "## <img src=\"http://icons.iconarchive.com/icons/cornmanthe3rd/plex/256/Other-python-icon.png\" width=\"40\"> Ejercicio Gapminder 📍🗺️🌎\n",
        "\n",
        "La fundación Gapminder es una organización sin fines de lucro con sede en Suecia que promueve el desarrollo global mediante el uso de estadísticas.\n",
        "\n",
        "<center>\n",
        "<img src=\"https://s3-eu-west-1.amazonaws.com/static.gapminder.org/GapminderMedia/wp-uploads/20170113171243/Gapminder-Offline-Tools.png\" width=\"50%\"> \n",
        "</center>\n",
        "\n",
        "🔹 1. Importar el dataframe que se encuentra en el siguiente link: https://raw.githubusercontent.com/cienciadedatos/datos-de-miercoles/master/datos/2019/2019-04-24/gapminder_es.csv"
      ]
    },
    {
      "cell_type": "code",
      "metadata": {
        "id": "qJOvp16sFhlo"
      },
      "source": [
        "import pandas as pd\n",
        "\n",
        "df = pd.read_csv('https://raw.githubusercontent.com/cienciadedatos/datos-de-miercoles/master/datos/2019/2019-04-24/gapminder_es.csv')\n",
        "\n",
        "df.head(5)"
      ],
      "execution_count": 1,
      "outputs": [
        {
          "output_type": "execute_result",
          "data": {
            "text/plain": [
              "         pais continente  anio  esperanza_de_vida  poblacion  pib_per_capita\n",
              "0  Afganistan       Asia  1952             28.801    8425333      779.445314\n",
              "1  Afganistan       Asia  1957             30.332    9240934      820.853030\n",
              "2  Afganistan       Asia  1962             31.997   10267083      853.100710\n",
              "3  Afganistan       Asia  1967             34.020   11537966      836.197138\n",
              "4  Afganistan       Asia  1972             36.088   13079460      739.981106"
            ],
            "text/html": "<div>\n<style scoped>\n    .dataframe tbody tr th:only-of-type {\n        vertical-align: middle;\n    }\n\n    .dataframe tbody tr th {\n        vertical-align: top;\n    }\n\n    .dataframe thead th {\n        text-align: right;\n    }\n</style>\n<table border=\"1\" class=\"dataframe\">\n  <thead>\n    <tr style=\"text-align: right;\">\n      <th></th>\n      <th>pais</th>\n      <th>continente</th>\n      <th>anio</th>\n      <th>esperanza_de_vida</th>\n      <th>poblacion</th>\n      <th>pib_per_capita</th>\n    </tr>\n  </thead>\n  <tbody>\n    <tr>\n      <th>0</th>\n      <td>Afganistan</td>\n      <td>Asia</td>\n      <td>1952</td>\n      <td>28.801</td>\n      <td>8425333</td>\n      <td>779.445314</td>\n    </tr>\n    <tr>\n      <th>1</th>\n      <td>Afganistan</td>\n      <td>Asia</td>\n      <td>1957</td>\n      <td>30.332</td>\n      <td>9240934</td>\n      <td>820.853030</td>\n    </tr>\n    <tr>\n      <th>2</th>\n      <td>Afganistan</td>\n      <td>Asia</td>\n      <td>1962</td>\n      <td>31.997</td>\n      <td>10267083</td>\n      <td>853.100710</td>\n    </tr>\n    <tr>\n      <th>3</th>\n      <td>Afganistan</td>\n      <td>Asia</td>\n      <td>1967</td>\n      <td>34.020</td>\n      <td>11537966</td>\n      <td>836.197138</td>\n    </tr>\n    <tr>\n      <th>4</th>\n      <td>Afganistan</td>\n      <td>Asia</td>\n      <td>1972</td>\n      <td>36.088</td>\n      <td>13079460</td>\n      <td>739.981106</td>\n    </tr>\n  </tbody>\n</table>\n</div>"
          },
          "metadata": {},
          "execution_count": 1
        }
      ]
    },
    {
      "cell_type": "markdown",
      "metadata": {
        "id": "BswtUipmTATn"
      },
      "source": [
        "🔹 2. Calcular por continente maximo, minimo y promedio de las variables: esperanza de vida, población y pib per capita."
      ]
    },
    {
      "cell_type": "code",
      "metadata": {
        "id": "tfdSdG6BTAnK"
      },
      "source": [
        "df.groupby('continente')['esperanza_de_vida'].max()"
      ],
      "execution_count": 6,
      "outputs": [
        {
          "output_type": "execute_result",
          "data": {
            "text/plain": [
              "continente\n",
              "Africa      76.442\n",
              "Americas    80.653\n",
              "Asia        82.603\n",
              "Europa      81.757\n",
              "Oceania     81.235\n",
              "Name: esperanza_de_vida, dtype: float64"
            ]
          },
          "metadata": {},
          "execution_count": 6
        }
      ]
    },
    {
      "cell_type": "code",
      "execution_count": 5,
      "metadata": {},
      "outputs": [
        {
          "output_type": "execute_result",
          "data": {
            "text/plain": [
              "continente\n",
              "Africa      48.865330\n",
              "Americas    64.658737\n",
              "Asia        60.064903\n",
              "Europa      71.903686\n",
              "Oceania     74.326208\n",
              "Name: esperanza_de_vida, dtype: float64"
            ]
          },
          "metadata": {},
          "execution_count": 5
        }
      ],
      "source": [
        "df.groupby('continente')['esperanza_de_vida'].mean()"
      ]
    },
    {
      "cell_type": "markdown",
      "metadata": {
        "id": "aux05E7_yS_3"
      },
      "source": [
        "🔹 3. Generar un dataframe denominado `america` que contenga los datos de America para los años mayores al 2000."
      ]
    },
    {
      "cell_type": "code",
      "metadata": {
        "id": "Glu9qM-tGc_b"
      },
      "source": [
        "america = df.query(\"continente == 'Americas' and anio > 2000\")\n",
        "america.head(5)"
      ],
      "execution_count": 4,
      "outputs": [
        {
          "output_type": "execute_result",
          "data": {
            "text/plain": [
              "                                  pais continente  anio  esperanza_de_vida  \\\n",
              "58                           Argentina   Americas  2002             74.340   \n",
              "59                           Argentina   Americas  2007             75.320   \n",
              "142  Bolivia (Estado Plurinacional de)   Americas  2002             63.883   \n",
              "143  Bolivia (Estado Plurinacional de)   Americas  2007             65.554   \n",
              "178                             Brasil   Americas  2002             71.006   \n",
              "\n",
              "     poblacion  pib_per_capita  \n",
              "58    38331121     8797.640716  \n",
              "59    40301927    12779.379640  \n",
              "142    8445134     3413.262690  \n",
              "143    9119152     3822.137084  \n",
              "178  179914212     8131.212843  "
            ],
            "text/html": "<div>\n<style scoped>\n    .dataframe tbody tr th:only-of-type {\n        vertical-align: middle;\n    }\n\n    .dataframe tbody tr th {\n        vertical-align: top;\n    }\n\n    .dataframe thead th {\n        text-align: right;\n    }\n</style>\n<table border=\"1\" class=\"dataframe\">\n  <thead>\n    <tr style=\"text-align: right;\">\n      <th></th>\n      <th>pais</th>\n      <th>continente</th>\n      <th>anio</th>\n      <th>esperanza_de_vida</th>\n      <th>poblacion</th>\n      <th>pib_per_capita</th>\n    </tr>\n  </thead>\n  <tbody>\n    <tr>\n      <th>58</th>\n      <td>Argentina</td>\n      <td>Americas</td>\n      <td>2002</td>\n      <td>74.340</td>\n      <td>38331121</td>\n      <td>8797.640716</td>\n    </tr>\n    <tr>\n      <th>59</th>\n      <td>Argentina</td>\n      <td>Americas</td>\n      <td>2007</td>\n      <td>75.320</td>\n      <td>40301927</td>\n      <td>12779.379640</td>\n    </tr>\n    <tr>\n      <th>142</th>\n      <td>Bolivia (Estado Plurinacional de)</td>\n      <td>Americas</td>\n      <td>2002</td>\n      <td>63.883</td>\n      <td>8445134</td>\n      <td>3413.262690</td>\n    </tr>\n    <tr>\n      <th>143</th>\n      <td>Bolivia (Estado Plurinacional de)</td>\n      <td>Americas</td>\n      <td>2007</td>\n      <td>65.554</td>\n      <td>9119152</td>\n      <td>3822.137084</td>\n    </tr>\n    <tr>\n      <th>178</th>\n      <td>Brasil</td>\n      <td>Americas</td>\n      <td>2002</td>\n      <td>71.006</td>\n      <td>179914212</td>\n      <td>8131.212843</td>\n    </tr>\n  </tbody>\n</table>\n</div>"
          },
          "metadata": {},
          "execution_count": 4
        }
      ]
    },
    {
      "cell_type": "markdown",
      "metadata": {
        "id": "m4BOqS24l9QN"
      },
      "source": [
        "🔹 4. Cuantos paises hay en el dataset? Se agregó algún país nuevo en el 2007 en comparación con los años anteriores"
      ]
    },
    {
      "cell_type": "code",
      "metadata": {
        "id": "4PWaZRl1l820"
      },
      "source": [
        "len(df.pais.unique())"
      ],
      "execution_count": 7,
      "outputs": [
        {
          "output_type": "execute_result",
          "data": {
            "text/plain": [
              "142"
            ]
          },
          "metadata": {},
          "execution_count": 7
        }
      ]
    },
    {
      "cell_type": "code",
      "execution_count": 8,
      "metadata": {},
      "outputs": [
        {
          "output_type": "execute_result",
          "data": {
            "text/plain": [
              "142"
            ]
          },
          "metadata": {},
          "execution_count": 8
        }
      ],
      "source": [
        "len(df.query(\"anio < 2007\")['pais'].unique())"
      ]
    },
    {
      "cell_type": "markdown",
      "metadata": {
        "id": "7L7X95Ohlae9"
      },
      "source": [
        "🔹 5. Generar un dataset generado Argentina que contenga las siguientes filas denominada: pais, año y población"
      ]
    },
    {
      "cell_type": "code",
      "metadata": {
        "id": "pyMgA4eYla2z"
      },
      "source": [
        "arg = df.query(\"pais == 'Argentina'\")[['pais','anio','poblacion']]\n",
        "arg.head()"
      ],
      "execution_count": 10,
      "outputs": [
        {
          "output_type": "execute_result",
          "data": {
            "text/plain": [
              "         pais  anio  poblacion\n",
              "48  Argentina  1952   17876956\n",
              "49  Argentina  1957   19610538\n",
              "50  Argentina  1962   21283783\n",
              "51  Argentina  1967   22934225\n",
              "52  Argentina  1972   24779799"
            ],
            "text/html": "<div>\n<style scoped>\n    .dataframe tbody tr th:only-of-type {\n        vertical-align: middle;\n    }\n\n    .dataframe tbody tr th {\n        vertical-align: top;\n    }\n\n    .dataframe thead th {\n        text-align: right;\n    }\n</style>\n<table border=\"1\" class=\"dataframe\">\n  <thead>\n    <tr style=\"text-align: right;\">\n      <th></th>\n      <th>pais</th>\n      <th>anio</th>\n      <th>poblacion</th>\n    </tr>\n  </thead>\n  <tbody>\n    <tr>\n      <th>48</th>\n      <td>Argentina</td>\n      <td>1952</td>\n      <td>17876956</td>\n    </tr>\n    <tr>\n      <th>49</th>\n      <td>Argentina</td>\n      <td>1957</td>\n      <td>19610538</td>\n    </tr>\n    <tr>\n      <th>50</th>\n      <td>Argentina</td>\n      <td>1962</td>\n      <td>21283783</td>\n    </tr>\n    <tr>\n      <th>51</th>\n      <td>Argentina</td>\n      <td>1967</td>\n      <td>22934225</td>\n    </tr>\n    <tr>\n      <th>52</th>\n      <td>Argentina</td>\n      <td>1972</td>\n      <td>24779799</td>\n    </tr>\n  </tbody>\n</table>\n</div>"
          },
          "metadata": {},
          "execution_count": 10
        }
      ]
    },
    {
      "cell_type": "markdown",
      "metadata": {
        "id": "y3O8JnHHRTPp"
      },
      "source": [
        "🔹 6. Generar un dataframe denominado `asia_america` que contenga los datos de `America` y `Asia` para el año 2000"
      ]
    },
    {
      "cell_type": "code",
      "metadata": {
        "id": "aTpIXAFWRT4Z"
      },
      "source": [
        "asia_america = df.query(\"continente == 'Americas' or continente == 'Asia' and anio > 2000\")\n",
        "asia_america.head(5)"
      ],
      "execution_count": 11,
      "outputs": [
        {
          "output_type": "execute_result",
          "data": {
            "text/plain": [
              "          pais continente  anio  esperanza_de_vida  poblacion  pib_per_capita\n",
              "10  Afganistan       Asia  2002             42.129   25268405      726.734055\n",
              "11  Afganistan       Asia  2007             43.828   31889923      974.580338\n",
              "48   Argentina   Americas  1952             62.485   17876956     5911.315053\n",
              "49   Argentina   Americas  1957             64.399   19610538     6856.856212\n",
              "50   Argentina   Americas  1962             65.142   21283783     7133.166023"
            ],
            "text/html": "<div>\n<style scoped>\n    .dataframe tbody tr th:only-of-type {\n        vertical-align: middle;\n    }\n\n    .dataframe tbody tr th {\n        vertical-align: top;\n    }\n\n    .dataframe thead th {\n        text-align: right;\n    }\n</style>\n<table border=\"1\" class=\"dataframe\">\n  <thead>\n    <tr style=\"text-align: right;\">\n      <th></th>\n      <th>pais</th>\n      <th>continente</th>\n      <th>anio</th>\n      <th>esperanza_de_vida</th>\n      <th>poblacion</th>\n      <th>pib_per_capita</th>\n    </tr>\n  </thead>\n  <tbody>\n    <tr>\n      <th>10</th>\n      <td>Afganistan</td>\n      <td>Asia</td>\n      <td>2002</td>\n      <td>42.129</td>\n      <td>25268405</td>\n      <td>726.734055</td>\n    </tr>\n    <tr>\n      <th>11</th>\n      <td>Afganistan</td>\n      <td>Asia</td>\n      <td>2007</td>\n      <td>43.828</td>\n      <td>31889923</td>\n      <td>974.580338</td>\n    </tr>\n    <tr>\n      <th>48</th>\n      <td>Argentina</td>\n      <td>Americas</td>\n      <td>1952</td>\n      <td>62.485</td>\n      <td>17876956</td>\n      <td>5911.315053</td>\n    </tr>\n    <tr>\n      <th>49</th>\n      <td>Argentina</td>\n      <td>Americas</td>\n      <td>1957</td>\n      <td>64.399</td>\n      <td>19610538</td>\n      <td>6856.856212</td>\n    </tr>\n    <tr>\n      <th>50</th>\n      <td>Argentina</td>\n      <td>Americas</td>\n      <td>1962</td>\n      <td>65.142</td>\n      <td>21283783</td>\n      <td>7133.166023</td>\n    </tr>\n  </tbody>\n</table>\n</div>"
          },
          "metadata": {},
          "execution_count": 11
        }
      ]
    },
    {
      "cell_type": "markdown",
      "metadata": {
        "id": "5IGu1stpRjrk"
      },
      "source": [
        "🔹 7. Seleccionar todas las columnas excepto la columna `esperanza_de_vida` para el dataframe generado en el paso anterior."
      ]
    },
    {
      "cell_type": "code",
      "metadata": {
        "id": "oQ15ZuIURdXw"
      },
      "source": [
        "asia_america.loc[:, asia_america.columns != 'esperanza_de_vida'].head()"
      ],
      "execution_count": 15,
      "outputs": [
        {
          "output_type": "execute_result",
          "data": {
            "text/plain": [
              "          pais continente  anio  poblacion  pib_per_capita\n",
              "10  Afganistan       Asia  2002   25268405      726.734055\n",
              "11  Afganistan       Asia  2007   31889923      974.580338\n",
              "48   Argentina   Americas  1952   17876956     5911.315053\n",
              "49   Argentina   Americas  1957   19610538     6856.856212\n",
              "50   Argentina   Americas  1962   21283783     7133.166023"
            ],
            "text/html": "<div>\n<style scoped>\n    .dataframe tbody tr th:only-of-type {\n        vertical-align: middle;\n    }\n\n    .dataframe tbody tr th {\n        vertical-align: top;\n    }\n\n    .dataframe thead th {\n        text-align: right;\n    }\n</style>\n<table border=\"1\" class=\"dataframe\">\n  <thead>\n    <tr style=\"text-align: right;\">\n      <th></th>\n      <th>pais</th>\n      <th>continente</th>\n      <th>anio</th>\n      <th>poblacion</th>\n      <th>pib_per_capita</th>\n    </tr>\n  </thead>\n  <tbody>\n    <tr>\n      <th>10</th>\n      <td>Afganistan</td>\n      <td>Asia</td>\n      <td>2002</td>\n      <td>25268405</td>\n      <td>726.734055</td>\n    </tr>\n    <tr>\n      <th>11</th>\n      <td>Afganistan</td>\n      <td>Asia</td>\n      <td>2007</td>\n      <td>31889923</td>\n      <td>974.580338</td>\n    </tr>\n    <tr>\n      <th>48</th>\n      <td>Argentina</td>\n      <td>Americas</td>\n      <td>1952</td>\n      <td>17876956</td>\n      <td>5911.315053</td>\n    </tr>\n    <tr>\n      <th>49</th>\n      <td>Argentina</td>\n      <td>Americas</td>\n      <td>1957</td>\n      <td>19610538</td>\n      <td>6856.856212</td>\n    </tr>\n    <tr>\n      <th>50</th>\n      <td>Argentina</td>\n      <td>Americas</td>\n      <td>1962</td>\n      <td>21283783</td>\n      <td>7133.166023</td>\n    </tr>\n  </tbody>\n</table>\n</div>"
          },
          "metadata": {},
          "execution_count": 15
        }
      ]
    },
    {
      "cell_type": "markdown",
      "metadata": {
        "id": "IKxlM_TUSbVc"
      },
      "source": [
        "🔹 8. ¿Qué país tiene la esperanza de vida más alta en el 2007?  Imprima los datos para el top 10 paises con mayor esperanzad de vida para el 2007\n",
        "\n",
        "El primer lugar esta \n",
        "- [ ] Argentina\n",
        "- [ ] Japon\n",
        "- [ ] Italia\n",
        "- [ ] Rusia"
      ]
    },
    {
      "cell_type": "code",
      "metadata": {
        "id": "3V58Q1MYSdD7"
      },
      "source": [
        "top07 = df.query(\"anio == 2007\")[['pais','esperanza_de_vida']].nlargest(10, 'esperanza_de_vida')\n",
        "top07"
      ],
      "execution_count": 16,
      "outputs": [
        {
          "output_type": "execute_result",
          "data": {
            "text/plain": [
              "                                                   pais  esperanza_de_vida\n",
              "803                                               Japon             82.603\n",
              "671   Hong Kong (Region Administrativa Especial de C...             82.208\n",
              "695                                            Islandia             81.757\n",
              "1487                                              Suiza             81.701\n",
              "71                                            Australia             81.235\n",
              "1427                                             Espana             80.941\n",
              "1475                                             Suecia             80.884\n",
              "767                                              Israel             80.745\n",
              "539                                             Francia             80.657\n",
              "251                                              Canada             80.653"
            ],
            "text/html": "<div>\n<style scoped>\n    .dataframe tbody tr th:only-of-type {\n        vertical-align: middle;\n    }\n\n    .dataframe tbody tr th {\n        vertical-align: top;\n    }\n\n    .dataframe thead th {\n        text-align: right;\n    }\n</style>\n<table border=\"1\" class=\"dataframe\">\n  <thead>\n    <tr style=\"text-align: right;\">\n      <th></th>\n      <th>pais</th>\n      <th>esperanza_de_vida</th>\n    </tr>\n  </thead>\n  <tbody>\n    <tr>\n      <th>803</th>\n      <td>Japon</td>\n      <td>82.603</td>\n    </tr>\n    <tr>\n      <th>671</th>\n      <td>Hong Kong (Region Administrativa Especial de C...</td>\n      <td>82.208</td>\n    </tr>\n    <tr>\n      <th>695</th>\n      <td>Islandia</td>\n      <td>81.757</td>\n    </tr>\n    <tr>\n      <th>1487</th>\n      <td>Suiza</td>\n      <td>81.701</td>\n    </tr>\n    <tr>\n      <th>71</th>\n      <td>Australia</td>\n      <td>81.235</td>\n    </tr>\n    <tr>\n      <th>1427</th>\n      <td>Espana</td>\n      <td>80.941</td>\n    </tr>\n    <tr>\n      <th>1475</th>\n      <td>Suecia</td>\n      <td>80.884</td>\n    </tr>\n    <tr>\n      <th>767</th>\n      <td>Israel</td>\n      <td>80.745</td>\n    </tr>\n    <tr>\n      <th>539</th>\n      <td>Francia</td>\n      <td>80.657</td>\n    </tr>\n    <tr>\n      <th>251</th>\n      <td>Canada</td>\n      <td>80.653</td>\n    </tr>\n  </tbody>\n</table>\n</div>"
          },
          "metadata": {},
          "execution_count": 16
        }
      ]
    },
    {
      "cell_type": "markdown",
      "metadata": {
        "id": "OUHZGhCEUSSI"
      },
      "source": [
        "🔹 9. Generar un dataframe con el promedio de esperanza de vida para cada continente para los años mayores e iguales al 2000"
      ]
    },
    {
      "cell_type": "code",
      "metadata": {
        "id": "Jq4k6-skWxGh"
      },
      "source": [
        "df.query(\"anio > 2000\").groupby('continente')['esperanza_de_vida'].mean()"
      ],
      "execution_count": 13,
      "outputs": [
        {
          "output_type": "execute_result",
          "data": {
            "text/plain": [
              "continente\n",
              "Africa      54.065635\n",
              "Americas    73.015080\n",
              "Asia        69.981182\n",
              "Europa      77.174600\n",
              "Oceania     80.229750\n",
              "Name: esperanza_de_vida, dtype: float64"
            ]
          },
          "metadata": {},
          "execution_count": 13
        }
      ]
    },
    {
      "cell_type": "markdown",
      "metadata": {
        "id": "pYNrI27jXG9h"
      },
      "source": [
        "🔹 10. Generar un dataframe con el promedio de esperanza de vida tomando en cuenta las siguientes condiciones:\n",
        "* Años mayores e iguales al 2000\n",
        "* Los 10 paises con esperanza de vida mayor en el 2007 \n"
      ]
    },
    {
      "cell_type": "code",
      "metadata": {
        "id": "l_sjrcIUXJvl"
      },
      "source": [
        "top07_paises = list(top07['pais'])\n",
        "\n",
        "df.query(\"anio >= 2000 and pais in @top07_paises\").groupby('pais')['esperanza_de_vida'].mean()"
      ],
      "execution_count": 29,
      "outputs": [
        {
          "output_type": "execute_result",
          "data": {
            "text/plain": [
              "pais\n",
              "Australia                                              80.8025\n",
              "Canada                                                 80.2115\n",
              "Espana                                                 80.3605\n",
              "Francia                                                80.1235\n",
              "Hong Kong (Region Administrativa Especial de China)    81.8515\n",
              "Islandia                                               81.1285\n",
              "Israel                                                 80.2205\n",
              "Japon                                                  82.3015\n",
              "Suecia                                                 80.4620\n",
              "Suiza                                                  81.1605\n",
              "Name: esperanza_de_vida, dtype: float64"
            ]
          },
          "metadata": {},
          "execution_count": 29
        }
      ]
    }
  ]
}
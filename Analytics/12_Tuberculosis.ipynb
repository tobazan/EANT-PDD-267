{
  "nbformat": 4,
  "nbformat_minor": 0,
  "metadata": {
    "colab": {
      "name": "03-Tuberculosis-CleaningData.ipynb",
      "provenance": [],
      "collapsed_sections": []
    },
    "kernelspec": {
      "name": "python387jvsc74a57bd01cb3c4095699f2a8cd6a12889e7edb42215ac8b2afd459e3e81282dc1470f9b2",
      "display_name": "Python 3.8.7 64-bit"
    },
    "metadata": {
      "interpreter": {
        "hash": "1cb3c4095699f2a8cd6a12889e7edb42215ac8b2afd459e3e81282dc1470f9b2"
      }
    }
  },
  "cells": [
    {
      "cell_type": "markdown",
      "metadata": {
        "id": "A51UFEH4GpQg"
      },
      "source": [
        " <img src=\"https://eant.tech/imagenes/logo.png\" width=25% height=80%  >"
      ]
    },
    {
      "cell_type": "markdown",
      "metadata": {
        "id": "PQA27U5sbT-v"
      },
      "source": [
        "## Global Health Observatory data repository\n",
        "\n",
        "El siguiente conjunto de datos que vamos a trabjar contiene datos sobre las muertes causadas por Tuberculosis, estos datos son recopilados por el observatorio de la Organizacion mundial de la salud.\n",
        "Los datos se pueden descargar del siguiente [link](\n",
        "https://apps.who.int/gho/data/node.main.1317?lang=en)\n",
        "\n",
        "<center>\n",
        "<img src=\"https://i.ibb.co/qDWjWCj/logo-who.jpg\" alt=\"logo-who\" border=\"0\">\n",
        "</center>"
      ]
    },
    {
      "cell_type": "markdown",
      "metadata": {
        "id": "RISChrETIbRO"
      },
      "source": [
        "🏷️ 1. Importar pandas"
      ]
    },
    {
      "cell_type": "code",
      "metadata": {
        "id": "jvyPqyfZIa4-"
      },
      "source": [
        "import pandas as pd"
      ],
      "execution_count": 1,
      "outputs": []
    },
    {
      "cell_type": "markdown",
      "metadata": {
        "id": "kTDdJRZpIMu3"
      },
      "source": [
        "🏷️ 2. Importar el dataframe que se encuentra en la siguiente URL."
      ]
    },
    {
      "cell_type": "code",
      "metadata": {
        "id": "39dOYJSwITfj"
      },
      "source": [
        "url='https://docs.google.com/spreadsheets/d/e/2PACX-1vR84JOFFZnonTTDgbtc686VZM4w7k-TvJ88OZL82srRyRgS_Aa1N127YYRyI0IalIzWtM3MYnUg2Yxg/pub?output=csv'"
      ],
      "execution_count": 2,
      "outputs": []
    },
    {
      "cell_type": "code",
      "metadata": {
        "id": "kyOMFdSJbYsO"
      },
      "source": [
        "df = pd.read_csv(url)"
      ],
      "execution_count": 3,
      "outputs": []
    },
    {
      "cell_type": "markdown",
      "metadata": {
        "id": "83q06jhrIYnW"
      },
      "source": [
        "🏷️ 3. Visualizar las primeras filas del datafame"
      ]
    },
    {
      "cell_type": "code",
      "metadata": {
        "id": "UsmD2UvXbkgL"
      },
      "source": [
        "df.head()"
      ],
      "execution_count": 4,
      "outputs": [
        {
          "output_type": "execute_result",
          "data": {
            "text/plain": [
              "       Country  Year Number of deaths due to tuberculosis, excluding HIV  \\\n",
              "0  Afghanistan  2018                                 11000 [6400-16000]    \n",
              "1  Afghanistan  2017                                 11000 [6400-16000]    \n",
              "2  Afghanistan  2016                                 12000 [7100-18000]    \n",
              "3  Afghanistan  2015                                 14000 [8000-20000]    \n",
              "4  Afghanistan  2014                                 14000 [8400-22000]    \n",
              "\n",
              "  Deaths due to tuberculosis among HIV-negative people (per 100 000 population)  \n",
              "0                                         29 [17-44]                             \n",
              "1                                         30 [18-45]                             \n",
              "2                                         34 [20-51]                             \n",
              "3                                         39 [23-59]                             \n",
              "4                                         43 [25-65]                             "
            ],
            "text/html": "<div>\n<style scoped>\n    .dataframe tbody tr th:only-of-type {\n        vertical-align: middle;\n    }\n\n    .dataframe tbody tr th {\n        vertical-align: top;\n    }\n\n    .dataframe thead th {\n        text-align: right;\n    }\n</style>\n<table border=\"1\" class=\"dataframe\">\n  <thead>\n    <tr style=\"text-align: right;\">\n      <th></th>\n      <th>Country</th>\n      <th>Year</th>\n      <th>Number of deaths due to tuberculosis, excluding HIV</th>\n      <th>Deaths due to tuberculosis among HIV-negative people (per 100 000 population)</th>\n    </tr>\n  </thead>\n  <tbody>\n    <tr>\n      <th>0</th>\n      <td>Afghanistan</td>\n      <td>2018</td>\n      <td>11000 [6400-16000]</td>\n      <td>29 [17-44]</td>\n    </tr>\n    <tr>\n      <th>1</th>\n      <td>Afghanistan</td>\n      <td>2017</td>\n      <td>11000 [6400-16000]</td>\n      <td>30 [18-45]</td>\n    </tr>\n    <tr>\n      <th>2</th>\n      <td>Afghanistan</td>\n      <td>2016</td>\n      <td>12000 [7100-18000]</td>\n      <td>34 [20-51]</td>\n    </tr>\n    <tr>\n      <th>3</th>\n      <td>Afghanistan</td>\n      <td>2015</td>\n      <td>14000 [8000-20000]</td>\n      <td>39 [23-59]</td>\n    </tr>\n    <tr>\n      <th>4</th>\n      <td>Afghanistan</td>\n      <td>2014</td>\n      <td>14000 [8400-22000]</td>\n      <td>43 [25-65]</td>\n    </tr>\n  </tbody>\n</table>\n</div>"
          },
          "metadata": {},
          "execution_count": 4
        }
      ]
    },
    {
      "cell_type": "markdown",
      "metadata": {
        "id": "pKxuQLImkl7R"
      },
      "source": [
        "🏷️ 4. Modificar los nombres de las columnas por los siguientes:\n",
        "> * 'Country'\n",
        "> * 'year'\n",
        "> * 'NroDeaths_ehiv'\n",
        "> * 'NroDeaths_nhiv'"
      ]
    },
    {
      "cell_type": "code",
      "metadata": {
        "id": "89M0FiI4ciAv"
      },
      "source": [
        "headers = ['country', 'year', 'nroDeaths_ehiv', 'nroDeaths_nhiv']\n",
        "df.columns = headers\n",
        "df.head()"
      ],
      "execution_count": 5,
      "outputs": [
        {
          "output_type": "execute_result",
          "data": {
            "text/plain": [
              "       country  year      nroDeaths_ehiv nroDeaths_nhiv\n",
              "0  Afghanistan  2018  11000 [6400-16000]     29 [17-44]\n",
              "1  Afghanistan  2017  11000 [6400-16000]     30 [18-45]\n",
              "2  Afghanistan  2016  12000 [7100-18000]     34 [20-51]\n",
              "3  Afghanistan  2015  14000 [8000-20000]     39 [23-59]\n",
              "4  Afghanistan  2014  14000 [8400-22000]     43 [25-65]"
            ],
            "text/html": "<div>\n<style scoped>\n    .dataframe tbody tr th:only-of-type {\n        vertical-align: middle;\n    }\n\n    .dataframe tbody tr th {\n        vertical-align: top;\n    }\n\n    .dataframe thead th {\n        text-align: right;\n    }\n</style>\n<table border=\"1\" class=\"dataframe\">\n  <thead>\n    <tr style=\"text-align: right;\">\n      <th></th>\n      <th>country</th>\n      <th>year</th>\n      <th>nroDeaths_ehiv</th>\n      <th>nroDeaths_nhiv</th>\n    </tr>\n  </thead>\n  <tbody>\n    <tr>\n      <th>0</th>\n      <td>Afghanistan</td>\n      <td>2018</td>\n      <td>11000 [6400-16000]</td>\n      <td>29 [17-44]</td>\n    </tr>\n    <tr>\n      <th>1</th>\n      <td>Afghanistan</td>\n      <td>2017</td>\n      <td>11000 [6400-16000]</td>\n      <td>30 [18-45]</td>\n    </tr>\n    <tr>\n      <th>2</th>\n      <td>Afghanistan</td>\n      <td>2016</td>\n      <td>12000 [7100-18000]</td>\n      <td>34 [20-51]</td>\n    </tr>\n    <tr>\n      <th>3</th>\n      <td>Afghanistan</td>\n      <td>2015</td>\n      <td>14000 [8000-20000]</td>\n      <td>39 [23-59]</td>\n    </tr>\n    <tr>\n      <th>4</th>\n      <td>Afghanistan</td>\n      <td>2014</td>\n      <td>14000 [8400-22000]</td>\n      <td>43 [25-65]</td>\n    </tr>\n  </tbody>\n</table>\n</div>"
          },
          "metadata": {},
          "execution_count": 5
        }
      ]
    },
    {
      "cell_type": "markdown",
      "metadata": {
        "id": "DHiGa1ArkyqB"
      },
      "source": [
        "🏷️ 5. Separar las variable NroDeaths_ehiv y NroDeaths_nhiv en las siguientes:\n",
        "\n",
        "* NroDeaths_ehiv\n",
        " - NroDeaths_ehiv_value\n",
        " - NroDeaths_ehiv_intervalo\n",
        "\n",
        "* NroDeaths_nhiv\n",
        " - NroDeaths_nhiv_value\n",
        " - NroDeaths_nhiv_intervalo\n"
      ]
    },
    {
      "cell_type": "code",
      "metadata": {
        "id": "29Zih_f6c6UN"
      },
      "source": [
        "df[['nroDeaths_ehiv_value','nroDeaths_ehiv_intervalo']] = df.nroDeaths_ehiv.str.split(expand=True)\n",
        "df[['nroDeaths_nhiv_value','nroDeaths_nhiv_intervalo']] = df.nroDeaths_nhiv.str.split(expand=True)"
      ],
      "execution_count": 6,
      "outputs": []
    },
    {
      "cell_type": "markdown",
      "metadata": {
        "id": "J7yZwQqZltUg"
      },
      "source": [
        "🏷️ 6. Eliminar las columnas: `NroDeaths_ehiv` y `NroDeaths_nhiv`"
      ]
    },
    {
      "cell_type": "code",
      "metadata": {
        "id": "8FHsom1adUZT"
      },
      "source": [
        "df.drop(columns=['nroDeaths_ehiv','nroDeaths_nhiv'], inplace=True)\n",
        "\n",
        "df.head()"
      ],
      "execution_count": 7,
      "outputs": [
        {
          "output_type": "execute_result",
          "data": {
            "text/plain": [
              "       country  year nroDeaths_ehiv_value nroDeaths_ehiv_intervalo  \\\n",
              "0  Afghanistan  2018                11000             [6400-16000]   \n",
              "1  Afghanistan  2017                11000             [6400-16000]   \n",
              "2  Afghanistan  2016                12000             [7100-18000]   \n",
              "3  Afghanistan  2015                14000             [8000-20000]   \n",
              "4  Afghanistan  2014                14000             [8400-22000]   \n",
              "\n",
              "  nroDeaths_nhiv_value nroDeaths_nhiv_intervalo  \n",
              "0                   29                  [17-44]  \n",
              "1                   30                  [18-45]  \n",
              "2                   34                  [20-51]  \n",
              "3                   39                  [23-59]  \n",
              "4                   43                  [25-65]  "
            ],
            "text/html": "<div>\n<style scoped>\n    .dataframe tbody tr th:only-of-type {\n        vertical-align: middle;\n    }\n\n    .dataframe tbody tr th {\n        vertical-align: top;\n    }\n\n    .dataframe thead th {\n        text-align: right;\n    }\n</style>\n<table border=\"1\" class=\"dataframe\">\n  <thead>\n    <tr style=\"text-align: right;\">\n      <th></th>\n      <th>country</th>\n      <th>year</th>\n      <th>nroDeaths_ehiv_value</th>\n      <th>nroDeaths_ehiv_intervalo</th>\n      <th>nroDeaths_nhiv_value</th>\n      <th>nroDeaths_nhiv_intervalo</th>\n    </tr>\n  </thead>\n  <tbody>\n    <tr>\n      <th>0</th>\n      <td>Afghanistan</td>\n      <td>2018</td>\n      <td>11000</td>\n      <td>[6400-16000]</td>\n      <td>29</td>\n      <td>[17-44]</td>\n    </tr>\n    <tr>\n      <th>1</th>\n      <td>Afghanistan</td>\n      <td>2017</td>\n      <td>11000</td>\n      <td>[6400-16000]</td>\n      <td>30</td>\n      <td>[18-45]</td>\n    </tr>\n    <tr>\n      <th>2</th>\n      <td>Afghanistan</td>\n      <td>2016</td>\n      <td>12000</td>\n      <td>[7100-18000]</td>\n      <td>34</td>\n      <td>[20-51]</td>\n    </tr>\n    <tr>\n      <th>3</th>\n      <td>Afghanistan</td>\n      <td>2015</td>\n      <td>14000</td>\n      <td>[8000-20000]</td>\n      <td>39</td>\n      <td>[23-59]</td>\n    </tr>\n    <tr>\n      <th>4</th>\n      <td>Afghanistan</td>\n      <td>2014</td>\n      <td>14000</td>\n      <td>[8400-22000]</td>\n      <td>43</td>\n      <td>[25-65]</td>\n    </tr>\n  </tbody>\n</table>\n</div>"
          },
          "metadata": {},
          "execution_count": 7
        }
      ]
    },
    {
      "cell_type": "markdown",
      "metadata": {
        "id": "FHa7EY-1l7w5"
      },
      "source": [
        "🏷️ 7. Generar un dataframe que contenga cuatro columnas: \n",
        "> * **country**\n",
        "> * **year**\n",
        "> * **concepto**: que tenga los datos de las variables roDeaths_ehiv_value y NroDeaths_nhiv_value.\n",
        "> * **value**"
      ]
    },
    {
      "cell_type": "code",
      "metadata": {
        "id": "okfq-MLAcuR2"
      },
      "source": [
        "ehiv = df.pivot(index='country', columns='year', values='nroDeaths_ehiv_value')\n",
        "nhiv = df.pivot(index='country', columns='year', values='nroDeaths_nhiv_value')"
      ],
      "execution_count": 22,
      "outputs": []
    },
    {
      "cell_type": "code",
      "execution_count": 23,
      "metadata": {},
      "outputs": [
        {
          "output_type": "execute_result",
          "data": {
            "text/plain": [
              "year          2000   2001   2002   2003   2004   2005   2006   2007   2008  \\\n",
              "country                                                                      \n",
              "Afghanistan  14000  13000  13000  14000  13000  12000  11000  10000  11000   \n",
              "Albania         22     20     20     19     26     12     11     16     16   \n",
              "Algeria       2500   2500   2600   2700   2700   2900   2900   2900   2800   \n",
              "Andorra          1      1      0      1      1      1      1      0      0   \n",
              "Angola       12000  11000  11000   9800  12000  13000  10000  16000  14000   \n",
              "\n",
              "year          2009   2010   2011   2012   2013   2014   2015   2016   2017  \\\n",
              "country                                                                      \n",
              "Afghanistan  13000  12000  13000  14000  14000  14000  14000  12000  11000   \n",
              "Albania          5      9      9      9      8      8      8      8      8   \n",
              "Algeria       3000   3100   2900   3000   2800   3100   3200   3100   3100   \n",
              "Andorra          1      1      0      1      0      1      0      0      0   \n",
              "Angola       19000  16000  18000  15000  14000  17000  16000  17000  19000   \n",
              "\n",
              "year          2018  \n",
              "country             \n",
              "Afghanistan  11000  \n",
              "Albania          8  \n",
              "Algeria       3200  \n",
              "Andorra          0  \n",
              "Angola       19000  "
            ],
            "text/html": "<div>\n<style scoped>\n    .dataframe tbody tr th:only-of-type {\n        vertical-align: middle;\n    }\n\n    .dataframe tbody tr th {\n        vertical-align: top;\n    }\n\n    .dataframe thead th {\n        text-align: right;\n    }\n</style>\n<table border=\"1\" class=\"dataframe\">\n  <thead>\n    <tr style=\"text-align: right;\">\n      <th>year</th>\n      <th>2000</th>\n      <th>2001</th>\n      <th>2002</th>\n      <th>2003</th>\n      <th>2004</th>\n      <th>2005</th>\n      <th>2006</th>\n      <th>2007</th>\n      <th>2008</th>\n      <th>2009</th>\n      <th>2010</th>\n      <th>2011</th>\n      <th>2012</th>\n      <th>2013</th>\n      <th>2014</th>\n      <th>2015</th>\n      <th>2016</th>\n      <th>2017</th>\n      <th>2018</th>\n    </tr>\n    <tr>\n      <th>country</th>\n      <th></th>\n      <th></th>\n      <th></th>\n      <th></th>\n      <th></th>\n      <th></th>\n      <th></th>\n      <th></th>\n      <th></th>\n      <th></th>\n      <th></th>\n      <th></th>\n      <th></th>\n      <th></th>\n      <th></th>\n      <th></th>\n      <th></th>\n      <th></th>\n      <th></th>\n    </tr>\n  </thead>\n  <tbody>\n    <tr>\n      <th>Afghanistan</th>\n      <td>14000</td>\n      <td>13000</td>\n      <td>13000</td>\n      <td>14000</td>\n      <td>13000</td>\n      <td>12000</td>\n      <td>11000</td>\n      <td>10000</td>\n      <td>11000</td>\n      <td>13000</td>\n      <td>12000</td>\n      <td>13000</td>\n      <td>14000</td>\n      <td>14000</td>\n      <td>14000</td>\n      <td>14000</td>\n      <td>12000</td>\n      <td>11000</td>\n      <td>11000</td>\n    </tr>\n    <tr>\n      <th>Albania</th>\n      <td>22</td>\n      <td>20</td>\n      <td>20</td>\n      <td>19</td>\n      <td>26</td>\n      <td>12</td>\n      <td>11</td>\n      <td>16</td>\n      <td>16</td>\n      <td>5</td>\n      <td>9</td>\n      <td>9</td>\n      <td>9</td>\n      <td>8</td>\n      <td>8</td>\n      <td>8</td>\n      <td>8</td>\n      <td>8</td>\n      <td>8</td>\n    </tr>\n    <tr>\n      <th>Algeria</th>\n      <td>2500</td>\n      <td>2500</td>\n      <td>2600</td>\n      <td>2700</td>\n      <td>2700</td>\n      <td>2900</td>\n      <td>2900</td>\n      <td>2900</td>\n      <td>2800</td>\n      <td>3000</td>\n      <td>3100</td>\n      <td>2900</td>\n      <td>3000</td>\n      <td>2800</td>\n      <td>3100</td>\n      <td>3200</td>\n      <td>3100</td>\n      <td>3100</td>\n      <td>3200</td>\n    </tr>\n    <tr>\n      <th>Andorra</th>\n      <td>1</td>\n      <td>1</td>\n      <td>0</td>\n      <td>1</td>\n      <td>1</td>\n      <td>1</td>\n      <td>1</td>\n      <td>0</td>\n      <td>0</td>\n      <td>1</td>\n      <td>1</td>\n      <td>0</td>\n      <td>1</td>\n      <td>0</td>\n      <td>1</td>\n      <td>0</td>\n      <td>0</td>\n      <td>0</td>\n      <td>0</td>\n    </tr>\n    <tr>\n      <th>Angola</th>\n      <td>12000</td>\n      <td>11000</td>\n      <td>11000</td>\n      <td>9800</td>\n      <td>12000</td>\n      <td>13000</td>\n      <td>10000</td>\n      <td>16000</td>\n      <td>14000</td>\n      <td>19000</td>\n      <td>16000</td>\n      <td>18000</td>\n      <td>15000</td>\n      <td>14000</td>\n      <td>17000</td>\n      <td>16000</td>\n      <td>17000</td>\n      <td>19000</td>\n      <td>19000</td>\n    </tr>\n  </tbody>\n</table>\n</div>"
          },
          "metadata": {},
          "execution_count": 23
        }
      ],
      "source": [
        "ehiv.head()"
      ]
    },
    {
      "cell_type": "code",
      "execution_count": 24,
      "metadata": {},
      "outputs": [
        {
          "output_type": "execute_result",
          "data": {
            "text/plain": [
              "year         2000  2001  2002 2003  2004  2005  2006  2007  2008  2009  2010  \\\n",
              "country                                                                        \n",
              "Afghanistan    68    62    57   58    51    47    43    39    40    44    43   \n",
              "Albania      0.69  0.65  0.63  0.6  0.84  0.39  0.35  0.52  0.53  0.17  0.29   \n",
              "Algeria       8.2     8   8.2  8.4   8.4   8.8   8.6   8.6   8.1   8.4   8.5   \n",
              "Andorra       1.7   1.4  0.67  1.4  0.87   1.2   1.4  0.57  0.45   0.9  0.78   \n",
              "Angola         73    66    60   54    63    68    51    77    65    84    69   \n",
              "\n",
              "year         2011  2012  2013  2014  2015  2016  2017  2018  \n",
              "country                                                      \n",
              "Afghanistan    44    44    43    43    39    34    30    29  \n",
              "Albania      0.29  0.29  0.29  0.29  0.29  0.29  0.29  0.29  \n",
              "Algeria         8     8   7.4   7.9   8.1   7.7   7.6   7.6  \n",
              "Andorra      0.34     1  0.58  0.72  0.48  0.49  0.12  0.25  \n",
              "Angola         74    61    55    62    57    58    65    60  "
            ],
            "text/html": "<div>\n<style scoped>\n    .dataframe tbody tr th:only-of-type {\n        vertical-align: middle;\n    }\n\n    .dataframe tbody tr th {\n        vertical-align: top;\n    }\n\n    .dataframe thead th {\n        text-align: right;\n    }\n</style>\n<table border=\"1\" class=\"dataframe\">\n  <thead>\n    <tr style=\"text-align: right;\">\n      <th>year</th>\n      <th>2000</th>\n      <th>2001</th>\n      <th>2002</th>\n      <th>2003</th>\n      <th>2004</th>\n      <th>2005</th>\n      <th>2006</th>\n      <th>2007</th>\n      <th>2008</th>\n      <th>2009</th>\n      <th>2010</th>\n      <th>2011</th>\n      <th>2012</th>\n      <th>2013</th>\n      <th>2014</th>\n      <th>2015</th>\n      <th>2016</th>\n      <th>2017</th>\n      <th>2018</th>\n    </tr>\n    <tr>\n      <th>country</th>\n      <th></th>\n      <th></th>\n      <th></th>\n      <th></th>\n      <th></th>\n      <th></th>\n      <th></th>\n      <th></th>\n      <th></th>\n      <th></th>\n      <th></th>\n      <th></th>\n      <th></th>\n      <th></th>\n      <th></th>\n      <th></th>\n      <th></th>\n      <th></th>\n      <th></th>\n    </tr>\n  </thead>\n  <tbody>\n    <tr>\n      <th>Afghanistan</th>\n      <td>68</td>\n      <td>62</td>\n      <td>57</td>\n      <td>58</td>\n      <td>51</td>\n      <td>47</td>\n      <td>43</td>\n      <td>39</td>\n      <td>40</td>\n      <td>44</td>\n      <td>43</td>\n      <td>44</td>\n      <td>44</td>\n      <td>43</td>\n      <td>43</td>\n      <td>39</td>\n      <td>34</td>\n      <td>30</td>\n      <td>29</td>\n    </tr>\n    <tr>\n      <th>Albania</th>\n      <td>0.69</td>\n      <td>0.65</td>\n      <td>0.63</td>\n      <td>0.6</td>\n      <td>0.84</td>\n      <td>0.39</td>\n      <td>0.35</td>\n      <td>0.52</td>\n      <td>0.53</td>\n      <td>0.17</td>\n      <td>0.29</td>\n      <td>0.29</td>\n      <td>0.29</td>\n      <td>0.29</td>\n      <td>0.29</td>\n      <td>0.29</td>\n      <td>0.29</td>\n      <td>0.29</td>\n      <td>0.29</td>\n    </tr>\n    <tr>\n      <th>Algeria</th>\n      <td>8.2</td>\n      <td>8</td>\n      <td>8.2</td>\n      <td>8.4</td>\n      <td>8.4</td>\n      <td>8.8</td>\n      <td>8.6</td>\n      <td>8.6</td>\n      <td>8.1</td>\n      <td>8.4</td>\n      <td>8.5</td>\n      <td>8</td>\n      <td>8</td>\n      <td>7.4</td>\n      <td>7.9</td>\n      <td>8.1</td>\n      <td>7.7</td>\n      <td>7.6</td>\n      <td>7.6</td>\n    </tr>\n    <tr>\n      <th>Andorra</th>\n      <td>1.7</td>\n      <td>1.4</td>\n      <td>0.67</td>\n      <td>1.4</td>\n      <td>0.87</td>\n      <td>1.2</td>\n      <td>1.4</td>\n      <td>0.57</td>\n      <td>0.45</td>\n      <td>0.9</td>\n      <td>0.78</td>\n      <td>0.34</td>\n      <td>1</td>\n      <td>0.58</td>\n      <td>0.72</td>\n      <td>0.48</td>\n      <td>0.49</td>\n      <td>0.12</td>\n      <td>0.25</td>\n    </tr>\n    <tr>\n      <th>Angola</th>\n      <td>73</td>\n      <td>66</td>\n      <td>60</td>\n      <td>54</td>\n      <td>63</td>\n      <td>68</td>\n      <td>51</td>\n      <td>77</td>\n      <td>65</td>\n      <td>84</td>\n      <td>69</td>\n      <td>74</td>\n      <td>61</td>\n      <td>55</td>\n      <td>62</td>\n      <td>57</td>\n      <td>58</td>\n      <td>65</td>\n      <td>60</td>\n    </tr>\n  </tbody>\n</table>\n</div>"
          },
          "metadata": {},
          "execution_count": 24
        }
      ],
      "source": [
        "nhiv.head()"
      ]
    },
    {
      "cell_type": "code",
      "execution_count": 46,
      "metadata": {},
      "outputs": [
        {
          "output_type": "execute_result",
          "data": {
            "text/plain": [
              "                 country  year             ehiv-nhiv deaths\n",
              "0            Afghanistan  2018  nroDeaths_ehiv_value  11000\n",
              "19               Albania  2018  nroDeaths_ehiv_value      8\n",
              "38               Algeria  2018  nroDeaths_ehiv_value   3200\n",
              "57               Andorra  2018  nroDeaths_ehiv_value      0\n",
              "76                Angola  2018  nroDeaths_ehiv_value  19000\n",
              "95   Antigua and Barbuda  2018  nroDeaths_ehiv_value      1\n",
              "114            Argentina  2018  nroDeaths_ehiv_value    640\n",
              "133              Armenia  2018  nroDeaths_ehiv_value     18\n",
              "152            Australia  2018  nroDeaths_ehiv_value     50\n",
              "171              Austria  2018  nroDeaths_ehiv_value     35"
            ],
            "text/html": "<div>\n<style scoped>\n    .dataframe tbody tr th:only-of-type {\n        vertical-align: middle;\n    }\n\n    .dataframe tbody tr th {\n        vertical-align: top;\n    }\n\n    .dataframe thead th {\n        text-align: right;\n    }\n</style>\n<table border=\"1\" class=\"dataframe\">\n  <thead>\n    <tr style=\"text-align: right;\">\n      <th></th>\n      <th>country</th>\n      <th>year</th>\n      <th>ehiv-nhiv</th>\n      <th>deaths</th>\n    </tr>\n  </thead>\n  <tbody>\n    <tr>\n      <th>0</th>\n      <td>Afghanistan</td>\n      <td>2018</td>\n      <td>nroDeaths_ehiv_value</td>\n      <td>11000</td>\n    </tr>\n    <tr>\n      <th>19</th>\n      <td>Albania</td>\n      <td>2018</td>\n      <td>nroDeaths_ehiv_value</td>\n      <td>8</td>\n    </tr>\n    <tr>\n      <th>38</th>\n      <td>Algeria</td>\n      <td>2018</td>\n      <td>nroDeaths_ehiv_value</td>\n      <td>3200</td>\n    </tr>\n    <tr>\n      <th>57</th>\n      <td>Andorra</td>\n      <td>2018</td>\n      <td>nroDeaths_ehiv_value</td>\n      <td>0</td>\n    </tr>\n    <tr>\n      <th>76</th>\n      <td>Angola</td>\n      <td>2018</td>\n      <td>nroDeaths_ehiv_value</td>\n      <td>19000</td>\n    </tr>\n    <tr>\n      <th>95</th>\n      <td>Antigua and Barbuda</td>\n      <td>2018</td>\n      <td>nroDeaths_ehiv_value</td>\n      <td>1</td>\n    </tr>\n    <tr>\n      <th>114</th>\n      <td>Argentina</td>\n      <td>2018</td>\n      <td>nroDeaths_ehiv_value</td>\n      <td>640</td>\n    </tr>\n    <tr>\n      <th>133</th>\n      <td>Armenia</td>\n      <td>2018</td>\n      <td>nroDeaths_ehiv_value</td>\n      <td>18</td>\n    </tr>\n    <tr>\n      <th>152</th>\n      <td>Australia</td>\n      <td>2018</td>\n      <td>nroDeaths_ehiv_value</td>\n      <td>50</td>\n    </tr>\n    <tr>\n      <th>171</th>\n      <td>Austria</td>\n      <td>2018</td>\n      <td>nroDeaths_ehiv_value</td>\n      <td>35</td>\n    </tr>\n  </tbody>\n</table>\n</div>"
          },
          "metadata": {},
          "execution_count": 46
        }
      ],
      "source": [
        "data = df.melt(id_vars=['country','year'],\n",
        "                value_vars=['nroDeaths_ehiv_value','nroDeaths_nhiv_value'],\n",
        "                var_name='ehiv-nhiv',\n",
        "                value_name='deaths')\n",
        "\n",
        "data.query('year == 2018').head(10)"
      ]
    },
    {
      "cell_type": "code",
      "execution_count": null,
      "metadata": {},
      "outputs": [],
      "source": []
    }
  ]
}
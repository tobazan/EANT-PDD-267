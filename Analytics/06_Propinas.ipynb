{
  "nbformat": 4,
  "nbformat_minor": 0,
  "metadata": {
    "colab": {
      "name": "02-Dataframes_pandas_practica.ipynb",
      "provenance": [],
      "collapsed_sections": []
    },
    "kernelspec": {
      "name": "python387jvsc74a57bd01cb3c4095699f2a8cd6a12889e7edb42215ac8b2afd459e3e81282dc1470f9b2",
      "display_name": "Python 3.8.7 64-bit"
    },
    "metadata": {
      "interpreter": {
        "hash": "1cb3c4095699f2a8cd6a12889e7edb42215ac8b2afd459e3e81282dc1470f9b2"
      }
    }
  },
  "cells": [
    {
      "cell_type": "markdown",
      "metadata": {
        "id": "xukFEhNLle_K"
      },
      "source": [
        " <img src=\"https://eant.tech/imagenes/logo.png\" width=25% height=80%  >"
      ]
    },
    {
      "cell_type": "markdown",
      "metadata": {
        "id": "AOIgv6Euljad"
      },
      "source": [
        "## <img src=\"http://icons.iconarchive.com/icons/cornmanthe3rd/plex/256/Other-python-icon.png\" width=\"40\"> Ejercicio Restaurant 🍝🍕🍟\n",
        "\n",
        "<center>\n",
        "<img src=\"https://i.ibb.co/ySBJX7L/25746.png\" alt=\"25746\" border=\"0\" width=\"50%\" height=\"30%\">\n",
        "</center>\n",
        "\n",
        "\n",
        "🏷️ 1. Importar los paquetes que vamos a utilizar."
      ]
    },
    {
      "cell_type": "code",
      "metadata": {
        "id": "NTnEszWzVsOk"
      },
      "source": [
        "import pandas as pd\n",
        "import plotly as px"
      ],
      "execution_count": 1,
      "outputs": []
    },
    {
      "cell_type": "markdown",
      "metadata": {
        "id": "F3UOzBi-lzkV"
      },
      "source": [
        "\n",
        "🏷️ 2. Importar el dataframe denominado tips"
      ]
    },
    {
      "cell_type": "code",
      "metadata": {
        "id": "QpvMyVSvVwtv"
      },
      "source": [
        "df = px.data.tips()"
      ],
      "execution_count": 2,
      "outputs": []
    },
    {
      "cell_type": "markdown",
      "metadata": {
        "id": "YtwVHcn8mEGX"
      },
      "source": [
        "\n",
        "🏷️ 3.  Imprimir las dos primeras filas del dataframe"
      ]
    },
    {
      "cell_type": "code",
      "metadata": {
        "id": "pjXtnhruWPCY"
      },
      "source": [
        "df.head()"
      ],
      "execution_count": 3,
      "outputs": [
        {
          "output_type": "execute_result",
          "data": {
            "text/plain": [
              "   total_bill   tip     sex smoker  day    time  size\n",
              "0       16.99  1.01  Female     No  Sun  Dinner     2\n",
              "1       10.34  1.66    Male     No  Sun  Dinner     3\n",
              "2       21.01  3.50    Male     No  Sun  Dinner     3\n",
              "3       23.68  3.31    Male     No  Sun  Dinner     2\n",
              "4       24.59  3.61  Female     No  Sun  Dinner     4"
            ],
            "text/html": "<div>\n<style scoped>\n    .dataframe tbody tr th:only-of-type {\n        vertical-align: middle;\n    }\n\n    .dataframe tbody tr th {\n        vertical-align: top;\n    }\n\n    .dataframe thead th {\n        text-align: right;\n    }\n</style>\n<table border=\"1\" class=\"dataframe\">\n  <thead>\n    <tr style=\"text-align: right;\">\n      <th></th>\n      <th>total_bill</th>\n      <th>tip</th>\n      <th>sex</th>\n      <th>smoker</th>\n      <th>day</th>\n      <th>time</th>\n      <th>size</th>\n    </tr>\n  </thead>\n  <tbody>\n    <tr>\n      <th>0</th>\n      <td>16.99</td>\n      <td>1.01</td>\n      <td>Female</td>\n      <td>No</td>\n      <td>Sun</td>\n      <td>Dinner</td>\n      <td>2</td>\n    </tr>\n    <tr>\n      <th>1</th>\n      <td>10.34</td>\n      <td>1.66</td>\n      <td>Male</td>\n      <td>No</td>\n      <td>Sun</td>\n      <td>Dinner</td>\n      <td>3</td>\n    </tr>\n    <tr>\n      <th>2</th>\n      <td>21.01</td>\n      <td>3.50</td>\n      <td>Male</td>\n      <td>No</td>\n      <td>Sun</td>\n      <td>Dinner</td>\n      <td>3</td>\n    </tr>\n    <tr>\n      <th>3</th>\n      <td>23.68</td>\n      <td>3.31</td>\n      <td>Male</td>\n      <td>No</td>\n      <td>Sun</td>\n      <td>Dinner</td>\n      <td>2</td>\n    </tr>\n    <tr>\n      <th>4</th>\n      <td>24.59</td>\n      <td>3.61</td>\n      <td>Female</td>\n      <td>No</td>\n      <td>Sun</td>\n      <td>Dinner</td>\n      <td>4</td>\n    </tr>\n  </tbody>\n</table>\n</div>"
          },
          "metadata": {},
          "execution_count": 3
        }
      ]
    },
    {
      "cell_type": "markdown",
      "metadata": {
        "id": "Y8yzeBopmIqY"
      },
      "source": [
        "\n",
        "🏷️ 4.  Imprimir el nombre de las columnas del dataframe"
      ]
    },
    {
      "cell_type": "code",
      "metadata": {
        "id": "nUMyW1OCWchY"
      },
      "source": [
        "list(df.columns)"
      ],
      "execution_count": 4,
      "outputs": [
        {
          "output_type": "execute_result",
          "data": {
            "text/plain": [
              "['total_bill', 'tip', 'sex', 'smoker', 'day', 'time', 'size']"
            ]
          },
          "metadata": {},
          "execution_count": 4
        }
      ]
    },
    {
      "cell_type": "markdown",
      "metadata": {
        "id": "6qzyXg-qmL-U"
      },
      "source": [
        "\n",
        "🏷️ 5.  Imprimir la estructura de las columnas del dataframe"
      ]
    },
    {
      "cell_type": "code",
      "metadata": {
        "id": "Q0Amy4B6WeRJ"
      },
      "source": [
        "df.info()"
      ],
      "execution_count": 5,
      "outputs": [
        {
          "output_type": "stream",
          "name": "stdout",
          "text": [
            "<class 'pandas.core.frame.DataFrame'>\nRangeIndex: 244 entries, 0 to 243\nData columns (total 7 columns):\n #   Column      Non-Null Count  Dtype  \n---  ------      --------------  -----  \n 0   total_bill  244 non-null    float64\n 1   tip         244 non-null    float64\n 2   sex         244 non-null    object \n 3   smoker      244 non-null    object \n 4   day         244 non-null    object \n 5   time        244 non-null    object \n 6   size        244 non-null    int64  \ndtypes: float64(2), int64(1), object(4)\nmemory usage: 13.5+ KB\n"
          ]
        }
      ]
    },
    {
      "cell_type": "markdown",
      "metadata": {
        "id": "oR3xPskCmS1g"
      },
      "source": [
        "\n",
        "🏷️ 6.  Imprimir la cantidad de filas y columnas del dataframe"
      ]
    },
    {
      "cell_type": "code",
      "metadata": {
        "id": "5Vu_6w86WghY"
      },
      "source": [
        "df.shape"
      ],
      "execution_count": 6,
      "outputs": [
        {
          "output_type": "execute_result",
          "data": {
            "text/plain": [
              "(244, 7)"
            ]
          },
          "metadata": {},
          "execution_count": 6
        }
      ]
    },
    {
      "cell_type": "markdown",
      "metadata": {
        "id": "dWN73El9WmGh"
      },
      "source": [
        "\n",
        "🏷️ 7.  Generar un dataframe que contenga las columnas total_bill, sex, day y tip"
      ]
    },
    {
      "cell_type": "code",
      "metadata": {
        "id": "jM02j8D2WyB8"
      },
      "source": [
        "df1 = df[['sex','total_bill','day','tip']]\n",
        "# df1 = df.iloc[ :, [2, 0, 4, 1] ]"
      ],
      "execution_count": 7,
      "outputs": []
    },
    {
      "cell_type": "markdown",
      "metadata": {
        "id": "gTAko8HkXRtQ"
      },
      "source": [
        "\n",
        "🏷️ 8.  Seleccionar las primeras 4 columnas y las 2 primeras del dataframe\n"
      ]
    },
    {
      "cell_type": "code",
      "metadata": {
        "id": "sRyD0AVeXSUr"
      },
      "source": [
        "df.iloc[ 0:2 , 0:4 ]"
      ],
      "execution_count": 8,
      "outputs": [
        {
          "output_type": "execute_result",
          "data": {
            "text/plain": [
              "   total_bill   tip     sex smoker\n",
              "0       16.99  1.01  Female     No\n",
              "1       10.34  1.66    Male     No"
            ],
            "text/html": "<div>\n<style scoped>\n    .dataframe tbody tr th:only-of-type {\n        vertical-align: middle;\n    }\n\n    .dataframe tbody tr th {\n        vertical-align: top;\n    }\n\n    .dataframe thead th {\n        text-align: right;\n    }\n</style>\n<table border=\"1\" class=\"dataframe\">\n  <thead>\n    <tr style=\"text-align: right;\">\n      <th></th>\n      <th>total_bill</th>\n      <th>tip</th>\n      <th>sex</th>\n      <th>smoker</th>\n    </tr>\n  </thead>\n  <tbody>\n    <tr>\n      <th>0</th>\n      <td>16.99</td>\n      <td>1.01</td>\n      <td>Female</td>\n      <td>No</td>\n    </tr>\n    <tr>\n      <th>1</th>\n      <td>10.34</td>\n      <td>1.66</td>\n      <td>Male</td>\n      <td>No</td>\n    </tr>\n  </tbody>\n</table>\n</div>"
          },
          "metadata": {},
          "execution_count": 8
        }
      ]
    },
    {
      "cell_type": "markdown",
      "metadata": {
        "id": "4G4CJ6ZjXcKZ"
      },
      "source": [
        "\n",
        "🏷️ 9.  Seleccionar todas las columnas que comiencen con `t`"
      ]
    },
    {
      "cell_type": "code",
      "metadata": {
        "id": "i0k6gdJbY3HS"
      },
      "source": [
        "df.columns[df.columns.str.startswith(\"t\")]"
      ],
      "execution_count": 9,
      "outputs": [
        {
          "output_type": "execute_result",
          "data": {
            "text/plain": [
              "Index(['total_bill', 'tip', 'time'], dtype='object')"
            ]
          },
          "metadata": {},
          "execution_count": 9
        }
      ]
    },
    {
      "cell_type": "markdown",
      "metadata": {
        "id": "AhXtrUJpZK64"
      },
      "source": [
        "\n",
        "🏷️ 10.  Seleccionar todas las columnas que finalicen con e"
      ]
    },
    {
      "cell_type": "code",
      "metadata": {
        "id": "Dl-_NwamZKPe"
      },
      "source": [
        "df.columns[df.columns.str.endswith(\"e\")]"
      ],
      "execution_count": 10,
      "outputs": [
        {
          "output_type": "execute_result",
          "data": {
            "text/plain": [
              "Index(['time', 'size'], dtype='object')"
            ]
          },
          "metadata": {},
          "execution_count": 10
        }
      ]
    },
    {
      "cell_type": "markdown",
      "metadata": {
        "id": "6fwWVA5MZWqT"
      },
      "source": [
        "\n",
        "🏷️ 11.  Seleccionar todas las columnas que contienen con e"
      ]
    },
    {
      "cell_type": "code",
      "metadata": {
        "id": "ne-8vbg1ZDod"
      },
      "source": [
        "df.loc[:,df.columns[df.columns.str.contains(\"e\")]]"
      ],
      "execution_count": 11,
      "outputs": [
        {
          "output_type": "execute_result",
          "data": {
            "text/plain": [
              "        sex smoker    time  size\n",
              "0    Female     No  Dinner     2\n",
              "1      Male     No  Dinner     3\n",
              "2      Male     No  Dinner     3\n",
              "3      Male     No  Dinner     2\n",
              "4    Female     No  Dinner     4\n",
              "..      ...    ...     ...   ...\n",
              "239    Male     No  Dinner     3\n",
              "240  Female    Yes  Dinner     2\n",
              "241    Male    Yes  Dinner     2\n",
              "242    Male     No  Dinner     2\n",
              "243  Female     No  Dinner     2\n",
              "\n",
              "[244 rows x 4 columns]"
            ],
            "text/html": "<div>\n<style scoped>\n    .dataframe tbody tr th:only-of-type {\n        vertical-align: middle;\n    }\n\n    .dataframe tbody tr th {\n        vertical-align: top;\n    }\n\n    .dataframe thead th {\n        text-align: right;\n    }\n</style>\n<table border=\"1\" class=\"dataframe\">\n  <thead>\n    <tr style=\"text-align: right;\">\n      <th></th>\n      <th>sex</th>\n      <th>smoker</th>\n      <th>time</th>\n      <th>size</th>\n    </tr>\n  </thead>\n  <tbody>\n    <tr>\n      <th>0</th>\n      <td>Female</td>\n      <td>No</td>\n      <td>Dinner</td>\n      <td>2</td>\n    </tr>\n    <tr>\n      <th>1</th>\n      <td>Male</td>\n      <td>No</td>\n      <td>Dinner</td>\n      <td>3</td>\n    </tr>\n    <tr>\n      <th>2</th>\n      <td>Male</td>\n      <td>No</td>\n      <td>Dinner</td>\n      <td>3</td>\n    </tr>\n    <tr>\n      <th>3</th>\n      <td>Male</td>\n      <td>No</td>\n      <td>Dinner</td>\n      <td>2</td>\n    </tr>\n    <tr>\n      <th>4</th>\n      <td>Female</td>\n      <td>No</td>\n      <td>Dinner</td>\n      <td>4</td>\n    </tr>\n    <tr>\n      <th>...</th>\n      <td>...</td>\n      <td>...</td>\n      <td>...</td>\n      <td>...</td>\n    </tr>\n    <tr>\n      <th>239</th>\n      <td>Male</td>\n      <td>No</td>\n      <td>Dinner</td>\n      <td>3</td>\n    </tr>\n    <tr>\n      <th>240</th>\n      <td>Female</td>\n      <td>Yes</td>\n      <td>Dinner</td>\n      <td>2</td>\n    </tr>\n    <tr>\n      <th>241</th>\n      <td>Male</td>\n      <td>Yes</td>\n      <td>Dinner</td>\n      <td>2</td>\n    </tr>\n    <tr>\n      <th>242</th>\n      <td>Male</td>\n      <td>No</td>\n      <td>Dinner</td>\n      <td>2</td>\n    </tr>\n    <tr>\n      <th>243</th>\n      <td>Female</td>\n      <td>No</td>\n      <td>Dinner</td>\n      <td>2</td>\n    </tr>\n  </tbody>\n</table>\n<p>244 rows × 4 columns</p>\n</div>"
          },
          "metadata": {},
          "execution_count": 11
        }
      ]
    },
    {
      "cell_type": "markdown",
      "metadata": {
        "id": "5sxrq-bXZy1v"
      },
      "source": [
        "\n",
        "🏷️ 12.  Filtrar el dataframe para que retorne las observaciones que tengan una propina mayor e igual a 3 dolares"
      ]
    },
    {
      "cell_type": "code",
      "metadata": {
        "id": "E6sC3f15ZzTK"
      },
      "source": [
        "df.loc[df[\"tip\"]>=3 , :]"
      ],
      "execution_count": 12,
      "outputs": [
        {
          "output_type": "execute_result",
          "data": {
            "text/plain": [
              "     total_bill   tip     sex smoker   day    time  size\n",
              "2         21.01  3.50    Male     No   Sun  Dinner     3\n",
              "3         23.68  3.31    Male     No   Sun  Dinner     2\n",
              "4         24.59  3.61  Female     No   Sun  Dinner     4\n",
              "5         25.29  4.71    Male     No   Sun  Dinner     4\n",
              "7         26.88  3.12    Male     No   Sun  Dinner     4\n",
              "..          ...   ...     ...    ...   ...     ...   ...\n",
              "232       11.61  3.39    Male     No   Sat  Dinner     2\n",
              "234       15.53  3.00    Male    Yes   Sat  Dinner     2\n",
              "238       35.83  4.67  Female     No   Sat  Dinner     3\n",
              "239       29.03  5.92    Male     No   Sat  Dinner     3\n",
              "243       18.78  3.00  Female     No  Thur  Dinner     2\n",
              "\n",
              "[121 rows x 7 columns]"
            ],
            "text/html": "<div>\n<style scoped>\n    .dataframe tbody tr th:only-of-type {\n        vertical-align: middle;\n    }\n\n    .dataframe tbody tr th {\n        vertical-align: top;\n    }\n\n    .dataframe thead th {\n        text-align: right;\n    }\n</style>\n<table border=\"1\" class=\"dataframe\">\n  <thead>\n    <tr style=\"text-align: right;\">\n      <th></th>\n      <th>total_bill</th>\n      <th>tip</th>\n      <th>sex</th>\n      <th>smoker</th>\n      <th>day</th>\n      <th>time</th>\n      <th>size</th>\n    </tr>\n  </thead>\n  <tbody>\n    <tr>\n      <th>2</th>\n      <td>21.01</td>\n      <td>3.50</td>\n      <td>Male</td>\n      <td>No</td>\n      <td>Sun</td>\n      <td>Dinner</td>\n      <td>3</td>\n    </tr>\n    <tr>\n      <th>3</th>\n      <td>23.68</td>\n      <td>3.31</td>\n      <td>Male</td>\n      <td>No</td>\n      <td>Sun</td>\n      <td>Dinner</td>\n      <td>2</td>\n    </tr>\n    <tr>\n      <th>4</th>\n      <td>24.59</td>\n      <td>3.61</td>\n      <td>Female</td>\n      <td>No</td>\n      <td>Sun</td>\n      <td>Dinner</td>\n      <td>4</td>\n    </tr>\n    <tr>\n      <th>5</th>\n      <td>25.29</td>\n      <td>4.71</td>\n      <td>Male</td>\n      <td>No</td>\n      <td>Sun</td>\n      <td>Dinner</td>\n      <td>4</td>\n    </tr>\n    <tr>\n      <th>7</th>\n      <td>26.88</td>\n      <td>3.12</td>\n      <td>Male</td>\n      <td>No</td>\n      <td>Sun</td>\n      <td>Dinner</td>\n      <td>4</td>\n    </tr>\n    <tr>\n      <th>...</th>\n      <td>...</td>\n      <td>...</td>\n      <td>...</td>\n      <td>...</td>\n      <td>...</td>\n      <td>...</td>\n      <td>...</td>\n    </tr>\n    <tr>\n      <th>232</th>\n      <td>11.61</td>\n      <td>3.39</td>\n      <td>Male</td>\n      <td>No</td>\n      <td>Sat</td>\n      <td>Dinner</td>\n      <td>2</td>\n    </tr>\n    <tr>\n      <th>234</th>\n      <td>15.53</td>\n      <td>3.00</td>\n      <td>Male</td>\n      <td>Yes</td>\n      <td>Sat</td>\n      <td>Dinner</td>\n      <td>2</td>\n    </tr>\n    <tr>\n      <th>238</th>\n      <td>35.83</td>\n      <td>4.67</td>\n      <td>Female</td>\n      <td>No</td>\n      <td>Sat</td>\n      <td>Dinner</td>\n      <td>3</td>\n    </tr>\n    <tr>\n      <th>239</th>\n      <td>29.03</td>\n      <td>5.92</td>\n      <td>Male</td>\n      <td>No</td>\n      <td>Sat</td>\n      <td>Dinner</td>\n      <td>3</td>\n    </tr>\n    <tr>\n      <th>243</th>\n      <td>18.78</td>\n      <td>3.00</td>\n      <td>Female</td>\n      <td>No</td>\n      <td>Thur</td>\n      <td>Dinner</td>\n      <td>2</td>\n    </tr>\n  </tbody>\n</table>\n<p>121 rows × 7 columns</p>\n</div>"
          },
          "metadata": {},
          "execution_count": 12
        }
      ]
    },
    {
      "cell_type": "markdown",
      "metadata": {
        "id": "YuNcnV69aARL"
      },
      "source": [
        "\n",
        "🏷️ 13.  Filtrar el dataframe para que retorne las observaciones que tengan una propinas que estan entre 3 y 4 dolares"
      ]
    },
    {
      "cell_type": "code",
      "metadata": {
        "id": "vQByyVOlaBBO"
      },
      "source": [
        "df.loc[df[\"tip\"].between(3,4), : ]"
      ],
      "execution_count": 13,
      "outputs": [
        {
          "output_type": "execute_result",
          "data": {
            "text/plain": [
              "     total_bill   tip     sex smoker   day    time  size\n",
              "2         21.01  3.50    Male     No   Sun  Dinner     3\n",
              "3         23.68  3.31    Male     No   Sun  Dinner     2\n",
              "4         24.59  3.61  Female     No   Sun  Dinner     4\n",
              "7         26.88  3.12    Male     No   Sun  Dinner     4\n",
              "9         14.78  3.23    Male     No   Sun  Dinner     2\n",
              "..          ...   ...     ...    ...   ...     ...   ...\n",
              "227       20.45  3.00    Male     No   Sat  Dinner     4\n",
              "231       15.69  3.00    Male    Yes   Sat  Dinner     3\n",
              "232       11.61  3.39    Male     No   Sat  Dinner     2\n",
              "234       15.53  3.00    Male    Yes   Sat  Dinner     2\n",
              "243       18.78  3.00  Female     No  Thur  Dinner     2\n",
              "\n",
              "[80 rows x 7 columns]"
            ],
            "text/html": "<div>\n<style scoped>\n    .dataframe tbody tr th:only-of-type {\n        vertical-align: middle;\n    }\n\n    .dataframe tbody tr th {\n        vertical-align: top;\n    }\n\n    .dataframe thead th {\n        text-align: right;\n    }\n</style>\n<table border=\"1\" class=\"dataframe\">\n  <thead>\n    <tr style=\"text-align: right;\">\n      <th></th>\n      <th>total_bill</th>\n      <th>tip</th>\n      <th>sex</th>\n      <th>smoker</th>\n      <th>day</th>\n      <th>time</th>\n      <th>size</th>\n    </tr>\n  </thead>\n  <tbody>\n    <tr>\n      <th>2</th>\n      <td>21.01</td>\n      <td>3.50</td>\n      <td>Male</td>\n      <td>No</td>\n      <td>Sun</td>\n      <td>Dinner</td>\n      <td>3</td>\n    </tr>\n    <tr>\n      <th>3</th>\n      <td>23.68</td>\n      <td>3.31</td>\n      <td>Male</td>\n      <td>No</td>\n      <td>Sun</td>\n      <td>Dinner</td>\n      <td>2</td>\n    </tr>\n    <tr>\n      <th>4</th>\n      <td>24.59</td>\n      <td>3.61</td>\n      <td>Female</td>\n      <td>No</td>\n      <td>Sun</td>\n      <td>Dinner</td>\n      <td>4</td>\n    </tr>\n    <tr>\n      <th>7</th>\n      <td>26.88</td>\n      <td>3.12</td>\n      <td>Male</td>\n      <td>No</td>\n      <td>Sun</td>\n      <td>Dinner</td>\n      <td>4</td>\n    </tr>\n    <tr>\n      <th>9</th>\n      <td>14.78</td>\n      <td>3.23</td>\n      <td>Male</td>\n      <td>No</td>\n      <td>Sun</td>\n      <td>Dinner</td>\n      <td>2</td>\n    </tr>\n    <tr>\n      <th>...</th>\n      <td>...</td>\n      <td>...</td>\n      <td>...</td>\n      <td>...</td>\n      <td>...</td>\n      <td>...</td>\n      <td>...</td>\n    </tr>\n    <tr>\n      <th>227</th>\n      <td>20.45</td>\n      <td>3.00</td>\n      <td>Male</td>\n      <td>No</td>\n      <td>Sat</td>\n      <td>Dinner</td>\n      <td>4</td>\n    </tr>\n    <tr>\n      <th>231</th>\n      <td>15.69</td>\n      <td>3.00</td>\n      <td>Male</td>\n      <td>Yes</td>\n      <td>Sat</td>\n      <td>Dinner</td>\n      <td>3</td>\n    </tr>\n    <tr>\n      <th>232</th>\n      <td>11.61</td>\n      <td>3.39</td>\n      <td>Male</td>\n      <td>No</td>\n      <td>Sat</td>\n      <td>Dinner</td>\n      <td>2</td>\n    </tr>\n    <tr>\n      <th>234</th>\n      <td>15.53</td>\n      <td>3.00</td>\n      <td>Male</td>\n      <td>Yes</td>\n      <td>Sat</td>\n      <td>Dinner</td>\n      <td>2</td>\n    </tr>\n    <tr>\n      <th>243</th>\n      <td>18.78</td>\n      <td>3.00</td>\n      <td>Female</td>\n      <td>No</td>\n      <td>Thur</td>\n      <td>Dinner</td>\n      <td>2</td>\n    </tr>\n  </tbody>\n</table>\n<p>80 rows × 7 columns</p>\n</div>"
          },
          "metadata": {},
          "execution_count": 13
        }
      ]
    },
    {
      "cell_type": "markdown",
      "metadata": {
        "id": "8D9jy9wJaI_R"
      },
      "source": [
        "\n",
        "🏷️ 14.  Filtrar el dataframe para que retorne las observaciones que tengan las mesas que tienen 2 o 4 comensales y que tenga una propina entre 3 y 4 dolares"
      ]
    },
    {
      "cell_type": "code",
      "metadata": {
        "id": "iOh9vU2EaLrN"
      },
      "source": [
        "df.loc[ (df[\"tip\"].between(3,4)) & (df[\"size\"].isin([2,4])) ,  ]"
      ],
      "execution_count": 14,
      "outputs": [
        {
          "output_type": "execute_result",
          "data": {
            "text/plain": [
              "     total_bill   tip     sex smoker   day    time  size\n",
              "3         23.68  3.31    Male     No   Sun  Dinner     2\n",
              "4         24.59  3.61  Female     No   Sun  Dinner     4\n",
              "7         26.88  3.12    Male     No   Sun  Dinner     4\n",
              "9         14.78  3.23    Male     No   Sun  Dinner     2\n",
              "13        18.43  3.00    Male     No   Sun  Dinner     4\n",
              "14        14.83  3.02  Female     No   Sun  Dinner     2\n",
              "15        21.58  3.92    Male     No   Sun  Dinner     2\n",
              "24        19.82  3.18    Male     No   Sat  Dinner     2\n",
              "29        19.65  3.00  Female     No   Sat  Dinner     2\n",
              "32        15.06  3.00  Female     No   Sat  Dinner     2\n",
              "34        17.78  3.27    Male     No   Sat  Dinner     2\n",
              "42        13.94  3.06    Male     No   Sun  Dinner     2\n",
              "45        18.29  3.00    Male     No   Sun  Dinner     2\n",
              "49        18.04  3.00    Male     No   Sun  Dinner     2\n",
              "55        19.49  3.51    Male     No   Sun  Dinner     2\n",
              "56        38.01  3.00    Male    Yes   Sat  Dinner     4\n",
              "60        20.29  3.21    Male    Yes   Sat  Dinner     2\n",
              "63        18.29  3.76    Male    Yes   Sat  Dinner     4\n",
              "72        26.86  3.14  Female    Yes   Sat  Dinner     2\n",
              "76        17.92  3.08    Male    Yes   Sat  Dinner     2\n",
              "77        27.20  4.00    Male     No  Thur   Lunch     4\n",
              "78        22.76  3.00    Male     No  Thur   Lunch     2\n",
              "80        19.44  3.00    Male    Yes  Thur   Lunch     2\n",
              "81        16.66  3.40    Male     No  Thur   Lunch     2\n",
              "87        18.28  4.00    Male     No  Thur   Lunch     2\n",
              "89        21.16  3.00    Male     No  Thur   Lunch     2\n",
              "90        28.97  3.00    Male    Yes   Fri  Dinner     2\n",
              "91        22.49  3.50    Male     No   Fri  Dinner     2\n",
              "94        22.75  3.25  Female     No   Fri  Dinner     2\n",
              "96        27.28  4.00    Male    Yes   Fri  Dinner     2\n",
              "98        21.01  3.00    Male    Yes   Fri  Dinner     2\n",
              "101       15.38  3.00  Female    Yes   Fri  Dinner     2\n",
              "103       22.42  3.48  Female    Yes   Sat  Dinner     2\n",
              "108       18.24  3.76    Male     No   Sat  Dinner     2\n",
              "109       14.31  4.00  Female    Yes   Sat  Dinner     2\n",
              "110       14.00  3.00    Male     No   Sat  Dinner     2\n",
              "115       17.31  3.50  Female     No   Sun  Dinner     2\n",
              "134       18.26  3.25  Female     No  Thur   Lunch     2\n",
              "140       17.47  3.50  Female     No  Thur   Lunch     2\n",
              "157       25.00  3.75  Female     No   Sun  Dinner     4\n",
              "160       21.50  3.50    Male     No   Sun  Dinner     4\n",
              "164       17.51  3.00  Female    Yes   Sun  Dinner     2\n",
              "171       15.81  3.16    Male    Yes   Sat  Dinner     2\n",
              "173       31.85  3.18    Male    Yes   Sun  Dinner     2\n",
              "174       16.82  4.00    Male    Yes   Sun  Dinner     2\n",
              "175       32.90  3.11    Male    Yes   Sun  Dinner     2\n",
              "178        9.60  4.00  Female    Yes   Sun  Dinner     2\n",
              "179       34.63  3.55    Male    Yes   Sun  Dinner     2\n",
              "180       34.65  3.68    Male    Yes   Sun  Dinner     4\n",
              "184       40.55  3.00    Male    Yes   Sun  Dinner     2\n",
              "194       16.58  4.00    Male    Yes  Thur   Lunch     2\n",
              "204       20.53  4.00    Male    Yes  Thur   Lunch     4\n",
              "207       38.73  3.00    Male    Yes   Sat  Dinner     4\n",
              "219       30.14  3.09  Female    Yes   Sat  Dinner     4\n",
              "221       13.42  3.48  Female    Yes   Fri   Lunch     2\n",
              "227       20.45  3.00    Male     No   Sat  Dinner     4\n",
              "232       11.61  3.39    Male     No   Sat  Dinner     2\n",
              "234       15.53  3.00    Male    Yes   Sat  Dinner     2\n",
              "243       18.78  3.00  Female     No  Thur  Dinner     2"
            ],
            "text/html": "<div>\n<style scoped>\n    .dataframe tbody tr th:only-of-type {\n        vertical-align: middle;\n    }\n\n    .dataframe tbody tr th {\n        vertical-align: top;\n    }\n\n    .dataframe thead th {\n        text-align: right;\n    }\n</style>\n<table border=\"1\" class=\"dataframe\">\n  <thead>\n    <tr style=\"text-align: right;\">\n      <th></th>\n      <th>total_bill</th>\n      <th>tip</th>\n      <th>sex</th>\n      <th>smoker</th>\n      <th>day</th>\n      <th>time</th>\n      <th>size</th>\n    </tr>\n  </thead>\n  <tbody>\n    <tr>\n      <th>3</th>\n      <td>23.68</td>\n      <td>3.31</td>\n      <td>Male</td>\n      <td>No</td>\n      <td>Sun</td>\n      <td>Dinner</td>\n      <td>2</td>\n    </tr>\n    <tr>\n      <th>4</th>\n      <td>24.59</td>\n      <td>3.61</td>\n      <td>Female</td>\n      <td>No</td>\n      <td>Sun</td>\n      <td>Dinner</td>\n      <td>4</td>\n    </tr>\n    <tr>\n      <th>7</th>\n      <td>26.88</td>\n      <td>3.12</td>\n      <td>Male</td>\n      <td>No</td>\n      <td>Sun</td>\n      <td>Dinner</td>\n      <td>4</td>\n    </tr>\n    <tr>\n      <th>9</th>\n      <td>14.78</td>\n      <td>3.23</td>\n      <td>Male</td>\n      <td>No</td>\n      <td>Sun</td>\n      <td>Dinner</td>\n      <td>2</td>\n    </tr>\n    <tr>\n      <th>13</th>\n      <td>18.43</td>\n      <td>3.00</td>\n      <td>Male</td>\n      <td>No</td>\n      <td>Sun</td>\n      <td>Dinner</td>\n      <td>4</td>\n    </tr>\n    <tr>\n      <th>14</th>\n      <td>14.83</td>\n      <td>3.02</td>\n      <td>Female</td>\n      <td>No</td>\n      <td>Sun</td>\n      <td>Dinner</td>\n      <td>2</td>\n    </tr>\n    <tr>\n      <th>15</th>\n      <td>21.58</td>\n      <td>3.92</td>\n      <td>Male</td>\n      <td>No</td>\n      <td>Sun</td>\n      <td>Dinner</td>\n      <td>2</td>\n    </tr>\n    <tr>\n      <th>24</th>\n      <td>19.82</td>\n      <td>3.18</td>\n      <td>Male</td>\n      <td>No</td>\n      <td>Sat</td>\n      <td>Dinner</td>\n      <td>2</td>\n    </tr>\n    <tr>\n      <th>29</th>\n      <td>19.65</td>\n      <td>3.00</td>\n      <td>Female</td>\n      <td>No</td>\n      <td>Sat</td>\n      <td>Dinner</td>\n      <td>2</td>\n    </tr>\n    <tr>\n      <th>32</th>\n      <td>15.06</td>\n      <td>3.00</td>\n      <td>Female</td>\n      <td>No</td>\n      <td>Sat</td>\n      <td>Dinner</td>\n      <td>2</td>\n    </tr>\n    <tr>\n      <th>34</th>\n      <td>17.78</td>\n      <td>3.27</td>\n      <td>Male</td>\n      <td>No</td>\n      <td>Sat</td>\n      <td>Dinner</td>\n      <td>2</td>\n    </tr>\n    <tr>\n      <th>42</th>\n      <td>13.94</td>\n      <td>3.06</td>\n      <td>Male</td>\n      <td>No</td>\n      <td>Sun</td>\n      <td>Dinner</td>\n      <td>2</td>\n    </tr>\n    <tr>\n      <th>45</th>\n      <td>18.29</td>\n      <td>3.00</td>\n      <td>Male</td>\n      <td>No</td>\n      <td>Sun</td>\n      <td>Dinner</td>\n      <td>2</td>\n    </tr>\n    <tr>\n      <th>49</th>\n      <td>18.04</td>\n      <td>3.00</td>\n      <td>Male</td>\n      <td>No</td>\n      <td>Sun</td>\n      <td>Dinner</td>\n      <td>2</td>\n    </tr>\n    <tr>\n      <th>55</th>\n      <td>19.49</td>\n      <td>3.51</td>\n      <td>Male</td>\n      <td>No</td>\n      <td>Sun</td>\n      <td>Dinner</td>\n      <td>2</td>\n    </tr>\n    <tr>\n      <th>56</th>\n      <td>38.01</td>\n      <td>3.00</td>\n      <td>Male</td>\n      <td>Yes</td>\n      <td>Sat</td>\n      <td>Dinner</td>\n      <td>4</td>\n    </tr>\n    <tr>\n      <th>60</th>\n      <td>20.29</td>\n      <td>3.21</td>\n      <td>Male</td>\n      <td>Yes</td>\n      <td>Sat</td>\n      <td>Dinner</td>\n      <td>2</td>\n    </tr>\n    <tr>\n      <th>63</th>\n      <td>18.29</td>\n      <td>3.76</td>\n      <td>Male</td>\n      <td>Yes</td>\n      <td>Sat</td>\n      <td>Dinner</td>\n      <td>4</td>\n    </tr>\n    <tr>\n      <th>72</th>\n      <td>26.86</td>\n      <td>3.14</td>\n      <td>Female</td>\n      <td>Yes</td>\n      <td>Sat</td>\n      <td>Dinner</td>\n      <td>2</td>\n    </tr>\n    <tr>\n      <th>76</th>\n      <td>17.92</td>\n      <td>3.08</td>\n      <td>Male</td>\n      <td>Yes</td>\n      <td>Sat</td>\n      <td>Dinner</td>\n      <td>2</td>\n    </tr>\n    <tr>\n      <th>77</th>\n      <td>27.20</td>\n      <td>4.00</td>\n      <td>Male</td>\n      <td>No</td>\n      <td>Thur</td>\n      <td>Lunch</td>\n      <td>4</td>\n    </tr>\n    <tr>\n      <th>78</th>\n      <td>22.76</td>\n      <td>3.00</td>\n      <td>Male</td>\n      <td>No</td>\n      <td>Thur</td>\n      <td>Lunch</td>\n      <td>2</td>\n    </tr>\n    <tr>\n      <th>80</th>\n      <td>19.44</td>\n      <td>3.00</td>\n      <td>Male</td>\n      <td>Yes</td>\n      <td>Thur</td>\n      <td>Lunch</td>\n      <td>2</td>\n    </tr>\n    <tr>\n      <th>81</th>\n      <td>16.66</td>\n      <td>3.40</td>\n      <td>Male</td>\n      <td>No</td>\n      <td>Thur</td>\n      <td>Lunch</td>\n      <td>2</td>\n    </tr>\n    <tr>\n      <th>87</th>\n      <td>18.28</td>\n      <td>4.00</td>\n      <td>Male</td>\n      <td>No</td>\n      <td>Thur</td>\n      <td>Lunch</td>\n      <td>2</td>\n    </tr>\n    <tr>\n      <th>89</th>\n      <td>21.16</td>\n      <td>3.00</td>\n      <td>Male</td>\n      <td>No</td>\n      <td>Thur</td>\n      <td>Lunch</td>\n      <td>2</td>\n    </tr>\n    <tr>\n      <th>90</th>\n      <td>28.97</td>\n      <td>3.00</td>\n      <td>Male</td>\n      <td>Yes</td>\n      <td>Fri</td>\n      <td>Dinner</td>\n      <td>2</td>\n    </tr>\n    <tr>\n      <th>91</th>\n      <td>22.49</td>\n      <td>3.50</td>\n      <td>Male</td>\n      <td>No</td>\n      <td>Fri</td>\n      <td>Dinner</td>\n      <td>2</td>\n    </tr>\n    <tr>\n      <th>94</th>\n      <td>22.75</td>\n      <td>3.25</td>\n      <td>Female</td>\n      <td>No</td>\n      <td>Fri</td>\n      <td>Dinner</td>\n      <td>2</td>\n    </tr>\n    <tr>\n      <th>96</th>\n      <td>27.28</td>\n      <td>4.00</td>\n      <td>Male</td>\n      <td>Yes</td>\n      <td>Fri</td>\n      <td>Dinner</td>\n      <td>2</td>\n    </tr>\n    <tr>\n      <th>98</th>\n      <td>21.01</td>\n      <td>3.00</td>\n      <td>Male</td>\n      <td>Yes</td>\n      <td>Fri</td>\n      <td>Dinner</td>\n      <td>2</td>\n    </tr>\n    <tr>\n      <th>101</th>\n      <td>15.38</td>\n      <td>3.00</td>\n      <td>Female</td>\n      <td>Yes</td>\n      <td>Fri</td>\n      <td>Dinner</td>\n      <td>2</td>\n    </tr>\n    <tr>\n      <th>103</th>\n      <td>22.42</td>\n      <td>3.48</td>\n      <td>Female</td>\n      <td>Yes</td>\n      <td>Sat</td>\n      <td>Dinner</td>\n      <td>2</td>\n    </tr>\n    <tr>\n      <th>108</th>\n      <td>18.24</td>\n      <td>3.76</td>\n      <td>Male</td>\n      <td>No</td>\n      <td>Sat</td>\n      <td>Dinner</td>\n      <td>2</td>\n    </tr>\n    <tr>\n      <th>109</th>\n      <td>14.31</td>\n      <td>4.00</td>\n      <td>Female</td>\n      <td>Yes</td>\n      <td>Sat</td>\n      <td>Dinner</td>\n      <td>2</td>\n    </tr>\n    <tr>\n      <th>110</th>\n      <td>14.00</td>\n      <td>3.00</td>\n      <td>Male</td>\n      <td>No</td>\n      <td>Sat</td>\n      <td>Dinner</td>\n      <td>2</td>\n    </tr>\n    <tr>\n      <th>115</th>\n      <td>17.31</td>\n      <td>3.50</td>\n      <td>Female</td>\n      <td>No</td>\n      <td>Sun</td>\n      <td>Dinner</td>\n      <td>2</td>\n    </tr>\n    <tr>\n      <th>134</th>\n      <td>18.26</td>\n      <td>3.25</td>\n      <td>Female</td>\n      <td>No</td>\n      <td>Thur</td>\n      <td>Lunch</td>\n      <td>2</td>\n    </tr>\n    <tr>\n      <th>140</th>\n      <td>17.47</td>\n      <td>3.50</td>\n      <td>Female</td>\n      <td>No</td>\n      <td>Thur</td>\n      <td>Lunch</td>\n      <td>2</td>\n    </tr>\n    <tr>\n      <th>157</th>\n      <td>25.00</td>\n      <td>3.75</td>\n      <td>Female</td>\n      <td>No</td>\n      <td>Sun</td>\n      <td>Dinner</td>\n      <td>4</td>\n    </tr>\n    <tr>\n      <th>160</th>\n      <td>21.50</td>\n      <td>3.50</td>\n      <td>Male</td>\n      <td>No</td>\n      <td>Sun</td>\n      <td>Dinner</td>\n      <td>4</td>\n    </tr>\n    <tr>\n      <th>164</th>\n      <td>17.51</td>\n      <td>3.00</td>\n      <td>Female</td>\n      <td>Yes</td>\n      <td>Sun</td>\n      <td>Dinner</td>\n      <td>2</td>\n    </tr>\n    <tr>\n      <th>171</th>\n      <td>15.81</td>\n      <td>3.16</td>\n      <td>Male</td>\n      <td>Yes</td>\n      <td>Sat</td>\n      <td>Dinner</td>\n      <td>2</td>\n    </tr>\n    <tr>\n      <th>173</th>\n      <td>31.85</td>\n      <td>3.18</td>\n      <td>Male</td>\n      <td>Yes</td>\n      <td>Sun</td>\n      <td>Dinner</td>\n      <td>2</td>\n    </tr>\n    <tr>\n      <th>174</th>\n      <td>16.82</td>\n      <td>4.00</td>\n      <td>Male</td>\n      <td>Yes</td>\n      <td>Sun</td>\n      <td>Dinner</td>\n      <td>2</td>\n    </tr>\n    <tr>\n      <th>175</th>\n      <td>32.90</td>\n      <td>3.11</td>\n      <td>Male</td>\n      <td>Yes</td>\n      <td>Sun</td>\n      <td>Dinner</td>\n      <td>2</td>\n    </tr>\n    <tr>\n      <th>178</th>\n      <td>9.60</td>\n      <td>4.00</td>\n      <td>Female</td>\n      <td>Yes</td>\n      <td>Sun</td>\n      <td>Dinner</td>\n      <td>2</td>\n    </tr>\n    <tr>\n      <th>179</th>\n      <td>34.63</td>\n      <td>3.55</td>\n      <td>Male</td>\n      <td>Yes</td>\n      <td>Sun</td>\n      <td>Dinner</td>\n      <td>2</td>\n    </tr>\n    <tr>\n      <th>180</th>\n      <td>34.65</td>\n      <td>3.68</td>\n      <td>Male</td>\n      <td>Yes</td>\n      <td>Sun</td>\n      <td>Dinner</td>\n      <td>4</td>\n    </tr>\n    <tr>\n      <th>184</th>\n      <td>40.55</td>\n      <td>3.00</td>\n      <td>Male</td>\n      <td>Yes</td>\n      <td>Sun</td>\n      <td>Dinner</td>\n      <td>2</td>\n    </tr>\n    <tr>\n      <th>194</th>\n      <td>16.58</td>\n      <td>4.00</td>\n      <td>Male</td>\n      <td>Yes</td>\n      <td>Thur</td>\n      <td>Lunch</td>\n      <td>2</td>\n    </tr>\n    <tr>\n      <th>204</th>\n      <td>20.53</td>\n      <td>4.00</td>\n      <td>Male</td>\n      <td>Yes</td>\n      <td>Thur</td>\n      <td>Lunch</td>\n      <td>4</td>\n    </tr>\n    <tr>\n      <th>207</th>\n      <td>38.73</td>\n      <td>3.00</td>\n      <td>Male</td>\n      <td>Yes</td>\n      <td>Sat</td>\n      <td>Dinner</td>\n      <td>4</td>\n    </tr>\n    <tr>\n      <th>219</th>\n      <td>30.14</td>\n      <td>3.09</td>\n      <td>Female</td>\n      <td>Yes</td>\n      <td>Sat</td>\n      <td>Dinner</td>\n      <td>4</td>\n    </tr>\n    <tr>\n      <th>221</th>\n      <td>13.42</td>\n      <td>3.48</td>\n      <td>Female</td>\n      <td>Yes</td>\n      <td>Fri</td>\n      <td>Lunch</td>\n      <td>2</td>\n    </tr>\n    <tr>\n      <th>227</th>\n      <td>20.45</td>\n      <td>3.00</td>\n      <td>Male</td>\n      <td>No</td>\n      <td>Sat</td>\n      <td>Dinner</td>\n      <td>4</td>\n    </tr>\n    <tr>\n      <th>232</th>\n      <td>11.61</td>\n      <td>3.39</td>\n      <td>Male</td>\n      <td>No</td>\n      <td>Sat</td>\n      <td>Dinner</td>\n      <td>2</td>\n    </tr>\n    <tr>\n      <th>234</th>\n      <td>15.53</td>\n      <td>3.00</td>\n      <td>Male</td>\n      <td>Yes</td>\n      <td>Sat</td>\n      <td>Dinner</td>\n      <td>2</td>\n    </tr>\n    <tr>\n      <th>243</th>\n      <td>18.78</td>\n      <td>3.00</td>\n      <td>Female</td>\n      <td>No</td>\n      <td>Thur</td>\n      <td>Dinner</td>\n      <td>2</td>\n    </tr>\n  </tbody>\n</table>\n</div>"
          },
          "metadata": {},
          "execution_count": 14
        }
      ]
    },
    {
      "cell_type": "markdown",
      "metadata": {
        "id": "hBty2rFVa-VZ"
      },
      "source": [
        "\n",
        "🏷️ 15.  Agregar al ejercicio anterior la condición que deben ser solo mujeres."
      ]
    },
    {
      "cell_type": "code",
      "metadata": {
        "id": "U1tYYlvRbAY_"
      },
      "source": [
        "df.loc[ (df[\"tip\"].between(3,4)) & (df[\"size\"].isin([2,4])) & (df[\"sex\"]==\"Female\") ,  ]"
      ],
      "execution_count": 15,
      "outputs": [
        {
          "output_type": "execute_result",
          "data": {
            "text/plain": [
              "     total_bill   tip     sex smoker   day    time  size\n",
              "4         24.59  3.61  Female     No   Sun  Dinner     4\n",
              "14        14.83  3.02  Female     No   Sun  Dinner     2\n",
              "29        19.65  3.00  Female     No   Sat  Dinner     2\n",
              "32        15.06  3.00  Female     No   Sat  Dinner     2\n",
              "72        26.86  3.14  Female    Yes   Sat  Dinner     2\n",
              "94        22.75  3.25  Female     No   Fri  Dinner     2\n",
              "101       15.38  3.00  Female    Yes   Fri  Dinner     2\n",
              "103       22.42  3.48  Female    Yes   Sat  Dinner     2\n",
              "109       14.31  4.00  Female    Yes   Sat  Dinner     2\n",
              "115       17.31  3.50  Female     No   Sun  Dinner     2\n",
              "134       18.26  3.25  Female     No  Thur   Lunch     2\n",
              "140       17.47  3.50  Female     No  Thur   Lunch     2\n",
              "157       25.00  3.75  Female     No   Sun  Dinner     4\n",
              "164       17.51  3.00  Female    Yes   Sun  Dinner     2\n",
              "178        9.60  4.00  Female    Yes   Sun  Dinner     2\n",
              "219       30.14  3.09  Female    Yes   Sat  Dinner     4\n",
              "221       13.42  3.48  Female    Yes   Fri   Lunch     2\n",
              "243       18.78  3.00  Female     No  Thur  Dinner     2"
            ],
            "text/html": "<div>\n<style scoped>\n    .dataframe tbody tr th:only-of-type {\n        vertical-align: middle;\n    }\n\n    .dataframe tbody tr th {\n        vertical-align: top;\n    }\n\n    .dataframe thead th {\n        text-align: right;\n    }\n</style>\n<table border=\"1\" class=\"dataframe\">\n  <thead>\n    <tr style=\"text-align: right;\">\n      <th></th>\n      <th>total_bill</th>\n      <th>tip</th>\n      <th>sex</th>\n      <th>smoker</th>\n      <th>day</th>\n      <th>time</th>\n      <th>size</th>\n    </tr>\n  </thead>\n  <tbody>\n    <tr>\n      <th>4</th>\n      <td>24.59</td>\n      <td>3.61</td>\n      <td>Female</td>\n      <td>No</td>\n      <td>Sun</td>\n      <td>Dinner</td>\n      <td>4</td>\n    </tr>\n    <tr>\n      <th>14</th>\n      <td>14.83</td>\n      <td>3.02</td>\n      <td>Female</td>\n      <td>No</td>\n      <td>Sun</td>\n      <td>Dinner</td>\n      <td>2</td>\n    </tr>\n    <tr>\n      <th>29</th>\n      <td>19.65</td>\n      <td>3.00</td>\n      <td>Female</td>\n      <td>No</td>\n      <td>Sat</td>\n      <td>Dinner</td>\n      <td>2</td>\n    </tr>\n    <tr>\n      <th>32</th>\n      <td>15.06</td>\n      <td>3.00</td>\n      <td>Female</td>\n      <td>No</td>\n      <td>Sat</td>\n      <td>Dinner</td>\n      <td>2</td>\n    </tr>\n    <tr>\n      <th>72</th>\n      <td>26.86</td>\n      <td>3.14</td>\n      <td>Female</td>\n      <td>Yes</td>\n      <td>Sat</td>\n      <td>Dinner</td>\n      <td>2</td>\n    </tr>\n    <tr>\n      <th>94</th>\n      <td>22.75</td>\n      <td>3.25</td>\n      <td>Female</td>\n      <td>No</td>\n      <td>Fri</td>\n      <td>Dinner</td>\n      <td>2</td>\n    </tr>\n    <tr>\n      <th>101</th>\n      <td>15.38</td>\n      <td>3.00</td>\n      <td>Female</td>\n      <td>Yes</td>\n      <td>Fri</td>\n      <td>Dinner</td>\n      <td>2</td>\n    </tr>\n    <tr>\n      <th>103</th>\n      <td>22.42</td>\n      <td>3.48</td>\n      <td>Female</td>\n      <td>Yes</td>\n      <td>Sat</td>\n      <td>Dinner</td>\n      <td>2</td>\n    </tr>\n    <tr>\n      <th>109</th>\n      <td>14.31</td>\n      <td>4.00</td>\n      <td>Female</td>\n      <td>Yes</td>\n      <td>Sat</td>\n      <td>Dinner</td>\n      <td>2</td>\n    </tr>\n    <tr>\n      <th>115</th>\n      <td>17.31</td>\n      <td>3.50</td>\n      <td>Female</td>\n      <td>No</td>\n      <td>Sun</td>\n      <td>Dinner</td>\n      <td>2</td>\n    </tr>\n    <tr>\n      <th>134</th>\n      <td>18.26</td>\n      <td>3.25</td>\n      <td>Female</td>\n      <td>No</td>\n      <td>Thur</td>\n      <td>Lunch</td>\n      <td>2</td>\n    </tr>\n    <tr>\n      <th>140</th>\n      <td>17.47</td>\n      <td>3.50</td>\n      <td>Female</td>\n      <td>No</td>\n      <td>Thur</td>\n      <td>Lunch</td>\n      <td>2</td>\n    </tr>\n    <tr>\n      <th>157</th>\n      <td>25.00</td>\n      <td>3.75</td>\n      <td>Female</td>\n      <td>No</td>\n      <td>Sun</td>\n      <td>Dinner</td>\n      <td>4</td>\n    </tr>\n    <tr>\n      <th>164</th>\n      <td>17.51</td>\n      <td>3.00</td>\n      <td>Female</td>\n      <td>Yes</td>\n      <td>Sun</td>\n      <td>Dinner</td>\n      <td>2</td>\n    </tr>\n    <tr>\n      <th>178</th>\n      <td>9.60</td>\n      <td>4.00</td>\n      <td>Female</td>\n      <td>Yes</td>\n      <td>Sun</td>\n      <td>Dinner</td>\n      <td>2</td>\n    </tr>\n    <tr>\n      <th>219</th>\n      <td>30.14</td>\n      <td>3.09</td>\n      <td>Female</td>\n      <td>Yes</td>\n      <td>Sat</td>\n      <td>Dinner</td>\n      <td>4</td>\n    </tr>\n    <tr>\n      <th>221</th>\n      <td>13.42</td>\n      <td>3.48</td>\n      <td>Female</td>\n      <td>Yes</td>\n      <td>Fri</td>\n      <td>Lunch</td>\n      <td>2</td>\n    </tr>\n    <tr>\n      <th>243</th>\n      <td>18.78</td>\n      <td>3.00</td>\n      <td>Female</td>\n      <td>No</td>\n      <td>Thur</td>\n      <td>Dinner</td>\n      <td>2</td>\n    </tr>\n  </tbody>\n</table>\n</div>"
          },
          "metadata": {},
          "execution_count": 15
        }
      ]
    },
    {
      "cell_type": "markdown",
      "metadata": {
        "id": "Aa6O_iRDbk8q"
      },
      "source": [
        "\n",
        "🏷️ 16.  Crear un dataframe que contenga los registros que corresponden a:\n",
        "* cenas\n",
        "* fines de semana ó es una mesa de no fumadores"
      ]
    },
    {
      "cell_type": "code",
      "metadata": {
        "id": "J06vS4jOb8ON"
      },
      "source": [
        "df_2 = df.loc[(df['time']=='Dinner') & (df['day'].isin(['Sat', 'Sun'])) & (df[\"smoker\"]==\"No\"), :]"
      ],
      "execution_count": 16,
      "outputs": []
    },
    {
      "cell_type": "markdown",
      "metadata": {
        "id": "UkuIY8X1cMK-"
      },
      "source": [
        "\n",
        "🏷️ 17.  Ordernar en forma descendente las propinas obtenidas del punto anterior"
      ]
    },
    {
      "cell_type": "code",
      "metadata": {
        "id": "UsYvOJ-icNIu"
      },
      "source": [
        "df_2.sort_values('tip', ascending = False)"
      ],
      "execution_count": 17,
      "outputs": [
        {
          "output_type": "execute_result",
          "data": {
            "text/plain": [
              "     total_bill   tip     sex smoker  day    time  size\n",
              "212       48.33  9.00    Male     No  Sat  Dinner     4\n",
              "23        39.42  7.58    Male     No  Sat  Dinner     4\n",
              "59        48.27  6.73    Male     No  Sat  Dinner     4\n",
              "47        32.40  6.00    Male     No  Sun  Dinner     4\n",
              "239       29.03  5.92    Male     No  Sat  Dinner     3\n",
              "..          ...   ...     ...    ...  ...     ...   ...\n",
              "43         9.68  1.32    Male     No  Sun  Dinner     2\n",
              "75        10.51  1.25    Male     No  Sat  Dinner     2\n",
              "235       10.07  1.25    Male     No  Sat  Dinner     2\n",
              "0         16.99  1.01  Female     No  Sun  Dinner     2\n",
              "111        7.25  1.00  Female     No  Sat  Dinner     1\n",
              "\n",
              "[102 rows x 7 columns]"
            ],
            "text/html": "<div>\n<style scoped>\n    .dataframe tbody tr th:only-of-type {\n        vertical-align: middle;\n    }\n\n    .dataframe tbody tr th {\n        vertical-align: top;\n    }\n\n    .dataframe thead th {\n        text-align: right;\n    }\n</style>\n<table border=\"1\" class=\"dataframe\">\n  <thead>\n    <tr style=\"text-align: right;\">\n      <th></th>\n      <th>total_bill</th>\n      <th>tip</th>\n      <th>sex</th>\n      <th>smoker</th>\n      <th>day</th>\n      <th>time</th>\n      <th>size</th>\n    </tr>\n  </thead>\n  <tbody>\n    <tr>\n      <th>212</th>\n      <td>48.33</td>\n      <td>9.00</td>\n      <td>Male</td>\n      <td>No</td>\n      <td>Sat</td>\n      <td>Dinner</td>\n      <td>4</td>\n    </tr>\n    <tr>\n      <th>23</th>\n      <td>39.42</td>\n      <td>7.58</td>\n      <td>Male</td>\n      <td>No</td>\n      <td>Sat</td>\n      <td>Dinner</td>\n      <td>4</td>\n    </tr>\n    <tr>\n      <th>59</th>\n      <td>48.27</td>\n      <td>6.73</td>\n      <td>Male</td>\n      <td>No</td>\n      <td>Sat</td>\n      <td>Dinner</td>\n      <td>4</td>\n    </tr>\n    <tr>\n      <th>47</th>\n      <td>32.40</td>\n      <td>6.00</td>\n      <td>Male</td>\n      <td>No</td>\n      <td>Sun</td>\n      <td>Dinner</td>\n      <td>4</td>\n    </tr>\n    <tr>\n      <th>239</th>\n      <td>29.03</td>\n      <td>5.92</td>\n      <td>Male</td>\n      <td>No</td>\n      <td>Sat</td>\n      <td>Dinner</td>\n      <td>3</td>\n    </tr>\n    <tr>\n      <th>...</th>\n      <td>...</td>\n      <td>...</td>\n      <td>...</td>\n      <td>...</td>\n      <td>...</td>\n      <td>...</td>\n      <td>...</td>\n    </tr>\n    <tr>\n      <th>43</th>\n      <td>9.68</td>\n      <td>1.32</td>\n      <td>Male</td>\n      <td>No</td>\n      <td>Sun</td>\n      <td>Dinner</td>\n      <td>2</td>\n    </tr>\n    <tr>\n      <th>75</th>\n      <td>10.51</td>\n      <td>1.25</td>\n      <td>Male</td>\n      <td>No</td>\n      <td>Sat</td>\n      <td>Dinner</td>\n      <td>2</td>\n    </tr>\n    <tr>\n      <th>235</th>\n      <td>10.07</td>\n      <td>1.25</td>\n      <td>Male</td>\n      <td>No</td>\n      <td>Sat</td>\n      <td>Dinner</td>\n      <td>2</td>\n    </tr>\n    <tr>\n      <th>0</th>\n      <td>16.99</td>\n      <td>1.01</td>\n      <td>Female</td>\n      <td>No</td>\n      <td>Sun</td>\n      <td>Dinner</td>\n      <td>2</td>\n    </tr>\n    <tr>\n      <th>111</th>\n      <td>7.25</td>\n      <td>1.00</td>\n      <td>Female</td>\n      <td>No</td>\n      <td>Sat</td>\n      <td>Dinner</td>\n      <td>1</td>\n    </tr>\n  </tbody>\n</table>\n<p>102 rows × 7 columns</p>\n</div>"
          },
          "metadata": {},
          "execution_count": 17
        }
      ]
    },
    {
      "cell_type": "markdown",
      "metadata": {
        "id": "OopC-4p6cfDH"
      },
      "source": [
        "\n",
        "🏷️ 18.  Ordernar en forma la variables size y tip ascendente del punto anterior"
      ]
    },
    {
      "cell_type": "code",
      "metadata": {
        "id": "CTzJKcj3cb19"
      },
      "source": [
        "df_2.sort_values( ['size','tip'], ascending = (True, False) )"
      ],
      "execution_count": 18,
      "outputs": [
        {
          "output_type": "execute_result",
          "data": {
            "text/plain": [
              "     total_bill   tip     sex smoker  day    time  size\n",
              "111        7.25  1.00  Female     No  Sat  Dinner     1\n",
              "46        22.23  5.00    Male     No  Sun  Dinner     2\n",
              "28        21.70  4.30    Male     No  Sat  Dinner     2\n",
              "20        17.92  4.08    Male     No  Sat  Dinner     2\n",
              "104       20.92  4.08  Female     No  Sat  Dinner     2\n",
              "..          ...   ...     ...    ...  ...     ...   ...\n",
              "154       19.77  2.00    Male     No  Sun  Dinner     4\n",
              "159       16.49  2.00    Male     No  Sun  Dinner     4\n",
              "155       29.85  5.14  Female     No  Sun  Dinner     5\n",
              "185       20.69  5.00    Male     No  Sun  Dinner     5\n",
              "156       48.17  5.00    Male     No  Sun  Dinner     6\n",
              "\n",
              "[102 rows x 7 columns]"
            ],
            "text/html": "<div>\n<style scoped>\n    .dataframe tbody tr th:only-of-type {\n        vertical-align: middle;\n    }\n\n    .dataframe tbody tr th {\n        vertical-align: top;\n    }\n\n    .dataframe thead th {\n        text-align: right;\n    }\n</style>\n<table border=\"1\" class=\"dataframe\">\n  <thead>\n    <tr style=\"text-align: right;\">\n      <th></th>\n      <th>total_bill</th>\n      <th>tip</th>\n      <th>sex</th>\n      <th>smoker</th>\n      <th>day</th>\n      <th>time</th>\n      <th>size</th>\n    </tr>\n  </thead>\n  <tbody>\n    <tr>\n      <th>111</th>\n      <td>7.25</td>\n      <td>1.00</td>\n      <td>Female</td>\n      <td>No</td>\n      <td>Sat</td>\n      <td>Dinner</td>\n      <td>1</td>\n    </tr>\n    <tr>\n      <th>46</th>\n      <td>22.23</td>\n      <td>5.00</td>\n      <td>Male</td>\n      <td>No</td>\n      <td>Sun</td>\n      <td>Dinner</td>\n      <td>2</td>\n    </tr>\n    <tr>\n      <th>28</th>\n      <td>21.70</td>\n      <td>4.30</td>\n      <td>Male</td>\n      <td>No</td>\n      <td>Sat</td>\n      <td>Dinner</td>\n      <td>2</td>\n    </tr>\n    <tr>\n      <th>20</th>\n      <td>17.92</td>\n      <td>4.08</td>\n      <td>Male</td>\n      <td>No</td>\n      <td>Sat</td>\n      <td>Dinner</td>\n      <td>2</td>\n    </tr>\n    <tr>\n      <th>104</th>\n      <td>20.92</td>\n      <td>4.08</td>\n      <td>Female</td>\n      <td>No</td>\n      <td>Sat</td>\n      <td>Dinner</td>\n      <td>2</td>\n    </tr>\n    <tr>\n      <th>...</th>\n      <td>...</td>\n      <td>...</td>\n      <td>...</td>\n      <td>...</td>\n      <td>...</td>\n      <td>...</td>\n      <td>...</td>\n    </tr>\n    <tr>\n      <th>154</th>\n      <td>19.77</td>\n      <td>2.00</td>\n      <td>Male</td>\n      <td>No</td>\n      <td>Sun</td>\n      <td>Dinner</td>\n      <td>4</td>\n    </tr>\n    <tr>\n      <th>159</th>\n      <td>16.49</td>\n      <td>2.00</td>\n      <td>Male</td>\n      <td>No</td>\n      <td>Sun</td>\n      <td>Dinner</td>\n      <td>4</td>\n    </tr>\n    <tr>\n      <th>155</th>\n      <td>29.85</td>\n      <td>5.14</td>\n      <td>Female</td>\n      <td>No</td>\n      <td>Sun</td>\n      <td>Dinner</td>\n      <td>5</td>\n    </tr>\n    <tr>\n      <th>185</th>\n      <td>20.69</td>\n      <td>5.00</td>\n      <td>Male</td>\n      <td>No</td>\n      <td>Sun</td>\n      <td>Dinner</td>\n      <td>5</td>\n    </tr>\n    <tr>\n      <th>156</th>\n      <td>48.17</td>\n      <td>5.00</td>\n      <td>Male</td>\n      <td>No</td>\n      <td>Sun</td>\n      <td>Dinner</td>\n      <td>6</td>\n    </tr>\n  </tbody>\n</table>\n<p>102 rows × 7 columns</p>\n</div>"
          },
          "metadata": {},
          "execution_count": 18
        }
      ]
    },
    {
      "cell_type": "markdown",
      "metadata": {
        "id": "161t_hLPctz4"
      },
      "source": [
        "\n",
        "🏷️ 19.  Agregar una columna que corresponda al porcentaje de la propina abonado por el comensal."
      ]
    },
    {
      "cell_type": "code",
      "metadata": {
        "id": "xmtQlqZjcZSQ"
      },
      "source": [
        "df[\"porc_propina\"] = (df[\"tip\"] / df[\"total_bill\"])*100"
      ],
      "execution_count": 19,
      "outputs": []
    },
    {
      "cell_type": "markdown",
      "metadata": {
        "id": "RZryooU3c8qi"
      },
      "source": [
        "\n",
        "🏷️ 20.  Modificar la columna realizada en el paso anterior y redondear los decimales en 2."
      ]
    },
    {
      "cell_type": "code",
      "metadata": {
        "id": "wRfMYdtYc617"
      },
      "source": [
        "df[\"porc_propina\"] = round((df[\"tip\"] / df[\"total_bill\"])*100,4)"
      ],
      "execution_count": 20,
      "outputs": []
    },
    {
      "cell_type": "markdown",
      "metadata": {
        "id": "yOTec3EodC0O"
      },
      "source": [
        "\n",
        "🏷️ 21.  Cuantos registros corresponde a mujeres y cuantos a hombres."
      ]
    },
    {
      "cell_type": "code",
      "metadata": {
        "id": "fn1k-iX1dD6a"
      },
      "source": [
        "df[\"sex\"].value_counts(normalize=True)"
      ],
      "execution_count": 21,
      "outputs": [
        {
          "output_type": "execute_result",
          "data": {
            "text/plain": [
              "Male      0.643443\n",
              "Female    0.356557\n",
              "Name: sex, dtype: float64"
            ]
          },
          "metadata": {},
          "execution_count": 21
        }
      ]
    },
    {
      "cell_type": "code",
      "execution_count": 22,
      "metadata": {},
      "outputs": [
        {
          "output_type": "execute_result",
          "data": {
            "text/plain": [
              "sex     smoker\n",
              "Male    No        0.397541\n",
              "        Yes       0.245902\n",
              "Female  No        0.221311\n",
              "        Yes       0.135246\n",
              "dtype: float64"
            ]
          },
          "metadata": {},
          "execution_count": 22
        }
      ],
      "source": [
        "df[[\"sex\",\"smoker\"]].value_counts(normalize=True)"
      ]
    },
    {
      "cell_type": "markdown",
      "metadata": {
        "id": "cgb_Cq-UdK5y"
      },
      "source": [
        "\n",
        "🏷️ 22.  Cuantos registros hay por dia de la semana y tipo de comida"
      ]
    },
    {
      "cell_type": "code",
      "metadata": {
        "id": "g2Wl4n2FdKUg"
      },
      "source": [
        "df [['day', 'time']].value_counts(normalize= True)"
      ],
      "execution_count": 23,
      "outputs": [
        {
          "output_type": "execute_result",
          "data": {
            "text/plain": [
              "day   time  \n",
              "Sat   Dinner    0.356557\n",
              "Sun   Dinner    0.311475\n",
              "Thur  Lunch     0.250000\n",
              "Fri   Dinner    0.049180\n",
              "      Lunch     0.028689\n",
              "Thur  Dinner    0.004098\n",
              "dtype: float64"
            ]
          },
          "metadata": {},
          "execution_count": 23
        }
      ]
    }
  ]
}
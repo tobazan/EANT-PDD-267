{
 "metadata": {
  "language_info": {
   "codemirror_mode": {
    "name": "ipython",
    "version": 3
   },
   "file_extension": ".py",
   "mimetype": "text/x-python",
   "name": "python",
   "nbconvert_exporter": "python",
   "pygments_lexer": "ipython3",
   "version": "3.8.7"
  },
  "orig_nbformat": 2,
  "kernelspec": {
   "name": "python387jvsc74a57bd01cb3c4095699f2a8cd6a12889e7edb42215ac8b2afd459e3e81282dc1470f9b2",
   "display_name": "Python 3.8.7 64-bit"
  },
  "metadata": {
   "interpreter": {
    "hash": "1cb3c4095699f2a8cd6a12889e7edb42215ac8b2afd459e3e81282dc1470f9b2"
   }
  }
 },
 "nbformat": 4,
 "nbformat_minor": 2,
 "cells": [
  {
   "source": [
    "## TRABAJANDO CON APIS\n",
    "\n",
    "En este caso vamos a estar trabajando con la de Open Weather Map \n",
    "\n",
    "___"
   ],
   "cell_type": "markdown",
   "metadata": {}
  },
  {
   "cell_type": "code",
   "execution_count": 1,
   "metadata": {},
   "outputs": [],
   "source": [
    "import requests\n",
    "import pprint\n",
    "import json"
   ]
  },
  {
   "cell_type": "code",
   "execution_count": 3,
   "metadata": {},
   "outputs": [],
   "source": [
    "#para no exponer la key - para no subir el archivo .env hay que sumarlo al .gitignore\n",
    "import os\n",
    "from dotenv import load_dotenv\n",
    "\n",
    "load_dotenv()\n",
    "key = os.getenv('API_KEY')"
   ]
  },
  {
   "source": [
    "___\n",
    "\n",
    "## TAREA LUNES 05 ABR\n",
    "\n",
    "Luego de haber probado la key haciendo algunas requests al endpoint, se presenta la tarea\n",
    "\n",
    "Consiste en leer un csv con ciudades donde se encuentran las sucursules de una cadena de hoteles y pegarle al endpoint de la API con cada ciudad\n",
    "\n",
    "___"
   ],
   "cell_type": "markdown",
   "metadata": {}
  },
  {
   "cell_type": "code",
   "execution_count": 4,
   "metadata": {},
   "outputs": [],
   "source": [
    "def pronostico(ciudad, provincia, pais ='Argentina'):\n",
    "    api = 'https://api.openweathermap.org/data/2.5/'\n",
    "\n",
    "    ciudad = f'{ciudad},{provincia},{pais}'\n",
    "    ciudad_cod = requests.utils.quote(ciudad)\n",
    "    url = f'{api}weather?q={ciudad_cod}&lang=es&appid={key}'\n",
    "    \n",
    "    if requests.get(url).status_code == 404:\n",
    "            ciudad = f'{ciudad},{pais}'\n",
    "            ciudad_cod = requests.utils.quote(ciudad)\n",
    "            url = f'{api}weather?q={ciudad_cod}&lang=es&appid={key}'\n",
    "            \n",
    "            if requests.get(url).status_code == 404:\n",
    "                ciudad = f'{provincia},{pais}'\n",
    "                ciudad_cod = requests.utils.quote(ciudad)\n",
    "                url = f'{api}weather?q={ciudad_cod}&lang=es&appid={key}'\n",
    "\n",
    "                if requests.get(url).status_code == 404:\n",
    "                    descripcion = 'No encontrada'\n",
    "                    return descripcion\n",
    "\n",
    "    objeto = json.loads(requests.get(url).text)\n",
    "\n",
    "    descripcion = objeto['weather'][0]['description']\n",
    "    t_max = round((float(objeto['main']['temp_max']) - 273), 2)\n",
    "    t_min = round((float(objeto['main']['temp_min']) - 273), 2)\n",
    "    humedad = objeto['main']['humidity']\n",
    "\n",
    "    return descripcion, t_max, t_min, humedad"
   ]
  },
  {
   "cell_type": "code",
   "execution_count": 5,
   "metadata": {},
   "outputs": [
    {
     "output_type": "stream",
     "name": "stdout",
     "text": [
      "\n",
      "Ciudad de Buenos Aires, Buenos aires\n",
      "\n",
      "\tSe espera cielo claro\n",
      "\tMaxima de 26.82°C\n",
      "\tMinima de 24.15°C\n",
      "\tHumedad del 78%\n",
      "\n",
      "Merlo, San Luis\n",
      "\n",
      "\tSe espera cielo claro\n",
      "\tMaxima de 28.48°C\n",
      "\tMinima de 25.71°C\n",
      "\tHumedad del 60%\n",
      "\n",
      "Ushuaia, Tierra del Fuego\n",
      "\n",
      "\tSe espera lluvia ligera\n",
      "\tMaxima de 6.15°C\n",
      "\tMinima de 6.15°C\n",
      "\tHumedad del 100%\n",
      "\n",
      "Villa General Belgrano, Córdoba\n",
      "\n",
      "\tSe espera muy nuboso\n",
      "\tMaxima de 21.26°C\n",
      "\tMinima de 21.26°C\n",
      "\tHumedad del 86%\n",
      "\n",
      "Ibera, Corrientes\n",
      "\n",
      "\tSe espera cielo claro\n",
      "\tMaxima de 30.15°C\n",
      "\tMinima de 28.15°C\n",
      "\tHumedad del 65%\n",
      "\n",
      "Rosario, Santa Fé\n",
      "\n",
      "\tSe espera cielo claro\n",
      "\tMaxima de 25.15°C\n",
      "\tMinima de 25.15°C\n",
      "\tHumedad del 73%\n",
      "\n",
      "Puerto Madryn, Rio Negro\n",
      "\n",
      "\tSe espera nubes\n",
      "\tMaxima de 19.67°C\n",
      "\tMinima de 19.67°C\n",
      "\tHumedad del 48%\n",
      "\n",
      "San Martín de los Andes, Mendoza\n",
      "\n",
      "\tSe espera nubes dispersas\n",
      "\tMaxima de 13.77°C\n",
      "\tMinima de 13.77°C\n",
      "\tHumedad del 57%\n",
      "\n",
      "Bariloche, Rio Negro\n",
      "\n",
      "\tSe espera nubes\n",
      "\tMaxima de 15.71°C\n",
      "\tMinima de 15.71°C\n",
      "\tHumedad del 97%\n",
      "\n",
      "San Juan, San Juan\n",
      "\n",
      "\tSe espera cielo claro\n",
      "\tMaxima de 26.94°C\n",
      "\tMinima de 26.94°C\n",
      "\tHumedad del 49%\n",
      "\n",
      "Tartagal, Salta\n",
      "\n",
      "\tSe espera muy nuboso\n",
      "\tMaxima de 29.15°C\n",
      "\tMinima de 28.48°C\n",
      "\tHumedad del 74%\n"
     ]
    }
   ],
   "source": [
    "with open('./sucursales_sol_360.csv', 'r') as sucursales:\n",
    "    for linea in sucursales:\n",
    "        lista = linea.split(';')\n",
    "        ciudad = lista[0]\n",
    "        provincia = lista[1].replace('\\n','')\n",
    "        print(f'\\n{ciudad}, {provincia}\\n')\n",
    "        clima = pronostico(ciudad, provincia)\n",
    "        print(f'\\tSe espera {clima[0]}')\n",
    "        print(f'\\tMaxima de {clima[1]}°C')\n",
    "        print(f'\\tMinima de {clima[2]}°C')\n",
    "        print(f'\\tHumedad del {clima[3]}%')"
   ]
  }
 ]
}
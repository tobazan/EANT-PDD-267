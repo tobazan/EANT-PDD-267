{
 "metadata": {
  "language_info": {
   "codemirror_mode": {
    "name": "ipython",
    "version": 3
   },
   "file_extension": ".py",
   "mimetype": "text/x-python",
   "name": "python",
   "nbconvert_exporter": "python",
   "pygments_lexer": "ipython3",
   "version": "3.8.7"
  },
  "orig_nbformat": 2,
  "kernelspec": {
   "name": "python387jvsc74a57bd01cb3c4095699f2a8cd6a12889e7edb42215ac8b2afd459e3e81282dc1470f9b2",
   "display_name": "Python 3.8.7 64-bit"
  },
  "metadata": {
   "interpreter": {
    "hash": "1cb3c4095699f2a8cd6a12889e7edb42215ac8b2afd459e3e81282dc1470f9b2"
   }
  }
 },
 "nbformat": 4,
 "nbformat_minor": 2,
 "cells": [
  {
   "source": [
    "## TRABAJANDO CON APIS\n",
    "\n",
    "En este caso vamos a estar trabajando con la de Open Weather Map \n",
    "\n",
    "___"
   ],
   "cell_type": "markdown",
   "metadata": {}
  },
  {
   "cell_type": "code",
   "execution_count": 13,
   "metadata": {},
   "outputs": [],
   "source": [
    "import requests\n",
    "import pprint\n",
    "import json"
   ]
  },
  {
   "cell_type": "code",
   "execution_count": 14,
   "metadata": {},
   "outputs": [],
   "source": [
    "key = '93ad996d3cb637756a1b3dc51013d81e'\n",
    "\n",
    "#ciudad = 'san juan, argentina'\n",
    "#ciudad_cod = requests.utils.quote(ciudad)\n",
    "\n",
    "#url = f'https://api.openweathermap.org/data/2.5/weather?q={ciudad_cod}&lang=es&appid={key}'\n",
    "\n",
    "#objeto = json.loads(requests.get(url).text)\n",
    "#pprin.pprint(objeto)"
   ]
  },
  {
   "source": [
    "___\n",
    "\n",
    "## TAREA LUNES 05 ABR\n",
    "\n",
    "Luego de haber probado la key haciendo algunas requests al endpoint, se presenta la tarea\n",
    "\n",
    "Consiste en leer un csv con ciudades donde se encuentran las sucursules de una cadena de hoteles y pegarle al endpoint de la API con cada ciudad.capitalize\n",
    "\n",
    "___"
   ],
   "cell_type": "markdown",
   "metadata": {}
  },
  {
   "cell_type": "code",
   "execution_count": 15,
   "metadata": {},
   "outputs": [],
   "source": [
    "def pronostico(ciudad, provincia, pais ='Argentina'):\n",
    "    api = 'https://api.openweathermap.org/data/2.5/'\n",
    "\n",
    "    ciudad = f'{ciudad},{provincia},{pais}'\n",
    "    ciudad_cod = requests.utils.quote(ciudad)\n",
    "    url = f'{api}weather?q={ciudad_cod}&lang=es&appid={key}'\n",
    "    \n",
    "    if requests.get(url).status_code == 404:\n",
    "            ciudad = f'{ciudad},{pais}'\n",
    "            ciudad_cod = requests.utils.quote(ciudad)\n",
    "            url = f'{api}weather?q={ciudad_cod}&lang=es&appid={key}'\n",
    "            \n",
    "            if requests.get(url).status_code == 404:\n",
    "                ciudad = f'{provincia},{pais}'\n",
    "                ciudad_cod = requests.utils.quote(ciudad)\n",
    "                url = f'{api}weather?q={ciudad_cod}&lang=es&appid={key}'\n",
    "\n",
    "                if requests.get(url).status_code == 404:\n",
    "                    descripcion = 'No encontrada'\n",
    "                    return descripcion\n",
    "\n",
    "    objeto = json.loads(requests.get(url).text)\n",
    "\n",
    "    descripcion = objeto['weather'][0]['description']\n",
    "    t_max = round((float(objeto['main']['temp_max']) - 273), 2)\n",
    "    t_min = round((float(objeto['main']['temp_min']) - 273), 2)\n",
    "    humedad = objeto['main']['humidity']\n",
    "\n",
    "    return descripcion, t_max, t_min, humedad"
   ]
  },
  {
   "cell_type": "code",
   "execution_count": 18,
   "metadata": {},
   "outputs": [
    {
     "output_type": "stream",
     "name": "stdout",
     "text": [
      "\n",
      "Ciudad de Buenos Aires, Buenos aires\n",
      "\n",
      "\tSe espera algo de nubes\n",
      "\tMaxima de 27.37°C\n",
      "\tMinima de 24.15°C\n",
      "\tHumedad del 83%\n",
      "\n",
      "Merlo, San Luis\n",
      "\n",
      "\tSe espera cielo claro\n",
      "\tMaxima de 29.59°C\n",
      "\tMinima de 25.15°C\n",
      "\tHumedad del 55%\n",
      "\n",
      "Ushuaia, Tierra del Fuego\n",
      "\n",
      "\tSe espera lluvia ligera\n",
      "\tMaxima de 12.15°C\n",
      "\tMinima de 12.15°C\n",
      "\tHumedad del 58%\n",
      "\n",
      "Villa General Belgrano, Córdoba\n",
      "\n",
      "\tSe espera algo de nubes\n",
      "\tMaxima de 25.71°C\n",
      "\tMinima de 24.04°C\n",
      "\tHumedad del 67%\n",
      "\n",
      "Ibera, Corrientes\n",
      "\n",
      "\tSe espera nubes dispersas\n",
      "\tMaxima de 26.15°C\n",
      "\tMinima de 25.15°C\n",
      "\tHumedad del 69%\n",
      "\n",
      "Rosario, Santa Fé\n",
      "\n",
      "\tSe espera algo de nubes\n",
      "\tMaxima de 27.93°C\n",
      "\tMinima de 23.15°C\n",
      "\tHumedad del 88%\n",
      "\n",
      "Puerto Madryn, Rio Negro\n",
      "\n",
      "\tSe espera niebla\n",
      "\tMaxima de 17.15°C\n",
      "\tMinima de 17.15°C\n",
      "\tHumedad del 94%\n",
      "\n",
      "San Martín de los Andes, Mendoza\n",
      "\n",
      "\tSe espera nubes\n",
      "\tMaxima de 16.97°C\n",
      "\tMinima de 16.97°C\n",
      "\tHumedad del 55%\n",
      "\n",
      "Bariloche, Rio Negro\n",
      "\n",
      "\tSe espera muy nuboso\n",
      "\tMaxima de 17.37°C\n",
      "\tMinima de 17.37°C\n",
      "\tHumedad del 95%\n",
      "\n",
      "San Juan, San Juan\n",
      "\n",
      "\tSe espera cielo claro\n",
      "\tMaxima de 32.74°C\n",
      "\tMinima de 32.74°C\n",
      "\tHumedad del 25%\n",
      "\n",
      "Tartagal, Salta\n",
      "\n",
      "\tSe espera muy nuboso\n",
      "\tMaxima de 32.15°C\n",
      "\tMinima de 30.71°C\n",
      "\tHumedad del 51%\n"
     ]
    }
   ],
   "source": [
    "with open('./sucursales_sol_360.csv', 'r') as sucursales:\n",
    "    for linea in sucursales:\n",
    "        lista = linea.split(';')\n",
    "        ciudad = lista[0]\n",
    "        provincia = lista[1].replace('\\n','')\n",
    "        print(f'\\n{ciudad}, {provincia}\\n')\n",
    "        clima = pronostico(ciudad, provincia)\n",
    "        print(f'\\tSe espera {clima[0]}')\n",
    "        print(f'\\tMaxima de {clima[1]}°C')\n",
    "        print(f'\\tMinima de {clima[2]}°C')\n",
    "        print(f'\\tHumedad del {clima[3]}%')"
   ]
  }
 ]
}
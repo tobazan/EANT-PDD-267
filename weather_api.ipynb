{
 "metadata": {
  "language_info": {
   "codemirror_mode": {
    "name": "ipython",
    "version": 3
   },
   "file_extension": ".py",
   "mimetype": "text/x-python",
   "name": "python",
   "nbconvert_exporter": "python",
   "pygments_lexer": "ipython3",
   "version": "3.8.7"
  },
  "orig_nbformat": 2,
  "kernelspec": {
   "name": "python387jvsc74a57bd01cb3c4095699f2a8cd6a12889e7edb42215ac8b2afd459e3e81282dc1470f9b2",
   "display_name": "Python 3.8.7 64-bit"
  },
  "metadata": {
   "interpreter": {
    "hash": "1cb3c4095699f2a8cd6a12889e7edb42215ac8b2afd459e3e81282dc1470f9b2"
   }
  }
 },
 "nbformat": 4,
 "nbformat_minor": 2,
 "cells": [
  {
   "source": [
    "## TRABAJANDO CON APIS\n",
    "\n",
    "En este caso vamos a estar trabajando con la de Open Weather Map \n",
    "\n",
    "___"
   ],
   "cell_type": "markdown",
   "metadata": {}
  },
  {
   "cell_type": "code",
   "execution_count": 11,
   "metadata": {},
   "outputs": [],
   "source": [
    "import requests\n",
    "import pprint\n",
    "import json"
   ]
  },
  {
   "cell_type": "code",
   "execution_count": 12,
   "metadata": {},
   "outputs": [],
   "source": [
    "#la key como var de entorno - para no subir el .env sumarlo al .gitignore\n",
    "import os\n",
    "from dotenv import load_dotenv\n",
    "\n",
    "load_dotenv()\n",
    "w_key = os.getenv('WEATHER_MAP_KEY')\n",
    "g_key = os.getenv('OPEN_CAGE_KEY')"
   ]
  },
  {
   "source": [
    "___\n",
    "\n",
    "## TAREA LUNES 05 ABR\n",
    "\n",
    "Luego de haber probado la key haciendo algunas requests al endpoint, se presenta la tarea\n",
    "\n",
    "Consiste en leer un csv con ciudades donde se encuentran las sucursules de una cadena de hoteles y pegarle al endpoint de la API con cada ciudad\n",
    "\n",
    "___"
   ],
   "cell_type": "markdown",
   "metadata": {}
  },
  {
   "cell_type": "code",
   "execution_count": 13,
   "metadata": {},
   "outputs": [],
   "source": [
    "def geoloc(ciudad, provincia, pais='Argentina'):\n",
    "    api = 'https://api.opencagedata.com/geocode/v1/json?q='\n",
    "\n",
    "    ciudad = f'{ciudad}, {provincia}'\n",
    "    ciudad_cod = requests.utils.quote(ciudad)\n",
    "    url = f'{api}{ciudad_cod}&key={g_key}&language=es'\n",
    "\n",
    "    objeto = json.loads(requests.get(url).text)\n",
    "    c_long = objeto['results'][0]['geometry']['lng']\n",
    "    c_lat = objeto['results'][0]['geometry']['lat']\n",
    "    \n",
    "    return c_long, c_lat"
   ]
  },
  {
   "cell_type": "code",
   "execution_count": 14,
   "metadata": {},
   "outputs": [],
   "source": [
    "def pronostico(coord_lng, coord_lat):\n",
    "    api = 'http://api.openweathermap.org/data/2.5/weather?lat='\n",
    "\n",
    "    url = f'{api}{coord_lat}&lon={coord_lng}&lang=es&appid={w_key}'\n",
    "    \n",
    "    objeto = json.loads(requests.get(url).text)\n",
    "\n",
    "    descripcion = objeto['weather'][0]['description']\n",
    "    t_max = round((float(objeto['main']['temp_max']) - 273), 2)\n",
    "    t_min = round((float(objeto['main']['temp_min']) - 273), 2)\n",
    "    humedad = objeto['main']['humidity']\n",
    "\n",
    "    return descripcion, t_max, t_min, humedad"
   ]
  },
  {
   "cell_type": "code",
   "execution_count": 21,
   "metadata": {},
   "outputs": [
    {
     "output_type": "stream",
     "name": "stdout",
     "text": [
      "\n",
      "Ciudad de Buenos Aires, Buenos aires\n",
      "\n",
      "\tSe espera cielo claro\n",
      "\tMaxima de 26.26°C\n",
      "\tMinima de 24.59°C\n",
      "\tHumedad del 73%\n",
      "\n",
      "Merlo, San Luis\n",
      "\n",
      "\tSe espera muy nuboso\n",
      "\tMaxima de 27.37°C\n",
      "\tMinima de 25.71°C\n",
      "\tHumedad del 72%\n",
      "\n",
      "Ushuaia, Tierra del Fuego\n",
      "\n",
      "\tSe espera muy nuboso\n",
      "\tMaxima de 9.15°C\n",
      "\tMinima de 9.15°C\n",
      "\tHumedad del 81%\n",
      "\n",
      "Villa General Belgrano, Córdoba\n",
      "\n",
      "\tSe espera nubes\n",
      "\tMaxima de 21.26°C\n",
      "\tMinima de 21.26°C\n",
      "\tHumedad del 87%\n",
      "\n",
      "Ibera, Corrientes\n",
      "\n",
      "\tSe espera cielo claro\n",
      "\tMaxima de 27.15°C\n",
      "\tMinima de 26.26°C\n",
      "\tHumedad del 69%\n",
      "\n",
      "Rosario, Santa Fé\n",
      "\n",
      "\tSe espera cielo claro\n",
      "\tMaxima de 27.15°C\n",
      "\tMinima de 26.82°C\n",
      "\tHumedad del 61%\n",
      "\n",
      "Puerto Madryn, Rio Negro\n",
      "\n",
      "\tSe espera cielo claro\n",
      "\tMaxima de 19.67°C\n",
      "\tMinima de 19.67°C\n",
      "\tHumedad del 49%\n",
      "\n",
      "San Martín de los Andes, Mendoza\n",
      "\n",
      "\tSe espera cielo claro\n",
      "\tMaxima de 20.15°C\n",
      "\tMinima de 20.15°C\n",
      "\tHumedad del 99%\n",
      "\n",
      "Bariloche, Rio Negro\n",
      "\n",
      "\tSe espera lluvia ligera\n",
      "\tMaxima de 10.79°C\n",
      "\tMinima de 10.79°C\n",
      "\tHumedad del 95%\n",
      "\n",
      "San Juan, San Juan\n",
      "\n",
      "\tSe espera cielo claro\n",
      "\tMaxima de 27.15°C\n",
      "\tMinima de 26.82°C\n",
      "\tHumedad del 61%\n",
      "\n",
      "Tartagal, Salta\n",
      "\n",
      "\tSe espera muy nuboso\n",
      "\tMaxima de 26.82°C\n",
      "\tMinima de 26.82°C\n",
      "\tHumedad del 83%\n"
     ]
    }
   ],
   "source": [
    "with open('./sucursales_sol_360.csv', 'r') as sucursales:\n",
    "    for linea in sucursales:\n",
    "        lista = linea.split(';')\n",
    "        ciudad = lista[0]\n",
    "        provincia = lista[1].replace('\\n','')\n",
    "        print(f'\\n{ciudad}, {provincia}\\n')\n",
    "        coords = geoloc(ciudad, provincia)\n",
    "        clima = pronostico(coords[0],coords[1])\n",
    "        print(f'\\tSe espera {clima[0]}')\n",
    "        print(f'\\tMaxima de {clima[1]}°C')\n",
    "        print(f'\\tMinima de {clima[2]}°C')\n",
    "        print(f'\\tHumedad del {clima[3]}%')"
   ]
  }
 ]
}
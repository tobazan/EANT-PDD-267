{
 "metadata": {
  "language_info": {
   "codemirror_mode": {
    "name": "ipython",
    "version": 3
   },
   "file_extension": ".py",
   "mimetype": "text/x-python",
   "name": "python",
   "nbconvert_exporter": "python",
   "pygments_lexer": "ipython3",
   "version": "3.8.7"
  },
  "orig_nbformat": 2,
  "kernelspec": {
   "name": "python387jvsc74a57bd01cb3c4095699f2a8cd6a12889e7edb42215ac8b2afd459e3e81282dc1470f9b2",
   "display_name": "Python 3.8.7 64-bit"
  },
  "metadata": {
   "interpreter": {
    "hash": "1cb3c4095699f2a8cd6a12889e7edb42215ac8b2afd459e3e81282dc1470f9b2"
   }
  }
 },
 "nbformat": 4,
 "nbformat_minor": 2,
 "cells": [
  {
   "cell_type": "code",
   "execution_count": 1,
   "metadata": {},
   "outputs": [],
   "source": [
    "import requests\n",
    "import pprint\n",
    "import json"
   ]
  },
  {
   "cell_type": "code",
   "execution_count": 12,
   "metadata": {},
   "outputs": [],
   "source": [
    "key = '93ad996d3cb637756a1b3dc51013d81e'\n",
    "\n",
    "ciudad = 'san juan, argentina'\n",
    "ciudad_cod = requests.utils.quote(ciudad)\n",
    "\n",
    "url = f'https://api.openweathermap.org/data/2.5/weather?q={ciudad_cod}&lang=es&appid={key}'\n",
    "\n",
    "objeto = json.loads(requests.get(url).text)"
   ]
  },
  {
   "cell_type": "code",
   "execution_count": 13,
   "metadata": {},
   "outputs": [
    {
     "output_type": "stream",
     "name": "stdout",
     "text": [
      "{'base': 'stations',\n 'clouds': {'all': 21},\n 'cod': 200,\n 'coord': {'lat': -31.5375, 'lon': -68.5364},\n 'dt': 1617668491,\n 'id': 3837213,\n 'main': {'feels_like': 299.79,\n          'grnd_level': 937,\n          'humidity': 37,\n          'pressure': 1008,\n          'sea_level': 1008,\n          'temp': 300.03,\n          'temp_max': 300.03,\n          'temp_min': 300.03},\n 'name': 'San Juan',\n 'sys': {'country': 'AR', 'sunrise': 1617619679, 'sunset': 1617661508},\n 'timezone': -10800,\n 'visibility': 10000,\n 'weather': [{'description': 'algo de nubes',\n              'icon': '02n',\n              'id': 801,\n              'main': 'Clouds'}],\n 'wind': {'deg': 205, 'gust': 6.37, 'speed': 4.3}}\n"
     ]
    }
   ],
   "source": [
    "pprint.pprint(objeto)"
   ]
  },
  {
   "cell_type": "code",
   "execution_count": 21,
   "metadata": {},
   "outputs": [
    {
     "output_type": "execute_result",
     "data": {
      "text/plain": [
       "('algo de nubes', 27.03, 27.03, 37)"
      ]
     },
     "metadata": {},
     "execution_count": 21
    }
   ],
   "source": [
    "descripcion = objeto['weather'][0]['description']\n",
    "t_max = round((float(objeto['main']['temp_max']) - 273), 2)\n",
    "t_min = round((float(objeto['main']['temp_min']) - 273), 2)\n",
    "humedad = objeto['main']['humidity']\n",
    "\n",
    "descripcion, t_max, t_min, humedad"
   ]
  },
  {
   "cell_type": "code",
   "execution_count": null,
   "metadata": {},
   "outputs": [],
   "source": []
  }
 ]
}